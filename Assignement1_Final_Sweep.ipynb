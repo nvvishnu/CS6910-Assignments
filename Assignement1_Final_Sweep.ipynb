{
  "nbformat": 4,
  "nbformat_minor": 0,
  "metadata": {
    "colab": {
      "name": " Assignement1_Final_Sweep.ipynb",
      "provenance": [],
      "collapsed_sections": [],
      "toc_visible": true,
      "include_colab_link": true
    },
    "kernelspec": {
      "display_name": "Python 3",
      "name": "python3"
    },
    "widgets": {
      "application/vnd.jupyter.widget-state+json": {
        "dbf4ce3667d243689f2a3149a146fe76": {
          "model_module": "@jupyter-widgets/controls",
          "model_name": "VBoxModel",
          "state": {
            "_view_name": "VBoxView",
            "_dom_classes": [],
            "_model_name": "VBoxModel",
            "_view_module": "@jupyter-widgets/controls",
            "_model_module_version": "1.5.0",
            "_view_count": null,
            "_view_module_version": "1.5.0",
            "box_style": "",
            "layout": "IPY_MODEL_47c9f9b4911a4d60a22a6a6f9d4f2422",
            "_model_module": "@jupyter-widgets/controls",
            "children": [
              "IPY_MODEL_dd1b93d89a71420c95886611f03e8ac4",
              "IPY_MODEL_de0e9bd86b124fd9a8e3934a0a52d440"
            ]
          }
        },
        "47c9f9b4911a4d60a22a6a6f9d4f2422": {
          "model_module": "@jupyter-widgets/base",
          "model_name": "LayoutModel",
          "state": {
            "_view_name": "LayoutView",
            "grid_template_rows": null,
            "right": null,
            "justify_content": null,
            "_view_module": "@jupyter-widgets/base",
            "overflow": null,
            "_model_module_version": "1.2.0",
            "_view_count": null,
            "flex_flow": null,
            "width": null,
            "min_width": null,
            "border": null,
            "align_items": null,
            "bottom": null,
            "_model_module": "@jupyter-widgets/base",
            "top": null,
            "grid_column": null,
            "overflow_y": null,
            "overflow_x": null,
            "grid_auto_flow": null,
            "grid_area": null,
            "grid_template_columns": null,
            "flex": null,
            "_model_name": "LayoutModel",
            "justify_items": null,
            "grid_row": null,
            "max_height": null,
            "align_content": null,
            "visibility": null,
            "align_self": null,
            "height": null,
            "min_height": null,
            "padding": null,
            "grid_auto_rows": null,
            "grid_gap": null,
            "max_width": null,
            "order": null,
            "_view_module_version": "1.2.0",
            "grid_template_areas": null,
            "object_position": null,
            "object_fit": null,
            "grid_auto_columns": null,
            "margin": null,
            "display": null,
            "left": null
          }
        },
        "dd1b93d89a71420c95886611f03e8ac4": {
          "model_module": "@jupyter-widgets/controls",
          "model_name": "LabelModel",
          "state": {
            "_view_name": "LabelView",
            "style": "IPY_MODEL_573bd6efba9c4f0faeabc09149be366c",
            "_dom_classes": [],
            "description": "",
            "_model_name": "LabelModel",
            "placeholder": "​",
            "_view_module": "@jupyter-widgets/controls",
            "_model_module_version": "1.5.0",
            "value": " 0.01MB of 0.01MB uploaded (0.00MB deduped)\r",
            "_view_count": null,
            "_view_module_version": "1.5.0",
            "description_tooltip": null,
            "_model_module": "@jupyter-widgets/controls",
            "layout": "IPY_MODEL_9d59b9ce1299431da8640288100bed8a"
          }
        },
        "de0e9bd86b124fd9a8e3934a0a52d440": {
          "model_module": "@jupyter-widgets/controls",
          "model_name": "FloatProgressModel",
          "state": {
            "_view_name": "ProgressView",
            "style": "IPY_MODEL_f78b13f25165442d91354605acf682ba",
            "_dom_classes": [],
            "description": "",
            "_model_name": "FloatProgressModel",
            "bar_style": "",
            "max": 1,
            "_view_module": "@jupyter-widgets/controls",
            "_model_module_version": "1.5.0",
            "value": 1,
            "_view_count": null,
            "_view_module_version": "1.5.0",
            "orientation": "horizontal",
            "min": 0,
            "description_tooltip": null,
            "_model_module": "@jupyter-widgets/controls",
            "layout": "IPY_MODEL_d292200ee4d64960b94fe165bbb6aa98"
          }
        },
        "573bd6efba9c4f0faeabc09149be366c": {
          "model_module": "@jupyter-widgets/controls",
          "model_name": "DescriptionStyleModel",
          "state": {
            "_view_name": "StyleView",
            "_model_name": "DescriptionStyleModel",
            "description_width": "",
            "_view_module": "@jupyter-widgets/base",
            "_model_module_version": "1.5.0",
            "_view_count": null,
            "_view_module_version": "1.2.0",
            "_model_module": "@jupyter-widgets/controls"
          }
        },
        "9d59b9ce1299431da8640288100bed8a": {
          "model_module": "@jupyter-widgets/base",
          "model_name": "LayoutModel",
          "state": {
            "_view_name": "LayoutView",
            "grid_template_rows": null,
            "right": null,
            "justify_content": null,
            "_view_module": "@jupyter-widgets/base",
            "overflow": null,
            "_model_module_version": "1.2.0",
            "_view_count": null,
            "flex_flow": null,
            "width": null,
            "min_width": null,
            "border": null,
            "align_items": null,
            "bottom": null,
            "_model_module": "@jupyter-widgets/base",
            "top": null,
            "grid_column": null,
            "overflow_y": null,
            "overflow_x": null,
            "grid_auto_flow": null,
            "grid_area": null,
            "grid_template_columns": null,
            "flex": null,
            "_model_name": "LayoutModel",
            "justify_items": null,
            "grid_row": null,
            "max_height": null,
            "align_content": null,
            "visibility": null,
            "align_self": null,
            "height": null,
            "min_height": null,
            "padding": null,
            "grid_auto_rows": null,
            "grid_gap": null,
            "max_width": null,
            "order": null,
            "_view_module_version": "1.2.0",
            "grid_template_areas": null,
            "object_position": null,
            "object_fit": null,
            "grid_auto_columns": null,
            "margin": null,
            "display": null,
            "left": null
          }
        },
        "f78b13f25165442d91354605acf682ba": {
          "model_module": "@jupyter-widgets/controls",
          "model_name": "ProgressStyleModel",
          "state": {
            "_view_name": "StyleView",
            "_model_name": "ProgressStyleModel",
            "description_width": "",
            "_view_module": "@jupyter-widgets/base",
            "_model_module_version": "1.5.0",
            "_view_count": null,
            "_view_module_version": "1.2.0",
            "bar_color": null,
            "_model_module": "@jupyter-widgets/controls"
          }
        },
        "d292200ee4d64960b94fe165bbb6aa98": {
          "model_module": "@jupyter-widgets/base",
          "model_name": "LayoutModel",
          "state": {
            "_view_name": "LayoutView",
            "grid_template_rows": null,
            "right": null,
            "justify_content": null,
            "_view_module": "@jupyter-widgets/base",
            "overflow": null,
            "_model_module_version": "1.2.0",
            "_view_count": null,
            "flex_flow": null,
            "width": null,
            "min_width": null,
            "border": null,
            "align_items": null,
            "bottom": null,
            "_model_module": "@jupyter-widgets/base",
            "top": null,
            "grid_column": null,
            "overflow_y": null,
            "overflow_x": null,
            "grid_auto_flow": null,
            "grid_area": null,
            "grid_template_columns": null,
            "flex": null,
            "_model_name": "LayoutModel",
            "justify_items": null,
            "grid_row": null,
            "max_height": null,
            "align_content": null,
            "visibility": null,
            "align_self": null,
            "height": null,
            "min_height": null,
            "padding": null,
            "grid_auto_rows": null,
            "grid_gap": null,
            "max_width": null,
            "order": null,
            "_view_module_version": "1.2.0",
            "grid_template_areas": null,
            "object_position": null,
            "object_fit": null,
            "grid_auto_columns": null,
            "margin": null,
            "display": null,
            "left": null
          }
        }
      }
    }
  },
  "cells": [
    {
      "cell_type": "markdown",
      "metadata": {
        "id": "view-in-github",
        "colab_type": "text"
      },
      "source": [
        "<a href=\"https://colab.research.google.com/github/nvvishnu/CS6910-Assignments/blob/main/Assignement1_Final_Sweep.ipynb\" target=\"_parent\"><img src=\"https://colab.research.google.com/assets/colab-badge.svg\" alt=\"Open In Colab\"/></a>"
      ]
    },
    {
      "cell_type": "code",
      "metadata": {
        "id": "R2jhbImHGSyM",
        "colab": {
          "base_uri": "https://localhost:8080/"
        },
        "outputId": "dfe3b848-b6a3-4c77-8a29-c1da7b65f2f6"
      },
      "source": [
        "#Import the necessary packages\r\n",
        "\r\n",
        "!pip install wandb\r\n",
        "import pandas as pd\r\n",
        "import numpy as np\r\n",
        "import wandb\r\n",
        "from keras.datasets import fashion_mnist\r\n",
        "from matplotlib import pyplot\r\n",
        "import math\r\n",
        "from sklearn.model_selection import train_test_split\r\n",
        "import seaborn as sns #To plot confusion matrix as a heatmap"
      ],
      "execution_count": 1,
      "outputs": [
        {
          "output_type": "stream",
          "text": [
            "Collecting wandb\n",
            "\u001b[?25l  Downloading https://files.pythonhosted.org/packages/33/ae/79374d2b875e638090600eaa2a423479865b7590c53fb78e8ccf6a64acb1/wandb-0.10.22-py2.py3-none-any.whl (2.0MB)\n",
            "\u001b[K     |████████████████████████████████| 2.0MB 6.7MB/s \n",
            "\u001b[?25hRequirement already satisfied: psutil>=5.0.0 in /usr/local/lib/python3.7/dist-packages (from wandb) (5.4.8)\n",
            "Requirement already satisfied: requests<3,>=2.0.0 in /usr/local/lib/python3.7/dist-packages (from wandb) (2.23.0)\n",
            "Collecting pathtools\n",
            "  Downloading https://files.pythonhosted.org/packages/e7/7f/470d6fcdf23f9f3518f6b0b76be9df16dcc8630ad409947f8be2eb0ed13a/pathtools-0.1.2.tar.gz\n",
            "Requirement already satisfied: promise<3,>=2.0 in /usr/local/lib/python3.7/dist-packages (from wandb) (2.3)\n",
            "Collecting shortuuid>=0.5.0\n",
            "  Downloading https://files.pythonhosted.org/packages/25/a6/2ecc1daa6a304e7f1b216f0896b26156b78e7c38e1211e9b798b4716c53d/shortuuid-1.0.1-py3-none-any.whl\n",
            "Collecting GitPython>=1.0.0\n",
            "\u001b[?25l  Downloading https://files.pythonhosted.org/packages/a6/99/98019716955ba243657daedd1de8f3a88ca1f5b75057c38e959db22fb87b/GitPython-3.1.14-py3-none-any.whl (159kB)\n",
            "\u001b[K     |████████████████████████████████| 163kB 33.7MB/s \n",
            "\u001b[?25hCollecting docker-pycreds>=0.4.0\n",
            "  Downloading https://files.pythonhosted.org/packages/f5/e8/f6bd1eee09314e7e6dee49cbe2c5e22314ccdb38db16c9fc72d2fa80d054/docker_pycreds-0.4.0-py2.py3-none-any.whl\n",
            "Requirement already satisfied: python-dateutil>=2.6.1 in /usr/local/lib/python3.7/dist-packages (from wandb) (2.8.1)\n",
            "Collecting sentry-sdk>=0.4.0\n",
            "\u001b[?25l  Downloading https://files.pythonhosted.org/packages/f3/92/5a33be64990ba815364a8f2dd9e6f51de60d23dfddafb4f1fc5577d4dc64/sentry_sdk-1.0.0-py2.py3-none-any.whl (131kB)\n",
            "\u001b[K     |████████████████████████████████| 133kB 24.9MB/s \n",
            "\u001b[?25hCollecting configparser>=3.8.1\n",
            "  Downloading https://files.pythonhosted.org/packages/fd/01/ff260a18caaf4457eb028c96eeb405c4a230ca06c8ec9c1379f813caa52e/configparser-5.0.2-py3-none-any.whl\n",
            "Requirement already satisfied: PyYAML in /usr/local/lib/python3.7/dist-packages (from wandb) (3.13)\n",
            "Requirement already satisfied: six>=1.13.0 in /usr/local/lib/python3.7/dist-packages (from wandb) (1.15.0)\n",
            "Collecting subprocess32>=3.5.3\n",
            "\u001b[?25l  Downloading https://files.pythonhosted.org/packages/32/c8/564be4d12629b912ea431f1a50eb8b3b9d00f1a0b1ceff17f266be190007/subprocess32-3.5.4.tar.gz (97kB)\n",
            "\u001b[K     |████████████████████████████████| 102kB 7.4MB/s \n",
            "\u001b[?25hRequirement already satisfied: Click>=7.0 in /usr/local/lib/python3.7/dist-packages (from wandb) (7.1.2)\n",
            "Requirement already satisfied: protobuf>=3.12.0 in /usr/local/lib/python3.7/dist-packages (from wandb) (3.12.4)\n",
            "Requirement already satisfied: urllib3!=1.25.0,!=1.25.1,<1.26,>=1.21.1 in /usr/local/lib/python3.7/dist-packages (from requests<3,>=2.0.0->wandb) (1.24.3)\n",
            "Requirement already satisfied: idna<3,>=2.5 in /usr/local/lib/python3.7/dist-packages (from requests<3,>=2.0.0->wandb) (2.10)\n",
            "Requirement already satisfied: chardet<4,>=3.0.2 in /usr/local/lib/python3.7/dist-packages (from requests<3,>=2.0.0->wandb) (3.0.4)\n",
            "Requirement already satisfied: certifi>=2017.4.17 in /usr/local/lib/python3.7/dist-packages (from requests<3,>=2.0.0->wandb) (2020.12.5)\n",
            "Collecting gitdb<5,>=4.0.1\n",
            "\u001b[?25l  Downloading https://files.pythonhosted.org/packages/48/11/d1800bca0a3bae820b84b7d813ad1eff15a48a64caea9c823fc8c1b119e8/gitdb-4.0.5-py3-none-any.whl (63kB)\n",
            "\u001b[K     |████████████████████████████████| 71kB 5.2MB/s \n",
            "\u001b[?25hRequirement already satisfied: setuptools in /usr/local/lib/python3.7/dist-packages (from protobuf>=3.12.0->wandb) (54.0.0)\n",
            "Collecting smmap<4,>=3.0.1\n",
            "  Downloading https://files.pythonhosted.org/packages/d5/1e/6130925131f639b2acde0f7f18b73e33ce082ff2d90783c436b52040af5a/smmap-3.0.5-py2.py3-none-any.whl\n",
            "Building wheels for collected packages: pathtools, subprocess32\n",
            "  Building wheel for pathtools (setup.py) ... \u001b[?25l\u001b[?25hdone\n",
            "  Created wheel for pathtools: filename=pathtools-0.1.2-cp37-none-any.whl size=8786 sha256=bf1391ba76d3b65d3643fa9f1513ea8a2858436a901cfe5a2c5f08c9a8947293\n",
            "  Stored in directory: /root/.cache/pip/wheels/0b/04/79/c3b0c3a0266a3cb4376da31e5bfe8bba0c489246968a68e843\n",
            "  Building wheel for subprocess32 (setup.py) ... \u001b[?25l\u001b[?25hdone\n",
            "  Created wheel for subprocess32: filename=subprocess32-3.5.4-cp37-none-any.whl size=6489 sha256=b8729baa84dd7da13c486f9d4e47afd5d3cd506030df824bb7a4aea3a2348ab8\n",
            "  Stored in directory: /root/.cache/pip/wheels/68/39/1a/5e402bdfdf004af1786c8b853fd92f8c4a04f22aad179654d1\n",
            "Successfully built pathtools subprocess32\n",
            "Installing collected packages: pathtools, shortuuid, smmap, gitdb, GitPython, docker-pycreds, sentry-sdk, configparser, subprocess32, wandb\n",
            "Successfully installed GitPython-3.1.14 configparser-5.0.2 docker-pycreds-0.4.0 gitdb-4.0.5 pathtools-0.1.2 sentry-sdk-1.0.0 shortuuid-1.0.1 smmap-3.0.5 subprocess32-3.5.4 wandb-0.10.22\n"
          ],
          "name": "stdout"
        }
      ]
    },
    {
      "cell_type": "code",
      "metadata": {
        "id": "Y1OfVTIUo_g5",
        "colab": {
          "base_uri": "https://localhost:8080/"
        },
        "outputId": "00d0213a-5509-456d-9258-b1584b0465ad"
      },
      "source": [
        "(trainX, trainy), (testX, testy) = fashion_mnist.load_data() #Loading the testing and training datset of fashion_mnist dataset\r\n",
        "Xtrain = trainX\r\n",
        "Ytrain = trainy\r\n",
        "trainX, validateX, trainy, validatey = train_test_split(trainX,trainy, test_size=0.1, random_state=1) #Split trainining data into training and validation data\r\n",
        "\r\n",
        "#Normalization of training date\r\n",
        "trainX = trainX/255\r\n",
        "testX = testX/255\r\n",
        "validateX = validateX/255"
      ],
      "execution_count": 2,
      "outputs": [
        {
          "output_type": "stream",
          "text": [
            "Downloading data from https://storage.googleapis.com/tensorflow/tf-keras-datasets/train-labels-idx1-ubyte.gz\n",
            "32768/29515 [=================================] - 0s 0us/step\n",
            "Downloading data from https://storage.googleapis.com/tensorflow/tf-keras-datasets/train-images-idx3-ubyte.gz\n",
            "26427392/26421880 [==============================] - 0s 0us/step\n",
            "Downloading data from https://storage.googleapis.com/tensorflow/tf-keras-datasets/t10k-labels-idx1-ubyte.gz\n",
            "8192/5148 [===============================================] - 0s 0us/step\n",
            "Downloading data from https://storage.googleapis.com/tensorflow/tf-keras-datasets/t10k-images-idx3-ubyte.gz\n",
            "4423680/4422102 [==============================] - 0s 0us/step\n"
          ],
          "name": "stdout"
        }
      ]
    },
    {
      "cell_type": "code",
      "metadata": {
        "colab": {
          "base_uri": "https://localhost:8080/",
          "height": 648
        },
        "id": "O781OEmbGhxi",
        "outputId": "1b603d33-9165-42e3-b788-f9fa145735a0"
      },
      "source": [
        "#Logging into wandb; Intializing wandb with appropriate user name and project\r\n",
        "!wandb login \r\n",
        "wandb.init(project=\"cs6910-assignment1\", entity=\"nvvishnu\")"
      ],
      "execution_count": 3,
      "outputs": [
        {
          "output_type": "stream",
          "text": [
            "\u001b[34m\u001b[1mwandb\u001b[0m: You can find your API key in your browser here: https://wandb.ai/authorize\n",
            "\u001b[34m\u001b[1mwandb\u001b[0m: Paste an API key from your profile and hit enter: \n",
            "\u001b[34m\u001b[1mwandb\u001b[0m: Appending key for api.wandb.ai to your netrc file: /root/.netrc\n"
          ],
          "name": "stdout"
        },
        {
          "output_type": "stream",
          "text": [
            "\u001b[34m\u001b[1mwandb\u001b[0m: Currently logged in as: \u001b[33mnvvishnu\u001b[0m (use `wandb login --relogin` to force relogin)\n"
          ],
          "name": "stderr"
        },
        {
          "output_type": "display_data",
          "data": {
            "text/html": [
              "\n",
              "                Tracking run with wandb version 0.10.22<br/>\n",
              "                Syncing run <strong style=\"color:#cdcd00\">custard-bun-280</strong> to <a href=\"https://wandb.ai\" target=\"_blank\">Weights & Biases</a> <a href=\"https://docs.wandb.com/integrations/jupyter.html\" target=\"_blank\">(Documentation)</a>.<br/>\n",
              "                Project page: <a href=\"https://wandb.ai/nvvishnu/cs6910-assignment1\" target=\"_blank\">https://wandb.ai/nvvishnu/cs6910-assignment1</a><br/>\n",
              "                Run page: <a href=\"https://wandb.ai/nvvishnu/cs6910-assignment1/runs/1zxdvqad\" target=\"_blank\">https://wandb.ai/nvvishnu/cs6910-assignment1/runs/1zxdvqad</a><br/>\n",
              "                Run data is saved locally in <code>/content/wandb/run-20210314_152642-1zxdvqad</code><br/><br/>\n",
              "            "
            ],
            "text/plain": [
              "<IPython.core.display.HTML object>"
            ]
          },
          "metadata": {
            "tags": []
          }
        },
        {
          "output_type": "execute_result",
          "data": {
            "text/plain": [
              "<wandb.sdk.wandb_run.Run at 0x7f5811c9d850>"
            ],
            "text/html": [
              "<h1>Run(1zxdvqad)</h1><iframe src=\"https://wandb.ai/nvvishnu/cs6910-assignment1/runs/1zxdvqad\" style=\"border:none;width:100%;height:400px\"></iframe>"
            ]
          },
          "metadata": {
            "tags": []
          },
          "execution_count": 3
        }
      ]
    },
    {
      "cell_type": "code",
      "metadata": {
        "id": "dYmwBg_OYBZK"
      },
      "source": [
        "# The ten fashion class labels in fashion_mnist are as follows:\r\n",
        "\r\n",
        "# T-shirt/top\r\n",
        "# Trouser/pants\r\n",
        "# Pullover shirt\r\n",
        "# Dress\r\n",
        "# Coat\r\n",
        "# Sandal\r\n",
        "# Shirt\r\n",
        "# Sneaker\r\n",
        "# Bag\r\n",
        "# Ankle boot\r\n",
        "\r\n",
        "names = ['T-shirt/top','Trouser/pants','Pullover shirt','Dress','Coat','Sandal','Shirt','Sneaker','Bag','Ankle boot']\r\n",
        "images = []\r\n",
        "labels = []\r\n",
        "\r\n",
        "for i in range(Xtrain.shape[0]):\r\n",
        "   if(len(labels) == 10):\r\n",
        "      break\r\n",
        "   if(names[Ytrain[i]] not in labels):\r\n",
        "      images.append(Xtrain[i])\r\n",
        "      labels.append(names[Ytrain[i]])\r\n",
        "   \r\n",
        "wandb.log({\"DataSet Examples\": [wandb.Image(image,caption=label) for image,label in zip(images,labels)]})\r\n",
        "\r\n",
        "#Log sample images of each class to wandb\r\n"
      ],
      "execution_count": 4,
      "outputs": []
    },
    {
      "cell_type": "code",
      "metadata": {
        "id": "6MOAEoEsMQUR"
      },
      "source": [
        "#This cell contains the definition of helper functions\r\n",
        "\r\n",
        "#Definition of sigmoid activation function\r\n",
        "def logistic(z):\r\n",
        "  l = []\r\n",
        "\r\n",
        "  for i in z:\r\n",
        "     if (i[0]<-600): #To handle overflows\r\n",
        "       l.append(0)\r\n",
        "     else:\r\n",
        "       l.append(1./(1+math.exp(-i[0])))\r\n",
        "  \r\n",
        "  t = np.array(l)\r\n",
        "\r\n",
        "  t = t.reshape(t.shape[0],1)\r\n",
        "\r\n",
        "  return t\r\n",
        "\r\n",
        "#Definition of ReLU activation function\r\n",
        "def relu(z):\r\n",
        "  l=[]\r\n",
        "  for i in z:\r\n",
        "    l.append(max(0,i[0]))\r\n",
        "  t= np.array(l)\r\n",
        "  t = t.reshape(t.shape[0],1)\r\n",
        "  return t\r\n",
        "\r\n",
        "#Function to calculate gradient of ReLU activation function  \r\n",
        "def relu_grad(z):\r\n",
        "  l=[]\r\n",
        "  for i in z:\r\n",
        "    if(i[0]<0):\r\n",
        "      l.append(0)\r\n",
        "    else:\r\n",
        "      l.append(1)  \r\n",
        "  t= np.array(l)\r\n",
        "  t = t.reshape(t.shape[0],1)\r\n",
        "  return t  \r\n",
        "\r\n",
        "#Gradient of sigmoid activation function\r\n",
        "def log_grad(z):\r\n",
        "    return logistic(z)*(1-logistic(z))\r\n",
        "\r\n",
        "#Definition of tanh activation function\r\n",
        "def tanh(z):\r\n",
        "    l = []\r\n",
        "    for i in z:\r\n",
        "      if (i[0]>=600): #Handle overflows\r\n",
        "        l.append(1)\r\n",
        "      elif (i[0]<=(-600)):\r\n",
        "        l.append(-1)\r\n",
        "      else:\r\n",
        "        l.append((math.exp(i[0])-math.exp(-i[0]))/((math.exp(i[0])+math.exp(-i[0]))))\r\n",
        "        \r\n",
        "    t = np.array(l)\r\n",
        "    t = t.reshape(t.shape[0],1)\r\n",
        "    return t\r\n",
        "\r\n",
        "#Gradient of tanh activation function\r\n",
        "def tanh_grad(z):\r\n",
        "  return 1-((tanh(z))*(tanh(z)))\r\n",
        "  \r\n",
        "#Function to calculate cross-entropy loss\r\n",
        "def cross_entropy_loss(X_test,Y_test,weights,biases):\r\n",
        "    sum = 0\r\n",
        "    for i in range(Y_test.shape[0]):\r\n",
        "      y_ = feed_forward(X_test[i],logistic,weights,biases)[2]\r\n",
        "      if(Y_test[i]<y_.shape[0]):\r\n",
        "        if(y_[Y_test[i]][0] != 0):\r\n",
        "           sum = sum - math.log(y_[Y_test[i]][0])\r\n",
        "        else:\r\n",
        "           print(\"very bad\\n\")\r\n",
        "           sum = sum + 100000\r\n",
        "\r\n",
        "    return sum/Y_test.shape[0]\r\n",
        "\r\n",
        "#Function to calculate accuracy\r\n",
        "def accuracy(X_test,Y_test,weights,biases):\r\n",
        "    \r\n",
        "    sum = 0\r\n",
        "    cnt = 0\r\n",
        "\r\n",
        "    for i in range(Y_test.shape[0]):     \r\n",
        "      y_ = feed_forward(X_test[i],logistic,weights,biases)[2]\r\n",
        "      y_ = y_.flatten()\r\n",
        "      #print(y_)\r\n",
        "      j = np.argmax(y_)\r\n",
        "\r\n",
        "      if (Y_test[i] == j):\r\n",
        "        sum = sum+1\r\n",
        "\r\n",
        "    return sum/Y_test.shape[0]\r\n",
        "\r\n",
        "#Definition of softmax function\r\n",
        "def softmax(arr):    \r\n",
        "    l = []\r\n",
        "    flag = False\r\n",
        "    cnt = 0  \r\n",
        "    y = []\r\n",
        "    for i in range(arr.shape[0]) :  #Handle overflows\r\n",
        "      if(arr[i][0]<=600):\r\n",
        "         l.append(math.exp(arr[i][0]))\r\n",
        "      else:\r\n",
        "        flag = True\r\n",
        "        cnt = cnt + 1\r\n",
        "        y.append(i)\r\n",
        "\r\n",
        "    if(flag):       \r\n",
        "       temp = np.zeros(len(arr))    \r\n",
        "       for it in y:\r\n",
        "          temp[it] = 1.0/cnt;\r\n",
        "       temp = temp.reshape(temp.shape[0],1)           \r\n",
        "       return temp   \r\n",
        "         \r\n",
        "    if(np.sum(l) != 0):\r\n",
        "      l = np.array(l)\r\n",
        "      l = (l)/np.sum(l)\r\n",
        "      l = l.reshape((l.shape[0],1))\r\n",
        "      return l\r\n",
        "    else:\r\n",
        "       return (1.0/len(arr))*(np.ones(shape=(len(arr),1),dtype=float))\r\n",
        "\r\n",
        "#Helper function to perform operation on list. We decided to use store weights and biases to be able to support different size for each hidden layer easily.\r\n",
        "def upd_lst(lst1,lst2,operation,eeta): #Performs x 'operation' f(y) for each element x in lst1 and y in lst2. 'operation' - addition/subtraction/multiplication/square root of inverse\r\n",
        "   l = []\r\n",
        "   if(len(lst1)!=len(lst2)):\r\n",
        "    print(\"Lists are not of equal length\")\r\n",
        "   for (x,y) in zip(lst1,lst2):\r\n",
        "     if(operation == '+'):\r\n",
        "       l.append(x+(eeta*y))\r\n",
        "     elif(operation == '-'):\r\n",
        "       l.append(x-(eeta*y))\r\n",
        "     elif(operation == '*'):\r\n",
        "       l.append(x*y*eeta*eeta)\r\n",
        "     elif(operation == 'sqrt'):\r\n",
        "      # print(x,y,eeta)\r\n",
        "       l.append(x/np.sqrt(y+eeta))\r\n",
        "     elif(operation=='mult'):\r\n",
        "      l.append(x*eeta)\r\n",
        "\r\n",
        "   return l"
      ],
      "execution_count": null,
      "outputs": []
    },
    {
      "cell_type": "code",
      "metadata": {
        "id": "Jriaq5o4GmyT"
      },
      "source": [
        "#Feedforward neural network\r\n",
        "def feed_forward(X,activation_function,weights,biases,output_function=softmax):\r\n",
        "    \r\n",
        "    X = X.copy()\r\n",
        "    X = X.flatten()\r\n",
        "    num_hidden_layers = len(biases)\r\n",
        "\r\n",
        "    # X is the input (x1,x2,...,xn)\r\n",
        "    # activation_function is just the activation function s.t h_i = activation_function(a_i)\r\n",
        "    # weights is a list of m*n where n is number of neurons in previous layer and m is number of neurons in current layer assume 1 based indexing \r\n",
        "    # assuming output function O is softmax function\r\n",
        "    # biases is list of  [b1,b2,..,bk] for each layer\r\n",
        "\r\n",
        "    X = X.reshape((X.shape[0],1))\r\n",
        "    a = []\r\n",
        "    h = []\r\n",
        "    \r\n",
        "    for i in range(num_hidden_layers):\r\n",
        "       if(i == 0):\r\n",
        "         a.append(np.array(0))\r\n",
        "         h.append(X)\r\n",
        "       else:        \r\n",
        "        a.append(np.matmul(weights[i],h[i-1])+biases[i])\r\n",
        "        h.append(activation_function(a[len(a)-1]))\r\n",
        "    return [a,h,output_function(a[len(a)-1])]    "
      ],
      "execution_count": null,
      "outputs": []
    },
    {
      "cell_type": "code",
      "metadata": {
        "id": "IbZQU9bCsCJi"
      },
      "source": [
        "#Function to calculate gradients of cross entropy loss function with respect to weights and biases\r\n",
        "def calculate_gradients(y_true,y_out,h,a,weights,act_fn_derivative,weight_decay,biases):\r\n",
        "    \r\n",
        "    #delta(A_l) = -(e_ytrue - y_out)\r\n",
        "    #delta(h_i) = (W_i+1).Tdelta(A_i+1)  (for i = L-1 to 1)\r\n",
        "    #delta(A_i) = delta(h_i)*(activation_function'(A_i)) for(i = L-1 to 1)\r\n",
        "    #delta(W_k) = delta(A_k)(h_(k-1).T) for(i = L to i = 1)\r\n",
        "    #delta(b_k) = delta(A_k)\r\n",
        "\r\n",
        "    e = np.zeros(len(y_out))\r\n",
        "    e = e.reshape(e.shape[0],1)\r\n",
        "    e[y_true] = 1\r\n",
        "    A = y_out-e\r\n",
        "    l = len(h)\r\n",
        "    delta_W = []\r\n",
        "    delta_B = []\r\n",
        "    \r\n",
        "    delta_W.append(np.matmul(A,h[l-2].T))\r\n",
        "    delta_B.append(A)\r\n",
        "    l = l-2\r\n",
        "\r\n",
        "    while(l >= 1):\r\n",
        "       H = np.matmul(weights[l+1].T,A)\r\n",
        "       A = H*(act_fn_derivative(a[l]))     # assuming a is 1 based index \r\n",
        "       delta_W.append(np.matmul(A,h[l-1].T))\r\n",
        "       delta_B.append(A)\r\n",
        "       l = l-1\r\n",
        "    \r\n",
        "    delta_W.append(0)\r\n",
        "    delta_B.append(0)\r\n",
        "    delta_W.reverse()\r\n",
        "    delta_B.reverse()\r\n",
        "    delta_W=upd_lst(delta_W,weights,'+',weight_decay)\r\n",
        "    delta_B=upd_lst(delta_B,biases,'+',weight_decay)\r\n",
        "    return [delta_W,delta_B]\r\n",
        "\r\n",
        "    \r\n",
        "\r\n"
      ],
      "execution_count": null,
      "outputs": []
    },
    {
      "cell_type": "code",
      "metadata": {
        "id": "WP-FV-Ijsclo",
        "colab": {
          "base_uri": "https://localhost:8080/",
          "height": 130
        },
        "outputId": "f61da6d8-0875-4772-b9ee-1acd6dc82b80"
      },
      "source": [
        "#This cell contains the definition of different optimizers\r\n",
        "\r\n",
        "#sgd optimizer\r\n",
        "def sgd(X,Y,num_epochs,weight_decay,learning_rate,batch_size,weights,biases,activation_function,act_fn_derivative):    \r\n",
        "    for i in range(num_epochs): \r\n",
        "          cnt = 0\r\n",
        "          cum_W = [np.zeros(weights[i].shape) if(i != 0) else 0 for i in range(len(weights))]\r\n",
        "          cum_B = [np.zeros(biases[i].shape) if(i != 0) else 0 for i in range(len(biases))]\r\n",
        "          for j in range(X.shape[0]):\r\n",
        "\r\n",
        "            cnt = cnt + 1\r\n",
        "            r = feed_forward(X[j],activation_function,weights,biases)\r\n",
        "            a = r[0]\r\n",
        "            h = r[1]\r\n",
        "            yout = r[2]\r\n",
        "            gradients = calculate_gradients(Y[j],yout,h,a,weights,act_fn_derivative,weight_decay,biases)\r\n",
        "            cum_W = upd_lst(cum_W,gradients[0],'+',1)\r\n",
        "            cum_B = upd_lst(cum_B,gradients[1],'+',1)\r\n",
        "\r\n",
        "            \r\n",
        "            if(cnt == batch_size): \r\n",
        "                weights = upd_lst(weights,cum_W,'-',(learning_rate*(1.0))/batch_size)\r\n",
        "                biases = upd_lst(biases,cum_B,'-',(learning_rate*(1.0))/batch_size)\r\n",
        "                cum_W = [np.zeros(weights[i].shape) if(i != 0) else 0 for i in range(len(weights))]\r\n",
        "                cum_B = [np.zeros(biases[i].shape) if(i != 0) else 0 for i in range(len(biases))]\r\n",
        "                cnt = 0\r\n",
        "    return [weights,biases]\r\n",
        "\r\n",
        "#adam optimizer\r\n",
        "def adam(X,Y,num_epochs,weight_decay,learning_rate,batch_size,weights,biases,activation_function,act_fn_derivative):\r\n",
        "    eps = 1e-8\r\n",
        "    beta1 = 0.9\r\n",
        "    beta2 = 0.999\r\n",
        "    for i in range(num_epochs): \r\n",
        "          cnt = 0\r\n",
        "          cum_W = [np.zeros(weights[i].shape) if(i != 0) else 0 for i in range(len(weights))]\r\n",
        "          cum_B = [np.zeros(biases[i].shape) if(i != 0) else 0 for i in range(len(biases))]\r\n",
        "          m_W = cum_W\r\n",
        "          m_B = cum_B\r\n",
        "          v_W = cum_W\r\n",
        "          v_B = cum_B\r\n",
        "          a_cnt  = 0\r\n",
        "\r\n",
        "          for j in range(X.shape[0]):\r\n",
        "             cnt = cnt + 1\r\n",
        "             r = feed_forward(X[j],activation_function,weights,biases)\r\n",
        "             a = r[0]\r\n",
        "             h = r[1]\r\n",
        "             yout = r[2]\r\n",
        "\r\n",
        "             gradients = calculate_gradients(Y[j],yout,h,a,weights,act_fn_derivative,weight_decay,biases)\r\n",
        "             cum_W = upd_lst(cum_W,gradients[0],'+',1)\r\n",
        "             cum_B = upd_lst(cum_B,gradients[1],'+',1)\r\n",
        "\r\n",
        "             if(cnt == batch_size): \r\n",
        "                 m_W = upd_lst(m_W,m_W,'+',(beta1-1))   #m_W = beta1*m_W\r\n",
        "                 m_W = upd_lst(m_W,cum_W,'+',(1-beta1)/batch_size)   #m_W += (1-beta1)*db\r\n",
        "\r\n",
        "                 m_B = upd_lst(m_B,m_B,'+',(beta1-1))   #m_B = beta1*m_B\r\n",
        "                 m_B = upd_lst(m_B,cum_B,'+',(1-beta1)/batch_size)   #m_B += (1-beta1)*db                \r\n",
        "\r\n",
        "                 d_W_sqr = upd_lst(cum_W,cum_W,'*',1.0/batch_size)\r\n",
        "                 d_B_sqr = upd_lst(cum_B,cum_B,'*',1.0/batch_size)\r\n",
        "\r\n",
        "                 v_W = upd_lst(v_W,v_W,'+',(beta2-1))  #v_W = beta2*v_W\r\n",
        "                 v_W = upd_lst(v_W,d_W_sqr,'+',(1-beta2))  #v_W += (1-beta2)*dwsqr\r\n",
        "\r\n",
        "                 v_B = upd_lst(v_B,v_B,'+',(beta2-1))  #v_B = beta2*v_B\r\n",
        "                 v_B = upd_lst(v_B,d_B_sqr,'+',(1-beta2))  #v_B += (1-beta2)*dbsqr\r\n",
        "                 \r\n",
        "                 t = math.pow(beta1,j+1)/(1-math.pow(beta1,a_cnt+1))\r\n",
        "                 m_W_hat = upd_lst(m_W,m_W,'+',t)\r\n",
        "                 m_B_hat = upd_lst(m_B,m_B,'+',t)\r\n",
        "\r\n",
        "                 t = math.pow(beta2,j+1)/(1-math.pow(beta2,a_cnt+1))\r\n",
        "                 v_W_hat = upd_lst(v_W,v_W,'+',t)\r\n",
        "                 v_B_hat = upd_lst(v_B,v_B,'+',t)\r\n",
        "\r\n",
        "                 \r\n",
        "                 m_W_hat = upd_lst(m_W_hat,v_W_hat,'sqrt',eps) #m_W_hat = m_W_hat/(sqrt(v_W_hat+eps))\r\n",
        "                 weights = upd_lst(weights,m_W_hat,'-',learning_rate)   #weights = weights - (learning rate)*m_W_hat/sqrt(v_W_hat+eps)\r\n",
        "\r\n",
        "                 m_B_hat = upd_lst(m_B_hat,v_B_hat,'sqrt',eps) #m_B_hat = m_B_hat/sqrt(V_B_hat+eps)\r\n",
        "                 biases = upd_lst(biases,m_B_hat,'-',learning_rate) #biases = biases - (learning rate)*m_B_hat/sqrt(v_B_hat+eps)\r\n",
        "\r\n",
        "                 cum_W = [np.zeros(weights[i].shape) if(i != 0) else 0 for i in range(len(weights))]\r\n",
        "                 cum_B = [np.zeros(biases[i].shape) if(i != 0) else 0 for i in range(len(biases))]\r\n",
        "\r\n",
        "                 cnt = 0\r\n",
        "                 a_cnt = a_cnt + 1\r\n",
        "\r\n",
        "    return [weights,biases]\r\n",
        "\r\n",
        "#nadam optimizer\r\n",
        "def nadam(X,Y,num_epochs,weight_decay,learning_rate,batch_size,weights,biases,activation_function,act_fn_derivative):\r\n",
        "    \r\n",
        "    eps = 1e-8\r\n",
        "    beta1 = 0.9\r\n",
        "    beta2 = 0.999\r\n",
        "    for i in range(num_epochs): \r\n",
        "\r\n",
        "          cnt = 0\r\n",
        "          cum_W = [np.zeros(weights[i].shape) if(i != 0) else 0 for i in range(len(weights))]\r\n",
        "          cum_B = [np.zeros(biases[i].shape) if(i != 0) else 0 for i in range(len(biases))]\r\n",
        "\r\n",
        "          m_W = cum_W\r\n",
        "          m_B = cum_B\r\n",
        "\r\n",
        "          v_W = cum_W\r\n",
        "          v_B = cum_B\r\n",
        "\r\n",
        "          cum_W_m = cum_W\r\n",
        "          cum_B_m = cum_B\r\n",
        "\r\n",
        "          a_cnt  = 0\r\n",
        "          for j in range(X.shape[0]):\r\n",
        "\r\n",
        "             cnt = cnt + 1\r\n",
        "             r = feed_forward(X[j],activation_function,weights,biases)\r\n",
        "             a = r[0]\r\n",
        "             h = r[1]\r\n",
        "             yout = r[2]\r\n",
        "\r\n",
        "             gradients = calculate_gradients(Y[j],yout,h,a,weights,act_fn_derivative,weight_decay,biases)\r\n",
        "             cum_W = upd_lst(cum_W,gradients[0],'+',1)\r\n",
        "             cum_B = upd_lst(cum_B,gradients[1],'+',1)\r\n",
        "             \r\n",
        "             weights_m = upd_lst(weights,m_W,'-',beta1)\r\n",
        "             biases_m = upd_lst(weights,m_B,'-',beta1)\r\n",
        "             \r\n",
        "             r = feed_forward(X[j],activation_function,weights_m,biases_m)\r\n",
        "             a = r[0]\r\n",
        "             h = r[1]\r\n",
        "             yout = r[2]\r\n",
        "\r\n",
        "             gradients = calculate_gradients(Y[j],yout,h,a,weights_m,act_fn_derivative,weight_decay,biases)\r\n",
        "\r\n",
        "             cum_W_m = upd_lst(cum_W_m,gradients[0],'+',1)\r\n",
        "             cum_B_m = upd_lst(cum_B_m,gradients[1],'+',1)\r\n",
        "             \r\n",
        "\r\n",
        "             if(cnt == batch_size):\r\n",
        "                 \r\n",
        "                #  cum_W_m = upd_lst(cum_W_m,weights,'-',(weight_decay)*batch_size)\r\n",
        "                #  cum_B_m = upd_lst(cum_B_m,biases,'-',(weight_decay)*batch_size)\r\n",
        "\r\n",
        "                #  cum_W = upd_lst(cum_W,weights,'-',(weight_decay)*batch_size)\r\n",
        "                #  cum_B = upd_lst(cum_B,biases,'-',(weight_decay)*batch_size)\r\n",
        "                 \r\n",
        "                 m_W = upd_lst(m_W,m_W,'+',(beta1-1))   #m_W = beta1*m_W\r\n",
        "                 m_W = upd_lst(m_W,cum_W_m,'+',(1-beta1)/batch_size)   #m_W += (1-beta1)*db\r\n",
        "\r\n",
        "                 m_B = upd_lst(m_B,m_B,'+',(beta1-1))   #m_B = beta1*m_B\r\n",
        "                 m_B = upd_lst(m_B,cum_B_m,'+',(1-beta1)/batch_size)   #m_B += (1-beta1)*db\r\n",
        "                 \r\n",
        "\r\n",
        "                 d_W_sqr = upd_lst(cum_W,cum_W,'*',1.0/batch_size)\r\n",
        "                 d_B_sqr = upd_lst(cum_B,cum_B,'*',1.0/batch_size)\r\n",
        "\r\n",
        "                 v_W = upd_lst(v_W,v_W,'+',(beta2-1))  #v_W = beta2*v_W\r\n",
        "                 v_W = upd_lst(v_W,d_W_sqr,'+',(1-beta2))  #v_W += (1-beta2)*dwsqr\r\n",
        "\r\n",
        "                 v_B = upd_lst(v_B,v_B,'+',(beta2-1))  #v_B = beta2*v_B\r\n",
        "                 v_B = upd_lst(v_B,d_B_sqr,'+',(1-beta2))  #v_B += (1-beta2)*dbsqr\r\n",
        "                 \r\n",
        "                 t = math.pow(beta1,j+1)/(1-math.pow(beta1,a_cnt+1))\r\n",
        "                 m_W_hat = upd_lst(m_W,m_W,'+',t)\r\n",
        "                 m_B_hat = upd_lst(m_B,m_B,'+',t)\r\n",
        "\r\n",
        "                 t = math.pow(beta2,j+1)/(1-math.pow(beta2,a_cnt+1))\r\n",
        "                # print(beta2,math.pow(beta2,a_cnt+1))\r\n",
        "                 v_W_hat = upd_lst(v_W,v_W,'+',t)\r\n",
        "                 v_B_hat = upd_lst(v_B,v_B,'+',t)\r\n",
        "\r\n",
        "                 \r\n",
        "                 m_W_hat = upd_lst(m_W_hat,v_W_hat,'sqrt',eps) #m_W_hat = m_W_hat/(sqrt(v_W_hat+eps))\r\n",
        "                 weights = upd_lst(weights,m_W_hat,'-',learning_rate)   #weights = weights - (learning rate)*m_W_hat/sqrt(v_W_hat+eps)\r\n",
        "\r\n",
        "                 m_B_hat = upd_lst(m_B_hat,v_B_hat,'sqrt',eps) #m_B_hat = m_B_hat/sqrt(V_B_hat+eps)\r\n",
        "                 biases = upd_lst(biases,m_B_hat,'-',learning_rate) #biases = biases - (learning rate)*m_B_hat/sqrt(v_B_hat+eps)\r\n",
        "\r\n",
        "                 cum_W = [np.zeros(weights[i].shape) if(i != 0) else 0 for i in range(len(weights))]\r\n",
        "                 cum_B = [np.zeros(biases[i].shape) if(i != 0) else 0 for i in range(len(biases))]\r\n",
        "\r\n",
        "                 cum_W_m = cum_W\r\n",
        "                 cum_B_m = cum_B\r\n",
        "\r\n",
        "                 cnt = 0\r\n",
        "                 a_cnt = a_cnt + 1\r\n",
        "\r\n",
        "\r\n",
        "    return [weights,biases]\r\n",
        " \r\n",
        " #momentum optimizer\r\n",
        " def momentum(X,Y,num_epochs,weight_decay,learning_rate,batch_size,weights,biases,activation_function,act_fn_derivative):\r\n",
        "  #update{t} = gamma . update_{t-1} + learning_rate * grad(weight)\r\n",
        "  #weigt{t}=weight{t-1}-update{t}\r\n",
        "\r\n",
        "  gamma=0.9 # The typical value of gamma used is 0.9\r\n",
        "  for lmao in range(num_epochs):\r\n",
        "    #Initialisation of weights_grad_tot, biases_grad_tot\r\n",
        "    weights_grad_tot = [np.zeros(weights[i].shape) if(i != 0) else 0 for i in range(len(weights))]\r\n",
        "    biases_grad_tot = [np.zeros(biases[i].shape) if(i != 0) else 0 for i in range(len(biases))]\r\n",
        "\r\n",
        "    #Initialisation of update_weights\r\n",
        "    update_weights=weights_grad_tot\r\n",
        "    update_biases=biases_grad_tot\r\n",
        "\r\n",
        "    print(lmao)\r\n",
        "    # num_hidden_layers=len(biases) #Biases is a list of 1D arrays. Thus, the number of hidden layers is given by the size of this list    \r\n",
        "    num_data_point_done=0\r\n",
        "    dum=0\r\n",
        "    for x,y in zip(X,Y):  \r\n",
        "      y_pred=feed_forward(x,activation_function,weights,biases)  #Find prediction for each data instance of the data set\r\n",
        "      a = y_pred[0]\r\n",
        "      h = y_pred[1]\r\n",
        "      yout = y_pred[2]\r\n",
        "      [weights_grad,biases_grad] =  calculate_gradients(y,yout,h,a,weights,act_fn_derivative,weight_decay,biases)\r\n",
        "      weights_grad_tot = upd_lst(weights_grad_tot,weights_grad,'+',1)\r\n",
        "      biases_grad_tot = upd_lst(biases_grad_tot,biases_grad,'+',1)\r\n",
        "      num_data_point_done=num_data_point_done+1\r\n",
        "      if(num_data_point_done==batch_size):\r\n",
        "        \r\n",
        "        update_weights = upd_lst(update_weights,update_weights,'+',gamma-1)\r\n",
        "        update_biases = upd_lst(update_biases,update_biases,'+',gamma-1)\r\n",
        "        update_weights=upd_lst(update_weights,weights_grad_tot,'+',learning_rate/batch_size)\r\n",
        "        update_biases=upd_lst(update_biases,biases_grad_tot,'+',learning_rate/batch_size)\r\n",
        "       \r\n",
        "        weights=upd_lst(weights,update_weights,'-',1.0)\r\n",
        "        biases=upd_lst(biases,update_biases,'-',1.0)\r\n",
        "        num_data_point_done=0\r\n",
        "        weights_grad_tot = [np.zeros(weights[i].shape) if(i != 0) else 0 for i in range(len(weights))]\r\n",
        "        biases_grad_tot = [np.zeros(biases[i].shape) if(i != 0) else 0 for i in range(len(biases))]\r\n",
        "  return [weights,biases]\r\n",
        "\r\n",
        "#nesterov optimiser \r\n",
        "def nesterov(X,Y,num_epochs,weight_decay,learning_rate,batch_size,weights,biases,activation_function,act_fn_derivative):\r\n",
        "  #w_ahead=w_{t} - gamma. update_{t-1}\r\n",
        "  #update{t} = gamma . update_{t-1} + learning_rate * grad(w_lookahead)\r\n",
        "\r\n",
        "  gamma=0.9 # The typical value of gamma used is 0.9\r\n",
        "\r\n",
        "  #Initialisation of weights_grad_tot, biases_grad_tot\r\n",
        "  weights_grad_tot = [np.zeros(weights[i].shape) if(i != 0) else 0 for i in range(len(weights))]\r\n",
        "  biases_grad_tot = [np.zeros(biases[i].shape) if(i != 0) else 0 for i in range(len(biases))]\r\n",
        "\r\n",
        "  #Initialisation of update_weights\r\n",
        "  update_weights=weights_grad_tot\r\n",
        "  update_biases=biases_grad_tot  \r\n",
        "  for lmao in range(num_epochs):\r\n",
        "\r\n",
        "    # num_hidden_layers=len(biases) #Biases is a list of 1D arrays. Thus, the number of hidden layers is given by the size of this list    \r\n",
        "    num_data_point_done=0\r\n",
        "    w_ahead=weights # Initial value of w_ahead is weights\r\n",
        "    b_ahead=biases\r\n",
        "\r\n",
        "    for x,y in zip(X,Y):  \r\n",
        "      y_pred=feed_forward(x,activation_function,w_ahead,b_ahead)  #Find prediction for each data instance of the data set\r\n",
        "      a = y_pred[0]\r\n",
        "      h = y_pred[1]\r\n",
        "      yout = y_pred[2]\r\n",
        "\r\n",
        "      [weights_grad,biases_grad] =  calculate_gradients(y,yout,h,a,w_ahead,act_fn_derivative,weight_decay,b_ahead)\r\n",
        "      weights_grad_tot = upd_lst(weights_grad_tot,weights_grad,'+',1)\r\n",
        "      biases_grad_tot = upd_lst(biases_grad_tot,biases_grad,'+',1)   \r\n",
        "      num_data_point_done=num_data_point_done+1\r\n",
        "\r\n",
        "      if(num_data_point_done==batch_size):\r\n",
        "        # weights_grad_tot = upd_lst(weights_grad_tot,weights,'-',(weight_decay)*batch_size)\r\n",
        "        # biases_grad_tot = upd_lst(biases_grad_tot,biases,'-',(weight_decay)*batch_size)\r\n",
        "\r\n",
        "        w_ahead=upd_lst(weights,update_weights,'-',gamma)\r\n",
        "        b_ahead=upd_lst(biases,update_biases,'-',gamma)\r\n",
        "\r\n",
        "        update_weights = upd_lst(update_weights,update_weights,'+',gamma-1)\r\n",
        "        update_biases = upd_lst(update_biases,update_biases,'+',gamma-1)\r\n",
        "\r\n",
        "        update_weights=upd_lst(update_weights,weights_grad_tot,'+',learning_rate/batch_size)\r\n",
        "        update_biases=upd_lst(update_biases,biases_grad_tot,'+',learning_rate/batch_size)\r\n",
        "\r\n",
        "        # update_weights = update_weights + gamma*update_weights + learning_rate * weights_grad_tot\r\n",
        "        # update_biases = update_biases + gamma*update_weight + learning_rate * biases_grad_tot\r\n",
        "\r\n",
        "        weights=upd_lst(weights,update_weights,'-',1.0)\r\n",
        "        biases=upd_lst(biases,update_biases,'-',1.0)\r\n",
        "        num_data_point_done=0\r\n",
        "\r\n",
        "        weights_grad_tot = [np.zeros(weights[i].shape) if(i != 0) else 0 for i in range(len(weights))]\r\n",
        "        biases_grad_tot = [np.zeros(biases[i].shape) if(i != 0) else 0 for i in range(len(biases))]\r\n",
        "  return [weights,biases]\r\n",
        "\r\n",
        "\r\n",
        "#This is additional attempt to implement adagrad optimizer(Note that the definition is not complete) \r\n",
        "# def adagrad(X,Y,num_epochs,weight_decay,learning_rate,batch_size,weights,biases,activation_function,gamma,act_fn_derivative):\r\n",
        "#   #w_ahead=w_{t} - gamma. update_{t-1}\r\n",
        "#   #update{t} = gamma . update_{t-1} + learning_rate * grad(w_lookahead)\r\n",
        "#   # w_ahead= weights\r\n",
        "#   # b_ahead=biases\r\n",
        "#   for i in range(num_epochs):\r\n",
        "#     # num_hidden_layers=biases.size()[0] #Biases is a list of 1D arrays. Thus, the number of hidden layers is given by the size of this list\r\n",
        "#     Y_pred=feed_forward(X,activation_function,weights,biases) #Find prediction for each data instance of the data set\r\n",
        "#     weights_grad_tot=[]\r\n",
        "#     for w in weights:\r\n",
        "#       weights_grad_tot.append(np.zeroes(w.size()))\r\n",
        "#     biases_grad_tot=[]\r\n",
        "#     for b in biases:\r\n",
        "#       biases_grad_tot.append(np.zeroes(b.size()))\r\n",
        "#     num_data_point_done=0\r\n",
        "#     v_weight = 0 #Intitial value of 0\r\n",
        "#     v_bias=0\r\n",
        "#     epsilon = 0 #Figure out what is epsilon\r\n",
        "#     for x,y,y_pred in zip(X,Y,Y_pred):    \r\n",
        "#       [weights_grad,biases_grad] =  calculate_gradient(y,y_pred,h,a,weights,act_fn_derivative)\r\n",
        "#       weights_grad_tot = weights_grad_tot+weights_grad\r\n",
        "#       biases_grad_tot = biases_grad_tot + biases_grad\r\n",
        "#       num_data_point_done=num_data_point_done+1\r\n",
        "#       if(num_data_point_done==batch_size):\r\n",
        "#         v_weight = v_weight + (weights_grad_total)**2\r\n",
        "#         v_bias = v_bias + (biases_grad_total)**2\r\n",
        "#         v_weight_dum = learning_rate/np.sqrt(v_weight+epsilon)\r\n",
        "#         v_bias_dum = learning_rate/np.sqrt(v_bias+epsilon)\r\n",
        "#         weights=weights- v_weight_dum * weights_grad_tot\r\n",
        "#         biases=biases - v_bias_dum * bias_grad_tot\r\n",
        "#         num_data_point_done=0\r\n",
        "\r\n",
        "#rmsprop optimizer  \r\n",
        "def rmsprop(X,Y,num_epochs,weight_decay,learning_rate,batch_size,weights,biases,activation_function,act_fn_derivative):\r\n",
        "  beta=0.9 # The typical value of beta used is 0.9\r\n",
        "  epsilon = 1e-8  # Typical value of epsilon used\r\n",
        "\r\n",
        "  for lmao in range(num_epochs):\r\n",
        "\r\n",
        "    #Initialisation of weights_grad_tot, biases_grad_tot\r\n",
        "    weights_grad_tot = [np.zeros(weights[i].shape) if(i != 0) else 0 for i in range(len(weights))]\r\n",
        "    biases_grad_tot = [np.zeros(biases[i].shape) if(i != 0) else 0 for i in range(len(biases))]\r\n",
        "    v_weight = [np.zeros(weights[i].shape) if(i != 0) else 0 for i in range(len(weights))]\r\n",
        "    b_weight = [np.zeros(weights[i].shape) if(i != 0) else 0 for i in range(len(weights))]   \r\n",
        "\r\n",
        "    # num_hidden_layers=len(biases) #Biases is a list of 1D arrays. Thus, the number of hidden layers is given by the size of this list    \r\n",
        "    num_data_point_done=0\r\n",
        "\r\n",
        "    for x,y in zip(X,Y):  \r\n",
        "    \r\n",
        "      y_pred=feed_forward(x,activation_function,weights,biases)  #Find prediction for each data instance of the data set\r\n",
        "      a = y_pred[0]\r\n",
        "      h = y_pred[1]\r\n",
        "      yout = y_pred[2]\r\n",
        "\r\n",
        "      [weights_grad,biases_grad] =  calculate_gradients(y,yout,h,a,weights,act_fn_derivative,weight_decay,biases)\r\n",
        "      weights_grad_tot = upd_lst(weights_grad_tot,weights_grad,'+',1)\r\n",
        "      biases_grad_tot = upd_lst(biases_grad_tot,biases_grad,'+',1)\r\n",
        "      num_data_point_done=num_data_point_done+1\r\n",
        "\r\n",
        "      if(num_data_point_done==batch_size):   \r\n",
        "        # weights_grad_tot = upd_lst(weights_grad_tot,weights,'-',(weight_decay)*batch_size)\r\n",
        "        # biases_grad_tot = upd_lst(biases_grad_tot,biases,'-',(weight_decay)*batch_size)\r\n",
        "\r\n",
        "        v_weight = upd_lst(v_weight,v_weight,'+',(beta-1))\r\n",
        "        dum1=upd_lst(weights_grad_tot,weights_grad_tot,'*',1.0/batch_size)\r\n",
        "\r\n",
        "        v_weight= upd_lst(v_weight,dum1,'+',(1-beta))\r\n",
        "        b_weight = upd_lst(b_weight,b_weight,'+',(beta-1))\r\n",
        "\r\n",
        "        dum2=upd_lst(biases_grad_tot,biases_grad_tot,'*',1.0/batch_size)\r\n",
        "        b_weight= upd_lst(b_weight,dum2,'+',(1-beta))\r\n",
        "\r\n",
        "        weights_grad_tot=upd_lst(weights_grad_tot,weights_grad_tot,'mult',1.0/batch_size)\r\n",
        "        v_weight_dum=upd_lst(weights_grad_tot,v_weight,'sqrt',epsilon)\r\n",
        "        weights=upd_lst(weights, v_weight_dum,'-',learning_rate)\r\n",
        "        biases_grad_tot=upd_lst(biases_grad_tot,biases_grad_tot,'mult',1.0/batch_size)\r\n",
        "\r\n",
        "        b_weight_dum=upd_lst(biases_grad_tot,b_weight,'sqrt',epsilon)\r\n",
        "        biases=upd_lst(biases, b_weight_dum,'-',learning_rate)       \r\n",
        "        num_data_point_done=0\r\n",
        "\r\n",
        "        weights_grad_tot = [np.zeros(weights[i].shape) if(i != 0) else 0 for i in range(len(weights))]\r\n",
        "        biases_grad_tot = [np.zeros(biases[i].shape) if(i != 0) else 0 for i in range(len(biases))]\r\n",
        "  return [weights,biases]        \r\n"
      ],
      "execution_count": null,
      "outputs": [
        {
          "output_type": "error",
          "ename": "IndentationError",
          "evalue": "ignored",
          "traceback": [
            "\u001b[0;36m  File \u001b[0;32m\"<ipython-input-8-c44ec1b5e871>\"\u001b[0;36m, line \u001b[0;32m195\u001b[0m\n\u001b[0;31m    def momentum(X,Y,num_epochs,weight_decay,learning_rate,batch_size,weights,biases,activation_function,act_fn_derivative):\u001b[0m\n\u001b[0m                                                                                                                            ^\u001b[0m\n\u001b[0;31mIndentationError\u001b[0m\u001b[0;31m:\u001b[0m unindent does not match any outer indentation level\n"
          ]
        }
      ]
    },
    {
      "cell_type": "code",
      "metadata": {
        "id": "KuklB5S78jQy"
      },
      "source": [
        "#Definition of the backpropogation framework\r\n",
        "def backpropagation(X,Y,num_epochs,num_hidden_layers,sz_hidden_layer,learning_rate,optimizer,batch_size,weight_initialisation,activation,weight_decay,validateX,validatey):\r\n",
        "    \r\n",
        "    \r\n",
        "    weights = [0]  #dummy value\r\n",
        "    biases =  [0]  #dummy value \r\n",
        "    \r\n",
        "    #Initiliase activation function and gradient of activation function\r\n",
        "    if(activation=='sigmoid'):\r\n",
        "      activation_function=logistic\r\n",
        "      act_fn_derivative=log_grad\r\n",
        "    elif(activation=='tanh'):\r\n",
        "      activation_function=tanh\r\n",
        "      act_fn_derivative=tanh_grad\r\n",
        "    elif(activation=='ReLU'):\r\n",
        "      activation_function=relu\r\n",
        "      act_fn_derivative=relu_grad\r\n",
        "\r\n",
        "    #Weight initialisation\r\n",
        "    if (weight_initialisation == 'random'):        \r\n",
        "        num_classes = len(np.unique(Y))\r\n",
        "        i = len(X[0].flatten())\r\n",
        "        a = -1\r\n",
        "        b = 1\r\n",
        "\r\n",
        "        for j in range(num_hidden_layers-1):\r\n",
        "            weights.append((b-a)*np.random.rand(sz_hidden_layer,i)+a)\r\n",
        "            biases.append(np.zeros((sz_hidden_layer,1)))\r\n",
        "            i = sz_hidden_layer\r\n",
        "        weights.append((b-a)*np.random.rand(num_classes,i)+a)\r\n",
        "        biases.append(np.zeros((num_classes,1)))\r\n",
        "\r\n",
        "    else:\r\n",
        "\r\n",
        "        #Xavier initilization\r\n",
        "        num_classes = len(np.unique(Y))\r\n",
        "        i = len(X[0].flatten())\r\n",
        "\r\n",
        "        for j in range(num_hidden_layers-1):\r\n",
        "            t = math.sqrt(6)/math.sqrt(i + sz_hidden_layer)\r\n",
        "            weights.append(np.random.uniform(-t,t,(sz_hidden_layer,i)))\r\n",
        "            biases.append(np.zeros((sz_hidden_layer,1)))\r\n",
        "            i = sz_hidden_layer\r\n",
        "        \r\n",
        "        t = math.sqrt(6)/math.sqrt(i + num_classes)\r\n",
        "        weights.append(np.random.uniform(-t,t,(num_classes,i)))\r\n",
        "        biases.append(np.zeros((num_classes,1)))\r\n",
        "\r\n",
        "    #Use the appropriate optimiser\r\n",
        "    fun = 1\r\n",
        "    if (optimizer == 'sgd'):\r\n",
        "        fun = sgd\r\n",
        "    elif (optimizer == 'momentum'):\r\n",
        "        fun = momentum\r\n",
        "    elif (optimizer == 'nesterov'):\r\n",
        "        fun = nesterov\r\n",
        "    elif (optimizer == 'rmsprop'):\r\n",
        "        fun = rmsprop\r\n",
        "    elif (optimizer == 'adam'):\r\n",
        "        fun = adam\r\n",
        "    elif (optimizer == 'nadam'):\r\n",
        "        fun = nadam\r\n",
        "    \r\n",
        "    xvalues = []\r\n",
        "    yvalues = []\r\n",
        "    \r\n",
        "    for i in range(num_epochs):\r\n",
        "      [weights,biases] = fun(X,Y,1,weight_decay,learning_rate,batch_size,weights,biases,activation_function,act_fn_derivative) #backpropagation(trainX,trainy,1,config.num_hidden_layer,config.size_layer,config.learning_rate,config.optimizer,config.batch_size,config.weight_intialisation,config.activation,config.weight_decay)\r\n",
        "      print('val_accuracy'+str(accuracy(validateX,validatey,weights,biases)))\r\n",
        "      print('val_loss'+str(cross_entropy_loss(validateX,validatey,weights,biases)))\r\n",
        "      print('accuracy'+str(accuracy(X,Y,weights,biases)))\r\n",
        "      print('loss'+str(cross_entropy_loss(X,Y,weights,biases)))\r\n",
        "      # wandb.log({'epoch':i})\r\n",
        "      # wandb.log({'val_accuracy':accuracy(validateX,validatey,weights,biases)})\r\n",
        "      # wandb.log({'val_loss':cross_entropy_loss(validateX,validatey,weights,biases)})\r\n",
        "      # wandb.log({'accuracy':accuracy(X,Y,weights,biases)})\r\n",
        "      # wandb.log({'loss':cross_entropy_loss(X,Y,weights,biases)})\r\n",
        "      # wandb.log({'epoch':i})\r\n",
        "    return [weights,biases]\r\n",
        "\r\n"
      ],
      "execution_count": null,
      "outputs": []
    },
    {
      "cell_type": "code",
      "metadata": {
        "id": "QKnNVKLFKZuW"
      },
      "source": [
        "#This cell contains commented code that was used to debug our code\r\n",
        "\r\n",
        "# import warnings\r\n",
        "# warnings.simplefilter('error', RuntimeWarning) # To help debug where the warnings are\r\n",
        "#backpropagation(X,Y,num_epochs,num_hidden_layers,sz_hidden_layer,learning_rate,optimizer,batch_size,weight_initialisation,activation,weight_decay):\r\n",
        "#[weights,biases] = backpropagation(trainX,trainy,5,3,32,1e-3,'sgd',16,'random','sigmoid',0) #logistic,log_grad)\r\n",
        "# # [weights_momentum,biases_momentum] = backpropagation(trainX/255,trainy,5,3,32,0,1e-3,'momentum',16,'random',logistic,log_grad)\r\n",
        "#def backpropagation(X,Y,num_epochs,num_hidden_layers,sz_hidden_layer,learning_rate,optimizer,batch_size,weight_initialisation,activation,weight_decay,validateX,validatey):\r\n",
        "# backpropagation(trainX,trainy,5,3,32,1e-3,'nesterov',64,'random','sigmoid',0.0005,validateX,validatey)\r\n",
        "# #[weights_rmsprop,biases_rmsprop] = backpropagation(trainX/255,trainy,5,3,32,0,1e-3,'rmsprop',16,'random',logistic,log_grad)\r\n",
        "# #t = cross_entropy_loss(testX, testy,weights,biases)\r\n",
        "# # t_cross_momentum = cross_entropy_loss(testX, testy,weights_momentum,biases_momentum)\r\n",
        "# #t_cross_nestrov = cross_entropy_loss(testX, testy,weights_nestrov,biases_nestrov)\r\n",
        "# # t_cross_rmsprop = cross_entropy_loss(testX, testy,weights_rmsprop,biases_rmsprop)\r\n",
        "\r\n",
        "# #print(t)\r\n",
        "# # print(t_cross_momentum)\r\n",
        "# #print(t_cross_nestrov)\r\n",
        "# print(t_cross_rmsprop)\r\n",
        "\r\n",
        "# #t = accuracy(testX, testy,weights,biases)\r\n",
        "# # t_momentum=accuracy(testX, testy,weights_momentum,biases_momentum)\r\n",
        "# #t_nestrov=accuracy(testX, testy,weights_nestrov,biases_nestrov)\r\n",
        "# t_rmsprop=accuracy(testX, testy,weights_rmsprop,biases_rmsprop)\r\n",
        "# #print(t)\r\n",
        "# # # print(t_momentum)\r\n",
        "# # print(t_rmsprop)\r\n",
        "\r\n",
        "\r\n",
        "\r\n",
        "# backpropagation(X,Y,num_epochs,num_hidden_layers,sz_hidden_layer,learning_rate,optimizer,batch_size,weight_initialisation,activation,weight_decay,validateX,validatey):\r\n",
        "\r\n",
        "# [weights,biases] = backpropagation(trainX,trainy,10,3,64,0.001,'adam',64,'random','sigmoid',0.0005,validateX,validatey)\r\n",
        "\r\n",
        "# t = cross_entropy_loss(testX, testy,weights_nestrov,biases_nestrov)\r\n",
        "# print(t)\r\n",
        "# t = accuracy(testX, testy,weights_nestrov,biases_nestrov)\r\n",
        "# print(t)\r\n",
        "# [weights,biases] = backpropagation(trainX,trainy,5,3,32,0,1e-3,'sgd',16,'xavier',logistic,log_grad)\r\n",
        "# t = cross_entropy_loss(testX, testy,weights,biases)\r\n",
        "# print(t)\r\n",
        "\r\n",
        "# t = accuracy(testX, testy,weights,biases)\r\n",
        "# print(t)\r\n",
        "\r\n",
        "# [weights,biases] = backpropagation(trainX,trainy,5,3,32,0,1e-3,'sgd',16,'xavier',tanh,tanh_grad)\r\n",
        "# t = cross_entropy_loss(testX, testy,weights,biases)\r\n",
        "# print(t)\r\n",
        "# t = accuracy(testX, testy,weights,biases)\r\n",
        "# print(t)\r\n",
        "\r\n",
        "#The recommended set of parameters\r\n",
        "# num_epochs = [5,10,15]\r\n",
        "\r\n",
        "# weight_decay = [0,0.0005,0.5]\r\n",
        "# learning_rate = [1e-3,1e-4]\r\n",
        "# optimiser = ['sgd', 'momentum', 'nesterov', 'rmsprop', 'adam', 'nadam']\r\n",
        "# batch_size =[16, 32, 64]\r\n",
        "\r\n",
        "# activation= ['sigmoid', 'tanh', 'ReLU']\r\n",
        "\r\n",
        "# weight_initialisation = [ 'random', 'Xavier']\r\n",
        "# num_hidden_layer = [3,4,5]\r\n",
        "# size_layer = [32,64,128]"
      ],
      "execution_count": null,
      "outputs": []
    },
    {
      "cell_type": "code",
      "metadata": {
        "id": "dFuD9Bu7ojO5"
      },
      "source": [
        "#Set the configuration for wandb sweep\r\n",
        "sweep_config = {\r\n",
        "    'name': 'max_accuracy_1.2',\r\n",
        "    'method' : 'random',\r\n",
        "    'metric': {        \r\n",
        "         'goal': 'maximize',\r\n",
        "         'name' : 'val_accuracy'\r\n",
        "    },\r\n",
        "    'parameters': {\r\n",
        "        'epochs':{\r\n",
        "            'values': [10]\r\n",
        "        },\r\n",
        "        'batch_size':{\r\n",
        "            'values': [64]\r\n",
        "        },\r\n",
        "        'weight_decay':{\r\n",
        "            'values': [0.0005]\r\n",
        "        },\r\n",
        "        'learning_rate':{\r\n",
        "            'values': [0.001]\r\n",
        "        },\r\n",
        "        'optimizer':{\r\n",
        "            'values': ['adam']\r\n",
        "        },\r\n",
        "        'activation':{\r\n",
        "            'values': ['sigmoid']\r\n",
        "        },\r\n",
        "        'weight_intialisation':{\r\n",
        "            'values': ['random']\r\n",
        "        },\r\n",
        "        'num_hidden_layer': {\r\n",
        "            'values': [5]\r\n",
        "        },\r\n",
        "        'size_layer':{\r\n",
        "            'values': [128]\r\n",
        "        }\r\n",
        "\r\n",
        "    }\r\n",
        "}"
      ],
      "execution_count": null,
      "outputs": []
    },
    {
      "cell_type": "code",
      "metadata": {
        "id": "G1G4h-4HOvpu"
      },
      "source": [
        "#The function which is to be sweeped by wandb\r\n",
        "def train():\r\n",
        "  config_default = {\r\n",
        "        'epochs': 10,\r\n",
        "        'batch_size': 64,\r\n",
        "        'weight_decay':0.0005, \r\n",
        "        'learning_rate':0.001,\r\n",
        "        'optimizer': 'adam',\r\n",
        "        'activation': 'sigmoid', \r\n",
        "        'weight_intialisation':'random', \r\n",
        "        'num_hidden_layer': 5,\r\n",
        "        'size_layer': 128\r\n",
        "  }\r\n",
        "  print(\"wand about to be initialised\")\r\n",
        "  #config=wandb.config\r\n",
        "  #name = 'epochs_'+str(config.epochs)+'_btch_sz_'+str(config.batch_size)+'_wght_dcy_'+str(config.weight_decay)+'_optm_'+config.optimizer+'_lrng_rat_'+config.learning_rate+'_actvn_'+config.activation+'_numhdnlyr_'+str(config.num_hidden_layer)+' sz_lyr_'+str(config.size_layer)\r\n",
        "  wandb.init(config=config_default,project='cs6910-assignment1')\r\n",
        "  config = wandb.config\r\n",
        "  a = trainX\r\n",
        "  b = trainy\r\n",
        "  \r\n",
        "  backpropagation(trainX,trainy,config.epochs,config.num_hidden_layer,config.size_layer,config.learning_rate,config.optimizer,config.batch_size,config.weight_intialisation,config.activation,config.weight_decay,validateX,validatey) "
      ],
      "execution_count": null,
      "outputs": []
    },
    {
      "cell_type": "code",
      "metadata": {
        "id": "_FtTIclCSSCE"
      },
      "source": [
        "#Commented code used to check our code\r\n",
        "\r\n",
        "#agent=wandb.init(entity=\"nvvishnu\",project=\"cs6910-assignment1\")\r\n",
        "# sweep_config['parameters']['epochs']\r\n",
        "# # # import warnings\r\n",
        "# # # warnings.simplefilter('error', RuntimeWarning) # To help debug where the warnings are"
      ],
      "execution_count": null,
      "outputs": []
    },
    {
      "cell_type": "code",
      "metadata": {
        "id": "tJRqfvgM-O-E",
        "colab": {
          "base_uri": "https://localhost:8080/"
        },
        "outputId": "bf787a5d-9add-4fdd-e036-4473d3d90376"
      },
      "source": [
        "#Create a sweep and generate sweep id\r\n",
        "sweep_id = wandb.sweep(sweep_config,entity=\"nvvishnu\",project=\"cs6910-assignment1\")"
      ],
      "execution_count": null,
      "outputs": [
        {
          "output_type": "stream",
          "text": [
            "\u001b[34m\u001b[1mwandb\u001b[0m: \u001b[33mWARNING\u001b[0m Calling wandb.login() after wandb.init() has no effect.\n"
          ],
          "name": "stderr"
        },
        {
          "output_type": "stream",
          "text": [
            "Create sweep with ID: vb52k0il\n",
            "Sweep URL: https://wandb.ai/nvvishnu/cs6910-assignment1/sweeps/vb52k0il\n"
          ],
          "name": "stdout"
        }
      ]
    },
    {
      "cell_type": "code",
      "metadata": {
        "id": "mq70j4ZKT3TC",
        "colab": {
          "base_uri": "https://localhost:8080/",
          "height": 1000,
          "referenced_widgets": [
            "dbf4ce3667d243689f2a3149a146fe76",
            "47c9f9b4911a4d60a22a6a6f9d4f2422",
            "dd1b93d89a71420c95886611f03e8ac4",
            "de0e9bd86b124fd9a8e3934a0a52d440",
            "573bd6efba9c4f0faeabc09149be366c",
            "9d59b9ce1299431da8640288100bed8a",
            "f78b13f25165442d91354605acf682ba",
            "d292200ee4d64960b94fe165bbb6aa98"
          ]
        },
        "outputId": "4d41fcfd-74d7-464e-8e05-31dd6354e0e3"
      },
      "source": [
        "#Run wandb agent to sweep\r\n",
        "wandb.agent(sweep_id,project=\"cs6910-assignment1\",function=train)"
      ],
      "execution_count": null,
      "outputs": [
        {
          "output_type": "stream",
          "text": [
            "\u001b[34m\u001b[1mwandb\u001b[0m: \u001b[33mWARNING\u001b[0m Calling wandb.login() after wandb.init() has no effect.\n",
            "\u001b[34m\u001b[1mwandb\u001b[0m: Agent Starting Run: ot4gebxl with config:\n",
            "\u001b[34m\u001b[1mwandb\u001b[0m: \tactivation: sigmoid\n",
            "\u001b[34m\u001b[1mwandb\u001b[0m: \tbatch_size: 64\n",
            "\u001b[34m\u001b[1mwandb\u001b[0m: \tepochs: 10\n",
            "\u001b[34m\u001b[1mwandb\u001b[0m: \tlearning_rate: 0.001\n",
            "\u001b[34m\u001b[1mwandb\u001b[0m: \tnum_hidden_layer: 5\n",
            "\u001b[34m\u001b[1mwandb\u001b[0m: \toptimizer: adam\n",
            "\u001b[34m\u001b[1mwandb\u001b[0m: \tsize_layer: 128\n",
            "\u001b[34m\u001b[1mwandb\u001b[0m: \tweight_decay: 0.0005\n",
            "\u001b[34m\u001b[1mwandb\u001b[0m: \tweight_intialisation: random\n"
          ],
          "name": "stderr"
        },
        {
          "output_type": "stream",
          "text": [
            "wand about to be initialised\n"
          ],
          "name": "stdout"
        },
        {
          "output_type": "stream",
          "text": [
            "\u001b[34m\u001b[1mwandb\u001b[0m: \u001b[33mWARNING\u001b[0m Ignored wandb.init() arg project when running a sweep\n"
          ],
          "name": "stderr"
        },
        {
          "output_type": "display_data",
          "data": {
            "text/html": [
              "\n",
              "                Tracking run with wandb version 0.10.22<br/>\n",
              "                Syncing run <strong style=\"color:#cdcd00\">snowy-sweep-1</strong> to <a href=\"https://wandb.ai\" target=\"_blank\">Weights & Biases</a> <a href=\"https://docs.wandb.com/integrations/jupyter.html\" target=\"_blank\">(Documentation)</a>.<br/>\n",
              "                Project page: <a href=\"https://wandb.ai/nvvishnu/cs6910-assignment1\" target=\"_blank\">https://wandb.ai/nvvishnu/cs6910-assignment1</a><br/>\n",
              "                Sweep page: <a href=\"https://wandb.ai/nvvishnu/cs6910-assignment1/sweeps/vb52k0il\" target=\"_blank\">https://wandb.ai/nvvishnu/cs6910-assignment1/sweeps/vb52k0il</a><br/>\n",
              "Run page: <a href=\"https://wandb.ai/nvvishnu/cs6910-assignment1/runs/ot4gebxl\" target=\"_blank\">https://wandb.ai/nvvishnu/cs6910-assignment1/runs/ot4gebxl</a><br/>\n",
              "                Run data is saved locally in <code>/content/wandb/run-20210313_100131-ot4gebxl</code><br/><br/>\n",
              "            "
            ],
            "text/plain": [
              "<IPython.core.display.HTML object>"
            ]
          },
          "metadata": {
            "tags": []
          }
        },
        {
          "output_type": "stream",
          "text": [
            "0\n",
            "0\n",
            "0\n",
            "0\n",
            "0\n",
            "0\n",
            "0\n",
            "0\n",
            "0\n",
            "0\n"
          ],
          "name": "stdout"
        },
        {
          "output_type": "display_data",
          "data": {
            "text/html": [
              "<br/>Waiting for W&B process to finish, PID 871<br/>Program ended successfully."
            ],
            "text/plain": [
              "<IPython.core.display.HTML object>"
            ]
          },
          "metadata": {
            "tags": []
          }
        },
        {
          "output_type": "display_data",
          "data": {
            "application/vnd.jupyter.widget-view+json": {
              "model_id": "dbf4ce3667d243689f2a3149a146fe76",
              "version_minor": 0,
              "version_major": 2
            },
            "text/plain": [
              "VBox(children=(Label(value=' 0.00MB of 0.00MB uploaded (0.00MB deduped)\\r'), FloatProgress(value=1.0, max=1.0)…"
            ]
          },
          "metadata": {
            "tags": []
          }
        },
        {
          "output_type": "display_data",
          "data": {
            "text/html": [
              "Find user logs for this run at: <code>/content/wandb/run-20210313_100131-ot4gebxl/logs/debug.log</code>"
            ],
            "text/plain": [
              "<IPython.core.display.HTML object>"
            ]
          },
          "metadata": {
            "tags": []
          }
        },
        {
          "output_type": "display_data",
          "data": {
            "text/html": [
              "Find internal logs for this run at: <code>/content/wandb/run-20210313_100131-ot4gebxl/logs/debug-internal.log</code>"
            ],
            "text/plain": [
              "<IPython.core.display.HTML object>"
            ]
          },
          "metadata": {
            "tags": []
          }
        },
        {
          "output_type": "display_data",
          "data": {
            "text/html": [
              "<h3>Run summary:</h3><br/><style>\n",
              "    table.wandb td:nth-child(1) { padding: 0 10px; text-align: right }\n",
              "    </style><table class=\"wandb\">\n",
              "<tr><td>epoch</td><td>9</td></tr><tr><td>_runtime</td><td>7360</td></tr><tr><td>_timestamp</td><td>1615637051</td></tr><tr><td>_step</td><td>59</td></tr><tr><td>val_accuracy</td><td>0.8635</td></tr><tr><td>val_loss</td><td>0.38837</td></tr><tr><td>accuracy</td><td>0.87815</td></tr><tr><td>loss</td><td>0.34936</td></tr></table>"
            ],
            "text/plain": [
              "<IPython.core.display.HTML object>"
            ]
          },
          "metadata": {
            "tags": []
          }
        },
        {
          "output_type": "display_data",
          "data": {
            "text/html": [
              "<h3>Run history:</h3><br/><style>\n",
              "    table.wandb td:nth-child(1) { padding: 0 10px; text-align: right }\n",
              "    </style><table class=\"wandb\">\n",
              "<tr><td>epoch</td><td>▁▁▂▂▃▃▃▃▄▄▅▅▆▆▆▆▇▇██</td></tr><tr><td>_runtime</td><td>▁▁▁▁▂▂▂▂▂▂▃▃▃▃▃▃▄▄▄▄▅▅▅▅▅▅▆▆▆▆▆▆▇▇▇▇████</td></tr><tr><td>_timestamp</td><td>▁▁▁▁▂▂▂▂▂▂▃▃▃▃▃▃▄▄▄▄▅▅▅▅▅▅▆▆▆▆▆▆▇▇▇▇████</td></tr><tr><td>_step</td><td>▁▁▁▁▂▂▂▂▂▃▃▃▃▃▃▄▄▄▄▄▅▅▅▅▅▅▆▆▆▆▆▆▇▇▇▇▇███</td></tr><tr><td>val_accuracy</td><td>▁▃▄▄▅▆▆▇██</td></tr><tr><td>val_loss</td><td>█▆▅▄▄▃▂▂▁▁</td></tr><tr><td>accuracy</td><td>▁▃▃▄▅▆▆▇██</td></tr><tr><td>loss</td><td>█▆▅▄▄▃▂▂▁▁</td></tr></table><br/>"
            ],
            "text/plain": [
              "<IPython.core.display.HTML object>"
            ]
          },
          "metadata": {
            "tags": []
          }
        },
        {
          "output_type": "display_data",
          "data": {
            "text/html": [
              "Synced 5 W&B file(s), 0 media file(s), 0 artifact file(s) and 0 other file(s)"
            ],
            "text/plain": [
              "<IPython.core.display.HTML object>"
            ]
          },
          "metadata": {
            "tags": []
          }
        },
        {
          "output_type": "display_data",
          "data": {
            "text/html": [
              "\n",
              "                    <br/>Synced <strong style=\"color:#cdcd00\">snowy-sweep-1</strong>: <a href=\"https://wandb.ai/nvvishnu/cs6910-assignment1/runs/ot4gebxl\" target=\"_blank\">https://wandb.ai/nvvishnu/cs6910-assignment1/runs/ot4gebxl</a><br/>\n",
              "                "
            ],
            "text/plain": [
              "<IPython.core.display.HTML object>"
            ]
          },
          "metadata": {
            "tags": []
          }
        },
        {
          "output_type": "stream",
          "text": [
            "\u001b[34m\u001b[1mwandb\u001b[0m: Agent Starting Run: 5trei2ti with config:\n",
            "\u001b[34m\u001b[1mwandb\u001b[0m: \tactivation: sigmoid\n",
            "\u001b[34m\u001b[1mwandb\u001b[0m: \tbatch_size: 64\n",
            "\u001b[34m\u001b[1mwandb\u001b[0m: \tepochs: 10\n",
            "\u001b[34m\u001b[1mwandb\u001b[0m: \tlearning_rate: 0.001\n",
            "\u001b[34m\u001b[1mwandb\u001b[0m: \tnum_hidden_layer: 5\n",
            "\u001b[34m\u001b[1mwandb\u001b[0m: \toptimizer: adam\n",
            "\u001b[34m\u001b[1mwandb\u001b[0m: \tsize_layer: 128\n",
            "\u001b[34m\u001b[1mwandb\u001b[0m: \tweight_decay: 0.0005\n",
            "\u001b[34m\u001b[1mwandb\u001b[0m: \tweight_intialisation: random\n"
          ],
          "name": "stderr"
        },
        {
          "output_type": "stream",
          "text": [
            "wand about to be initialised\n"
          ],
          "name": "stdout"
        },
        {
          "output_type": "stream",
          "text": [
            "\u001b[34m\u001b[1mwandb\u001b[0m: \u001b[33mWARNING\u001b[0m Ignored wandb.init() arg project when running a sweep\n"
          ],
          "name": "stderr"
        },
        {
          "output_type": "display_data",
          "data": {
            "text/html": [
              "\n",
              "                Tracking run with wandb version 0.10.22<br/>\n",
              "                Syncing run <strong style=\"color:#cdcd00\">jolly-sweep-2</strong> to <a href=\"https://wandb.ai\" target=\"_blank\">Weights & Biases</a> <a href=\"https://docs.wandb.com/integrations/jupyter.html\" target=\"_blank\">(Documentation)</a>.<br/>\n",
              "                Project page: <a href=\"https://wandb.ai/nvvishnu/cs6910-assignment1\" target=\"_blank\">https://wandb.ai/nvvishnu/cs6910-assignment1</a><br/>\n",
              "                Sweep page: <a href=\"https://wandb.ai/nvvishnu/cs6910-assignment1/sweeps/vb52k0il\" target=\"_blank\">https://wandb.ai/nvvishnu/cs6910-assignment1/sweeps/vb52k0il</a><br/>\n",
              "Run page: <a href=\"https://wandb.ai/nvvishnu/cs6910-assignment1/runs/5trei2ti\" target=\"_blank\">https://wandb.ai/nvvishnu/cs6910-assignment1/runs/5trei2ti</a><br/>\n",
              "                Run data is saved locally in <code>/content/wandb/run-20210313_120416-5trei2ti</code><br/><br/>\n",
              "            "
            ],
            "text/plain": [
              "<IPython.core.display.HTML object>"
            ]
          },
          "metadata": {
            "tags": []
          }
        },
        {
          "output_type": "stream",
          "text": [
            "0\n"
          ],
          "name": "stdout"
        },
        {
          "output_type": "stream",
          "text": [
            "\u001b[34m\u001b[1mwandb\u001b[0m: Ctrl + C detected. Stopping sweep.\n"
          ],
          "name": "stderr"
        },
        {
          "output_type": "display_data",
          "data": {
            "text/html": [
              "<br/>Waiting for W&B process to finish, PID 926<br/>Program failed with code 1.  Press ctrl-c to abort syncing."
            ],
            "text/plain": [
              "<IPython.core.display.HTML object>"
            ]
          },
          "metadata": {
            "tags": []
          }
        }
      ]
    },
    {
      "cell_type": "code",
      "metadata": {
        "id": "8iQ55FntkHc1"
      },
      "source": [
        "#Definition of function to plot confusion matrix\r\n",
        "def confusion_matrix(X_test,Y_test,weights,biases):\r\n",
        "\r\n",
        "    conf_mtrx = np.zeros(shape=(10,10))\r\n",
        "\r\n",
        "    for i in range(Y_test.shape[0]):\r\n",
        "\r\n",
        "        y_ = feed_forward(X_test[i],logistic,weights,biases)[2]\r\n",
        "        y_ = y_.flatten()\r\n",
        "        #print(y_)\r\n",
        "        j = np.argmax(y_)\r\n",
        "        conf_mtrx[Y_test[i]][j] = conf_mtrx[Y_test[i]][j] + 1\r\n",
        "    \r\n",
        "    return conf_mtrx\r\n",
        "    \r\n",
        "# [weights,biases] = backpropagation(trainX,trainy,5,3,32,1e-3,'sgd',16,'random','sigmoid',0)\r\n",
        "conf_mtrx = confusion_matrix(testX, testy,weights,biases)\r\n",
        "   "
      ],
      "execution_count": null,
      "outputs": []
    },
    {
      "cell_type": "code",
      "metadata": {
        "colab": {
          "base_uri": "https://localhost:8080/",
          "height": 296
        },
        "id": "3cUO2qmuxZU3",
        "outputId": "ac54f89d-ae61-4338-f088-9ac4f5d61131"
      },
      "source": [
        "#Generate heatmap for confusion matrix\r\n",
        "\r\n",
        "names = ['T-shirt/top','Trouser/pants','Pullover shirt','Dress','Coat','Sandal','Shirt','Sneaker','Bag','Ankle boot']\r\n",
        "# confusion_plot=pyplot.axes()\r\n",
        "confusion_matrix=sns.heatmap(conf_mtrx.transpose(),linecolor= 'white', cbar=True,cmap=\"YlGnBu\",annot=True,fmt=\".0f\",xticklabels=names,yticklabels=names)\r\n",
        "pyplot.xlabel('Predicted Labels')\r\n",
        "pyplot.ylabel('True Labels')\r\n",
        "pyplot.title('Confusion Matrix')\r\n",
        "pyplot.tight_layout()\r\n",
        "# confusion_matrix=pyplot.show()\r\n",
        "pyplot.savefig('confustion_matrix.png')"
      ],
      "execution_count": null,
      "outputs": [
        {
          "output_type": "display_data",
          "data": {
            "image/png": "[encoded data removed]",
            "text/plain": [
              "<Figure size 432x288 with 2 Axes>"
            ]
          },
          "metadata": {
            "tags": [],
            "needs_background": "light"
          }
        }
      ]
    },
    {
      "cell_type": "code",
      "metadata": {
        "colab": {
          "base_uri": "https://localhost:8080/"
        },
        "id": "CUgfgJSL1pKB",
        "outputId": "6cb6d6f7-d412-49e9-ec4b-18c9b20e0378"
      },
      "source": [
        "#Print the test accuracy for the best model\r\n",
        "cnt=0\r\n",
        "for i in range(10):\r\n",
        "  cnt+=conf_mtrx[i][i]\r\n",
        "print(cnt/testy.shape[0])"
      ],
      "execution_count": null,
      "outputs": [
        {
          "output_type": "stream",
          "text": [
            "0.8577\n"
          ],
          "name": "stdout"
        }
      ]
    },
    {
      "cell_type": "code",
      "metadata": {
        "colab": {
          "base_uri": "https://localhost:8080/"
        },
        "id": "NrExw29p9vbW",
        "outputId": "7e8bfb74-25f6-445c-b32f-f2af82ad2c37"
      },
      "source": [
        "#Used to store the optimal weights and biases so that they can re-used when runtime is reconnected\r\n",
        "!pip install pickle-mixin\r\n",
        "import pickle\r\n",
        "weight_name = \"weights.pkl\"\r\n",
        "open_file = open(weight_name, \"wb\")\r\n",
        "pickle.dump(weights, open_file)\r\n",
        "open_file.close()\r\n",
        "biases_name = \"biases.pkl\"\r\n",
        "open_file = open(biases_name, \"wb\")\r\n",
        "pickle.dump(biases, open_file)\r\n",
        "open_file.close()\r\n",
        "open_file = open(weight_name, \"rb\")\r\n",
        "weight_dum = pickle.load(open_file)\r\n",
        "open_file.close()\r\n",
        "open_file = open(biases_name, \"rb\")\r\n",
        "biases_dum = pickle.load(open_file)\r\n",
        "open_file.close()"
      ],
      "execution_count": null,
      "outputs": [
        {
          "output_type": "stream",
          "text": [
            "Collecting pickle-mixin\n",
            "  Downloading https://files.pythonhosted.org/packages/02/77/9d5eb2201bbc130e2a5cc41fc949e4ab0da74b619107eac1c511be3af7a7/pickle-mixin-1.0.2.tar.gz\n",
            "Building wheels for collected packages: pickle-mixin\n",
            "  Building wheel for pickle-mixin (setup.py) ... \u001b[?25l\u001b[?25hdone\n",
            "  Created wheel for pickle-mixin: filename=pickle_mixin-1.0.2-cp37-none-any.whl size=5999 sha256=7f4489749e3e419cd4503fc2c5fc2ba814b91a3bf5ae5cc6f2c2dc335a484d51\n",
            "  Stored in directory: /root/.cache/pip/wheels/cd/05/42/71de70fa36b9cbb7657bb5793a16f8028c1cdc1bdd3b8e1ac3\n",
            "Successfully built pickle-mixin\n",
            "Installing collected packages: pickle-mixin\n",
            "Successfully installed pickle-mixin-1.0.2\n"
          ],
          "name": "stdout"
        }
      ]
    },
    {
      "cell_type": "code",
      "metadata": {
        "id": "Ju5QfUsE8XdX"
      },
      "source": [
        "#Commented Code to check our code\r\n",
        "\r\n",
        "# conf_mtrx_dum = confusion_matrix(testX, testy,weight_dum,biases_dum)\r\n",
        "# cnt=0\r\n",
        "# for i in range(10):\r\n",
        "#   cnt+=conf_mtrx_dum[i][i]\r\n",
        "print(cnt/testy.shape[0])\r\n",
        "# with open(\"weights.txt\", \"w\") as f:\r\n",
        "#     for s in :\r\n",
        "#         f.write(str(s) +\"\\n\")\r\n",
        "# with open(\"biases.txt\", \"w\") as f:\r\n",
        "#     for s in biases:\r\n",
        "#         f.write(str(s) +\"\\n\")\r\n",
        "# weight_dum=[]\r\n",
        "# with open(\"weights.txt\", \"r\") as f:\r\n",
        "#   for line in f:\r\n",
        "#     weight_dum.append((line.strip()))\r\n",
        "# # weight_dum=weight_dum.astype(np.float)\r\n",
        "# biases_dum=[]\r\n",
        "# with open(\"file.txt\", \"r\") as f:\r\n",
        "#   for line in f:\r\n",
        "#     biases_dum.append(float(line.strip()))\r\n",
        "# print(weight_dum)"
      ],
      "execution_count": null,
      "outputs": []
    }
  ]
}