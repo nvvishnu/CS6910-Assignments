{
  "nbformat": 4,
  "nbformat_minor": 0,
  "metadata": {
    "colab": {
      "name": "Assignement1.ipynb",
      "provenance": [],
      "collapsed_sections": [],
      "authorship_tag": "ABX9TyO1ZzS7oBk2Tgc/76KOBdtg",
      "include_colab_link": true
    },
    "kernelspec": {
      "name": "python3",
      "display_name": "Python 3"
    }
  },
  "cells": [
    {
      "cell_type": "markdown",
      "metadata": {
        "id": "view-in-github",
        "colab_type": "text"
      },
      "source": [
        "<a href=\"https://colab.research.google.com/github/nvvishnu/CS6910-Assignments/blob/main/Assignement1.ipynb\" target=\"_parent\"><img src=\"https://colab.research.google.com/assets/colab-badge.svg\" alt=\"Open In Colab\"/></a>"
      ]
    },
    {
      "cell_type": "code",
      "metadata": {
        "colab": {
          "base_uri": "https://localhost:8080/"
        },
        "id": "R2jhbImHGSyM",
        "outputId": "5067ab61-fa9b-4d8e-c860-0d6b6eb349b1"
      },
      "source": [
        "!pip install wandb\r\n",
        "import pandas as pd\r\n",
        "import numpy as np\r\n",
        "import wandb\r\n",
        "from keras.datasets import fashion_mnist\r\n",
        "from matplotlib import pyplot"
      ],
      "execution_count": null,
      "outputs": [
        {
          "output_type": "stream",
          "text": [
            "Collecting wandb\n",
            "\u001b[?25l  Downloading https://files.pythonhosted.org/packages/00/17/b1e27f77c3d47f6915a774ecf632e3f5a7d49d9fa3991547729e7f19bedd/wandb-0.10.21-py2.py3-none-any.whl (2.0MB)\n",
            "\u001b[K     |████████████████████████████████| 2.0MB 8.6MB/s \n",
            "\u001b[?25hRequirement already satisfied: requests<3,>=2.0.0 in /usr/local/lib/python3.7/dist-packages (from wandb) (2.23.0)\n",
            "Collecting GitPython>=1.0.0\n",
            "\u001b[?25l  Downloading https://files.pythonhosted.org/packages/a6/99/98019716955ba243657daedd1de8f3a88ca1f5b75057c38e959db22fb87b/GitPython-3.1.14-py3-none-any.whl (159kB)\n",
            "\u001b[K     |████████████████████████████████| 163kB 35.4MB/s \n",
            "\u001b[?25hCollecting shortuuid>=0.5.0\n",
            "  Downloading https://files.pythonhosted.org/packages/25/a6/2ecc1daa6a304e7f1b216f0896b26156b78e7c38e1211e9b798b4716c53d/shortuuid-1.0.1-py3-none-any.whl\n",
            "Requirement already satisfied: six>=1.13.0 in /usr/local/lib/python3.7/dist-packages (from wandb) (1.15.0)\n",
            "Collecting pathtools\n",
            "  Downloading https://files.pythonhosted.org/packages/e7/7f/470d6fcdf23f9f3518f6b0b76be9df16dcc8630ad409947f8be2eb0ed13a/pathtools-0.1.2.tar.gz\n",
            "Requirement already satisfied: python-dateutil>=2.6.1 in /usr/local/lib/python3.7/dist-packages (from wandb) (2.8.1)\n",
            "Requirement already satisfied: promise<3,>=2.0 in /usr/local/lib/python3.7/dist-packages (from wandb) (2.3)\n",
            "Collecting subprocess32>=3.5.3\n",
            "\u001b[?25l  Downloading https://files.pythonhosted.org/packages/32/c8/564be4d12629b912ea431f1a50eb8b3b9d00f1a0b1ceff17f266be190007/subprocess32-3.5.4.tar.gz (97kB)\n",
            "\u001b[K     |████████████████████████████████| 102kB 12.0MB/s \n",
            "\u001b[?25hCollecting sentry-sdk>=0.4.0\n",
            "\u001b[?25l  Downloading https://files.pythonhosted.org/packages/f3/92/5a33be64990ba815364a8f2dd9e6f51de60d23dfddafb4f1fc5577d4dc64/sentry_sdk-1.0.0-py2.py3-none-any.whl (131kB)\n",
            "\u001b[K     |████████████████████████████████| 133kB 48.4MB/s \n",
            "\u001b[?25hRequirement already satisfied: Click>=7.0 in /usr/local/lib/python3.7/dist-packages (from wandb) (7.1.2)\n",
            "Collecting docker-pycreds>=0.4.0\n",
            "  Downloading https://files.pythonhosted.org/packages/f5/e8/f6bd1eee09314e7e6dee49cbe2c5e22314ccdb38db16c9fc72d2fa80d054/docker_pycreds-0.4.0-py2.py3-none-any.whl\n",
            "Requirement already satisfied: PyYAML in /usr/local/lib/python3.7/dist-packages (from wandb) (3.13)\n",
            "Collecting configparser>=3.8.1\n",
            "  Downloading https://files.pythonhosted.org/packages/fd/01/ff260a18caaf4457eb028c96eeb405c4a230ca06c8ec9c1379f813caa52e/configparser-5.0.2-py3-none-any.whl\n",
            "Requirement already satisfied: psutil>=5.0.0 in /usr/local/lib/python3.7/dist-packages (from wandb) (5.4.8)\n",
            "Requirement already satisfied: protobuf>=3.12.0 in /usr/local/lib/python3.7/dist-packages (from wandb) (3.12.4)\n",
            "Requirement already satisfied: urllib3!=1.25.0,!=1.25.1,<1.26,>=1.21.1 in /usr/local/lib/python3.7/dist-packages (from requests<3,>=2.0.0->wandb) (1.24.3)\n",
            "Requirement already satisfied: certifi>=2017.4.17 in /usr/local/lib/python3.7/dist-packages (from requests<3,>=2.0.0->wandb) (2020.12.5)\n",
            "Requirement already satisfied: idna<3,>=2.5 in /usr/local/lib/python3.7/dist-packages (from requests<3,>=2.0.0->wandb) (2.10)\n",
            "Requirement already satisfied: chardet<4,>=3.0.2 in /usr/local/lib/python3.7/dist-packages (from requests<3,>=2.0.0->wandb) (3.0.4)\n",
            "Collecting gitdb<5,>=4.0.1\n",
            "\u001b[?25l  Downloading https://files.pythonhosted.org/packages/48/11/d1800bca0a3bae820b84b7d813ad1eff15a48a64caea9c823fc8c1b119e8/gitdb-4.0.5-py3-none-any.whl (63kB)\n",
            "\u001b[K     |████████████████████████████████| 71kB 10.9MB/s \n",
            "\u001b[?25hRequirement already satisfied: setuptools in /usr/local/lib/python3.7/dist-packages (from protobuf>=3.12.0->wandb) (54.0.0)\n",
            "Collecting smmap<4,>=3.0.1\n",
            "  Downloading https://files.pythonhosted.org/packages/d5/1e/6130925131f639b2acde0f7f18b73e33ce082ff2d90783c436b52040af5a/smmap-3.0.5-py2.py3-none-any.whl\n",
            "Building wheels for collected packages: pathtools, subprocess32\n",
            "  Building wheel for pathtools (setup.py) ... \u001b[?25l\u001b[?25hdone\n",
            "  Created wheel for pathtools: filename=pathtools-0.1.2-cp37-none-any.whl size=8786 sha256=4bc48916d663f541d40ffe9ea06776f35aa0f1fa2c0dc55acca5f2138333e762\n",
            "  Stored in directory: /root/.cache/pip/wheels/0b/04/79/c3b0c3a0266a3cb4376da31e5bfe8bba0c489246968a68e843\n",
            "  Building wheel for subprocess32 (setup.py) ... \u001b[?25l\u001b[?25hdone\n",
            "  Created wheel for subprocess32: filename=subprocess32-3.5.4-cp37-none-any.whl size=6489 sha256=7ee354866a4e489b751c6b08b395ef331dfe54803868797ceaefa908632013f7\n",
            "  Stored in directory: /root/.cache/pip/wheels/68/39/1a/5e402bdfdf004af1786c8b853fd92f8c4a04f22aad179654d1\n",
            "Successfully built pathtools subprocess32\n",
            "Installing collected packages: smmap, gitdb, GitPython, shortuuid, pathtools, subprocess32, sentry-sdk, docker-pycreds, configparser, wandb\n",
            "Successfully installed GitPython-3.1.14 configparser-5.0.2 docker-pycreds-0.4.0 gitdb-4.0.5 pathtools-0.1.2 sentry-sdk-1.0.0 shortuuid-1.0.1 smmap-3.0.5 subprocess32-3.5.4 wandb-0.10.21\n"
          ],
          "name": "stdout"
        }
      ]
    },
    {
      "cell_type": "code",
      "metadata": {
        "id": "Y1OfVTIUo_g5",
        "colab": {
          "base_uri": "https://localhost:8080/"
        },
        "outputId": "65de684f-793f-4ea9-af0c-47da536608c4"
      },
      "source": [
        "(trainX, trainy), (testX, testy) = fashion_mnist.load_data()"
      ],
      "execution_count": null,
      "outputs": [
        {
          "output_type": "stream",
          "text": [
            "Downloading data from https://storage.googleapis.com/tensorflow/tf-keras-datasets/train-labels-idx1-ubyte.gz\n",
            "32768/29515 [=================================] - 0s 0us/step\n",
            "Downloading data from https://storage.googleapis.com/tensorflow/tf-keras-datasets/train-images-idx3-ubyte.gz\n",
            "26427392/26421880 [==============================] - 0s 0us/step\n",
            "Downloading data from https://storage.googleapis.com/tensorflow/tf-keras-datasets/t10k-labels-idx1-ubyte.gz\n",
            "8192/5148 [===============================================] - 0s 0us/step\n",
            "Downloading data from https://storage.googleapis.com/tensorflow/tf-keras-datasets/t10k-images-idx3-ubyte.gz\n",
            "4423680/4422102 [==============================] - 0s 0us/step\n"
          ],
          "name": "stdout"
        }
      ]
    },
    {
      "cell_type": "code",
      "metadata": {
        "colab": {
          "base_uri": "https://localhost:8080/"
        },
        "id": "Vkn-Go21pMdQ",
        "outputId": "b5453cd6-76ba-4553-f8ae-da6cd8e8dced"
      },
      "source": [
        "np.unique(trainy)"
      ],
      "execution_count": null,
      "outputs": [
        {
          "output_type": "execute_result",
          "data": {
            "text/plain": [
              "array([0, 1, 2, 3, 4, 5, 6, 7, 8, 9], dtype=uint8)"
            ]
          },
          "metadata": {
            "tags": []
          },
          "execution_count": 9
        }
      ]
    },
    {
      "cell_type": "code",
      "metadata": {
        "id": "LsS6iYFsq2h9",
        "colab": {
          "base_uri": "https://localhost:8080/"
        },
        "outputId": "372d23b8-cb16-4ab0-fd62-09bd6edb8b04"
      },
      "source": [
        "trainy.T.shape"
      ],
      "execution_count": null,
      "outputs": [
        {
          "output_type": "execute_result",
          "data": {
            "text/plain": [
              "(60000,)"
            ]
          },
          "metadata": {
            "tags": []
          },
          "execution_count": 12
        }
      ]
    },
    {
      "cell_type": "code",
      "metadata": {
        "colab": {
          "base_uri": "https://localhost:8080/",
          "height": 163
        },
        "id": "r1RDYJJUq9z7",
        "outputId": "82b15fe4-a82d-4410-c5fb-9e1acc16d31f"
      },
      "source": [
        "np.exp(700)[0]"
      ],
      "execution_count": null,
      "outputs": [
        {
          "output_type": "error",
          "ename": "IndexError",
          "evalue": "ignored",
          "traceback": [
            "\u001b[0;31m---------------------------------------------------------------------------\u001b[0m",
            "\u001b[0;31mIndexError\u001b[0m                                Traceback (most recent call last)",
            "\u001b[0;32m<ipython-input-26-88be095c2278>\u001b[0m in \u001b[0;36m<module>\u001b[0;34m()\u001b[0m\n\u001b[0;32m----> 1\u001b[0;31m \u001b[0mnp\u001b[0m\u001b[0;34m.\u001b[0m\u001b[0mexp\u001b[0m\u001b[0;34m(\u001b[0m\u001b[0;36m700\u001b[0m\u001b[0;34m)\u001b[0m\u001b[0;34m[\u001b[0m\u001b[0;36m0\u001b[0m\u001b[0;34m]\u001b[0m\u001b[0;34m\u001b[0m\u001b[0;34m\u001b[0m\u001b[0m\n\u001b[0m",
            "\u001b[0;31mIndexError\u001b[0m: invalid index to scalar variable."
          ]
        }
      ]
    },
    {
      "cell_type": "code",
      "metadata": {
        "id": "Jriaq5o4GmyT"
      },
      "source": [
        "\r\n",
        "def softmax(arr):\r\n",
        "\r\n",
        "    l = []\r\n",
        "\r\n",
        "    flag = False\r\n",
        "\r\n",
        "    cnt = 0\r\n",
        "\r\n",
        "    y = []\r\n",
        "    for i in arr : \r\n",
        "      if(i<=700):\r\n",
        "         l.append(np.exp(i))\r\n",
        "      else:\r\n",
        "        flag = True\r\n",
        "        cnt = cnt + 1\r\n",
        "        y.append(i)\r\n",
        "\r\n",
        "    if(flag):\r\n",
        "\r\n",
        "       temp = np.zeros(shape=(len(arr),1),dtype=float)\r\n",
        "       for it in y:\r\n",
        "          temp[it][0] = 1.0/cnt;\r\n",
        "\r\n",
        "       return temp   \r\n",
        "         \r\n",
        "    if(np.sum(l) != 0):\r\n",
        "      l = np.array(l)\r\n",
        "      l = (l)/np.sum(l)\r\n",
        "\r\n",
        "      l = l.reshape((l.shape[0],1))\r\n",
        "\r\n",
        "      return l\r\n",
        "\r\n",
        "    else:\r\n",
        "       return (1.0/len(arr))*(np.ones(shape=(len(arr),1),dtype=float))\r\n",
        "\r\n",
        "\r\n",
        "def feed_forward(X,activation_function,weights,biases,output_function=softmax):\r\n",
        "\r\n",
        "    X = X.flatten()\r\n",
        "    num_hidden_layers = len(biases)\r\n",
        "    # X is the input (x1,x2,...,xn)\r\n",
        "    # activation_function is just the activation function s.t h_i = activation_function(a_i)\r\n",
        "    # weights is a list of m*n where n is number of neurons in previous layer and m is number of neurons in current layer assume 1 based indexing \r\n",
        "    # assuming output function O is softmax function\r\n",
        "    # biases is list of  [b1,b2,..,bk] for each layer\r\n",
        "\r\n",
        "    X = X.reshape((X.shape[0],1))\r\n",
        "    a = [X]\r\n",
        "    h = [X]\r\n",
        "    \r\n",
        "    #I will add checks for the num_neurons\r\n",
        "    for i in range(num_hidden_layers):\r\n",
        "       if(i == 0):\r\n",
        "         continue\r\n",
        "       # a_i = W_ih_(i-1) + b_i\r\n",
        "       a.append(np.matmul(weights[i],h[i-1])+biases[i])\r\n",
        "       h.append(activation_function(a[len(a)-1])\r\n",
        "\r\n",
        "    return [a,h,output_function(a[len(a)-1])]\r\n",
        "    "
      ],
      "execution_count": null,
      "outputs": []
    },
    {
      "cell_type": "code",
      "metadata": {
        "id": "IbZQU9bCsCJi"
      },
      "source": [
        "def caluculate_gradients(y_true,y_out,h,a,weights,act_fn_derivative):\r\n",
        "    \r\n",
        "    #delta(A_l) = -(e_ytrue - y_out)\r\n",
        "    #delta(h_i) = (W_i+1).Tdelta(A_i+1)  (for i = L-1 to 1)\r\n",
        "    #delta(A_i) = delta(h_i)*(activation_function'(A_i)) for(i = L-1 to 1)\r\n",
        "    #delta(W_k) = delta(A_k)(h_(k-1).T) for(i = L to i = 1)\r\n",
        "    #delta(b_k) = delta(A_k)\r\n",
        "\r\n",
        "\r\n",
        "    e = np.zeros(len(y_out))\r\n",
        "    e[y_true] = 1\r\n",
        "    A = y_out-e\r\n",
        "    l = len(y_out)\r\n",
        "    delta_W = []\r\n",
        "    delta_W.append(np.matmul(A,h[l-1].T))\r\n",
        "    delta_B.append(A)\r\n",
        "    l = l-1\r\n",
        "    while(l >= 1):\r\n",
        "\r\n",
        "       H = np.matmul(weights[l+1].T,A)\r\n",
        "       A = H*(act_fn_derivative(a[l]))     # assuming a is 1 based index \r\n",
        "       delta_W.append(np.matmul(A,h[l-1].T))\r\n",
        "       delta_B.append(A)\r\n",
        "       l = l-1\r\n",
        "\r\n",
        "    delta_W.reverse()\r\n",
        "    delta_B.reverse()\r\n",
        "    return [delta_W,delta_B]\r\n",
        "\r\n",
        "    \r\n",
        "\r\n"
      ],
      "execution_count": null,
      "outputs": []
    },
    {
      "cell_type": "code",
      "metadata": {
        "id": "_wyYkWzOyyOT"
      },
      "source": [
        "def upd_lst(lst1,lst2,operation,eeta):\r\n",
        "   l = []\r\n",
        "\r\n",
        "   for (x,y) in zip(lst1,lst2):\r\n",
        "     if(operation == '+'):\r\n",
        "       l.append(x+(eeta*y))\r\n",
        "     else:\r\n",
        "       l.append(x-(eeta*y))\r\n",
        "\r\n",
        "   return l"
      ],
      "execution_count": null,
      "outputs": []
    },
    {
      "cell_type": "code",
      "metadata": {
        "id": "WP-FV-Ijsclo"
      },
      "source": [
        "def sgd(X,Y,num_epochs,weight_decay,learning_rate,batch_size,weights,biases,activation_function,act_fn_derivative):\r\n",
        "\r\n",
        "     for i in range(num_epochs): \r\n",
        "          cnt = 0\r\n",
        "          cum_W = []\r\n",
        "          cum_B = []\r\n",
        "          for j in range(X.shape[0]):\r\n",
        "\r\n",
        "             cnt = cnt + 1\r\n",
        "             r = feed_forward(X[j],activation_function,weights,biases)\r\n",
        "             a = r[0]\r\n",
        "             h = r[1]\r\n",
        "             yout = r[2]\r\n",
        "             gradients = caluculate_gradients(Y[j],yout,h,a,weights)\r\n",
        "             cum_W = upd_lst(cum_W,gradients[0],'+',1)\r\n",
        "             cum_B = upd_lst(cum_B,gradients[1],'+',1)\r\n",
        "             if(cnt == batch_size): \r\n",
        "                weights = upd_lst(weights,cum_W,'-',(learning_rate*(1-weight_decay))/batch_size)\r\n",
        "                biases = upd_lst(biases,cum_B,'-',(learning_rate*(1-weight_decay))/batch_size)\r\n",
        "                cum_W = []\r\n",
        "                cum_B = []\r\n",
        "                cnt = 0\r\n",
        "      \r\n",
        "      return [weights,biases]"
      ],
      "execution_count": null,
      "outputs": []
    },
    {
      "cell_type": "code",
      "metadata": {
        "id": "KuklB5S78jQy"
      },
      "source": [
        "def backpropagation(X,Y,num_epochs,num_hidden_layers,sz_hidden_layer,weight_decay,learning_rate,optimizer,batch_size,weight_initialisation,activation_function):\r\n",
        "    \r\n",
        "    \r\n",
        "    #do the weights Initialisation here based on weight_initialisation,num_hidden_layers,sz_each_hidden_layer\r\n",
        "    \r\n",
        "    weights = [0]  #dummy value\r\n",
        "    biases =  [0]  #dummy value\r\n",
        "\r\n",
        "    if(weight_initialisation == 'random'):\r\n",
        "          \r\n",
        "          num_classes = len(np.unique(Y))\r\n",
        "          i = len(X[0].flatten())\r\n",
        "          a = -100\r\n",
        "          b = 100\r\n",
        "\r\n",
        "          for j in range(num_hidden_layers-1):\r\n",
        "              weights.append((200)*np.random.rand(sz_hidden_layer,i)-100)\r\n",
        "              biases.append((200)*np.random.rand(sz_hidden_layer)-100)\r\n",
        "              i = sz_hidden_layer\r\n",
        "\r\n",
        "          weights.append((200)*np.random.rand(num_classes,i)-100)\r\n",
        "          biases.append((200)*np.random.rand(num_classess)-100)\r\n",
        "          \r\n",
        "     else:\r\n",
        "         print(\"Please Implement Xavier haha !!\")  \r\n",
        "        \r\n",
        "\r\n",
        "    if(optimizer == 'sgd'):\r\n",
        "       return sgd(X,Y,num_epochs,weight_decay,learning_rate,batch_size,weights,biases,activation_function,act_fn_derivative)\r\n",
        "      \r\n",
        "    if(optimizer == 'momentum'): \r\n",
        "       return momentum(X,Y,num_epochs,weight_decay,learning_rate,batch_size,weights,biases,activation_function,act_fn_derivative)\r\n",
        "\r\n",
        "    if(optimizer == 'nesterov'): \r\n",
        "       return nesterov(X,Y,num_epochs,weight_decay,learning_rate,batch_size,weights,biases,activation_function,act_fn_derivative)\r\n",
        "\r\n",
        "    if(optimizer == 'rmsprop'):\r\n",
        "       return rmsprop(X,Y,num_epochs,weight_decay,learning_rate,batch_size,weights,biases,activation_function,act_fn_derivative)\r\n",
        "\r\n",
        "    if(optimizer == 'adam'):\r\n",
        "      return adam(X,Y,num_epochs,weight_decay,learning_rate,batch_size,weights,biases,activation_function,act_fn_derivative)\r\n",
        "\r\n",
        "    if(optimizer == 'nadam'):\r\n",
        "      return nadam(X,Y,num_epochs,weight_decay,learning_rate,batch_size,weights,biases,activation_function,act_fn_derivative)\r\n",
        "  \r\n"
      ],
      "execution_count": null,
      "outputs": []
    },
    {
      "cell_type": "code",
      "metadata": {
        "id": "1gsjii9ICVT3",
        "colab": {
          "base_uri": "https://localhost:8080/"
        },
        "outputId": "32ded10c-3ca3-4d90-9d50-5e96f4902b51"
      },
      "source": [
        ""
      ],
      "execution_count": 1,
      "outputs": [
        {
          "output_type": "execute_result",
          "data": {
            "text/plain": [
              "[1, 2, 3, 1, 2, 3]"
            ]
          },
          "metadata": {
            "tags": []
          },
          "execution_count": 1
        }
      ]
    },
    {
      "cell_type": "code",
      "metadata": {
        "id": "gDmQzYnqwokO"
      },
      "source": [
        ""
      ],
      "execution_count": null,
      "outputs": []
    }
  ]
}