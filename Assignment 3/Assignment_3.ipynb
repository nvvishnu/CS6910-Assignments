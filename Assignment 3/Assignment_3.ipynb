{
  "nbformat": 4,
  "nbformat_minor": 0,
  "metadata": {
    "colab": {
      "name": "Assignment 3",
      "provenance": [],
      "collapsed_sections": [],
      "authorship_tag": "ABX9TyMDt1AZo70DaW3fqAUlO7Ny",
      "include_colab_link": true
    },
    "kernelspec": {
      "name": "python3",
      "display_name": "Python 3"
    },
    "language_info": {
      "name": "python"
    }
  },
  "cells": [
    {
      "cell_type": "markdown",
      "metadata": {
        "id": "view-in-github",
        "colab_type": "text"
      },
      "source": [
        "<a href=\"https://colab.research.google.com/github/nvvishnu/CS6910-Assignments/blob/main/Assignment%203/Assignment_3.ipynb\" target=\"_parent\"><img src=\"https://colab.research.google.com/assets/colab-badge.svg\" alt=\"Open In Colab\"/></a>"
      ]
    },
    {
      "cell_type": "code",
      "metadata": {
        "colab": {
          "base_uri": "https://localhost:8080/"
        },
        "id": "XDKBRSIzNEg-",
        "outputId": "fb88aff5-c7cb-4dbe-ea0c-d6df42421b00"
      },
      "source": [
        "import numpy as np\n",
        "import csv\n",
        "import tensorflow as tf\n",
        "from tensorflow import keras\n",
        "from keras.utils.vis_utils import plot_model\n",
        "!pip install wandb\n",
        "import wandb\n",
        "from wandb.keras import WandbCallback \n",
        "import pandas as pd\n",
        "!pip install dataframe-image\n",
        "import dataframe_image as dfi"
      ],
      "execution_count": 2,
      "outputs": [
        {
          "output_type": "stream",
          "text": [
            "Collecting wandb\n",
            "  Using cached https://files.pythonhosted.org/packages/98/5f/45439b4767334b868e1c8c35b1b0ba3747d8c21be77b79f09eed7aa3c72b/wandb-0.10.30-py2.py3-none-any.whl\n",
            "Requirement already satisfied: Click>=7.0 in /usr/local/lib/python3.7/dist-packages (from wandb) (8.0.0)\n",
            "Requirement already satisfied: requests<3,>=2.0.0 in /usr/local/lib/python3.7/dist-packages (from wandb) (2.23.0)\n",
            "Collecting shortuuid>=0.5.0\n",
            "  Downloading https://files.pythonhosted.org/packages/25/a6/2ecc1daa6a304e7f1b216f0896b26156b78e7c38e1211e9b798b4716c53d/shortuuid-1.0.1-py3-none-any.whl\n",
            "Requirement already satisfied: six>=1.13.0 in /usr/local/lib/python3.7/dist-packages (from wandb) (1.15.0)\n",
            "Requirement already satisfied: promise<3,>=2.0 in /usr/local/lib/python3.7/dist-packages (from wandb) (2.3)\n",
            "Collecting pathtools\n",
            "  Downloading https://files.pythonhosted.org/packages/e7/7f/470d6fcdf23f9f3518f6b0b76be9df16dcc8630ad409947f8be2eb0ed13a/pathtools-0.1.2.tar.gz\n",
            "Collecting sentry-sdk>=0.4.0\n",
            "\u001b[?25l  Downloading https://files.pythonhosted.org/packages/1c/4a/a54b254f67d8f4052338d54ebe90126f200693440a93ef76d254d581e3ec/sentry_sdk-1.1.0-py2.py3-none-any.whl (131kB)\n",
            "\u001b[K     |████████████████████████████████| 133kB 2.9MB/s \n",
            "\u001b[?25hCollecting configparser>=3.8.1\n",
            "  Using cached https://files.pythonhosted.org/packages/fd/01/ff260a18caaf4457eb028c96eeb405c4a230ca06c8ec9c1379f813caa52e/configparser-5.0.2-py3-none-any.whl\n",
            "Requirement already satisfied: psutil>=5.0.0 in /usr/local/lib/python3.7/dist-packages (from wandb) (5.4.8)\n",
            "Requirement already satisfied: PyYAML in /usr/local/lib/python3.7/dist-packages (from wandb) (3.13)\n",
            "Collecting GitPython>=1.0.0\n",
            "\u001b[?25l  Downloading https://files.pythonhosted.org/packages/27/da/6f6224fdfc47dab57881fe20c0d1bc3122be290198ba0bf26a953a045d92/GitPython-3.1.17-py3-none-any.whl (166kB)\n",
            "\u001b[K     |████████████████████████████████| 174kB 13.9MB/s \n",
            "\u001b[?25hRequirement already satisfied: python-dateutil>=2.6.1 in /usr/local/lib/python3.7/dist-packages (from wandb) (2.8.1)\n",
            "Requirement already satisfied: protobuf>=3.12.0 in /usr/local/lib/python3.7/dist-packages (from wandb) (3.12.4)\n",
            "Collecting subprocess32>=3.5.3\n",
            "  Using cached https://files.pythonhosted.org/packages/32/c8/564be4d12629b912ea431f1a50eb8b3b9d00f1a0b1ceff17f266be190007/subprocess32-3.5.4.tar.gz\n",
            "Collecting docker-pycreds>=0.4.0\n",
            "  Using cached https://files.pythonhosted.org/packages/f5/e8/f6bd1eee09314e7e6dee49cbe2c5e22314ccdb38db16c9fc72d2fa80d054/docker_pycreds-0.4.0-py2.py3-none-any.whl\n",
            "Requirement already satisfied: certifi>=2017.4.17 in /usr/local/lib/python3.7/dist-packages (from requests<3,>=2.0.0->wandb) (2020.12.5)\n",
            "Requirement already satisfied: idna<3,>=2.5 in /usr/local/lib/python3.7/dist-packages (from requests<3,>=2.0.0->wandb) (2.10)\n",
            "Requirement already satisfied: chardet<4,>=3.0.2 in /usr/local/lib/python3.7/dist-packages (from requests<3,>=2.0.0->wandb) (3.0.4)\n",
            "Requirement already satisfied: urllib3!=1.25.0,!=1.25.1,<1.26,>=1.21.1 in /usr/local/lib/python3.7/dist-packages (from requests<3,>=2.0.0->wandb) (1.24.3)\n",
            "Requirement already satisfied: typing-extensions>=3.7.4.0; python_version < \"3.8\" in /usr/local/lib/python3.7/dist-packages (from GitPython>=1.0.0->wandb) (3.7.4.3)\n",
            "Collecting gitdb<5,>=4.0.1\n",
            "\u001b[?25l  Downloading https://files.pythonhosted.org/packages/ea/e8/f414d1a4f0bbc668ed441f74f44c116d9816833a48bf81d22b697090dba8/gitdb-4.0.7-py3-none-any.whl (63kB)\n",
            "\u001b[K     |████████████████████████████████| 71kB 8.0MB/s \n",
            "\u001b[?25hRequirement already satisfied: setuptools in /usr/local/lib/python3.7/dist-packages (from protobuf>=3.12.0->wandb) (56.1.0)\n",
            "Collecting smmap<5,>=3.0.1\n",
            "  Downloading https://files.pythonhosted.org/packages/68/ee/d540eb5e5996eb81c26ceffac6ee49041d473bc5125f2aa995cf51ec1cf1/smmap-4.0.0-py2.py3-none-any.whl\n",
            "Building wheels for collected packages: pathtools, subprocess32\n",
            "  Building wheel for pathtools (setup.py) ... \u001b[?25l\u001b[?25hdone\n",
            "  Created wheel for pathtools: filename=pathtools-0.1.2-cp37-none-any.whl size=8786 sha256=db33978bf90d8931b846cb60c837ef9b2c7bc60b55bf8353ee7d5d1254d77e3c\n",
            "  Stored in directory: /root/.cache/pip/wheels/0b/04/79/c3b0c3a0266a3cb4376da31e5bfe8bba0c489246968a68e843\n",
            "  Building wheel for subprocess32 (setup.py) ... \u001b[?25l\u001b[?25hdone\n",
            "  Created wheel for subprocess32: filename=subprocess32-3.5.4-cp37-none-any.whl size=6489 sha256=5e0b1456d176400f918b4034ceb06c5997f9fad5fb3bbb5b2ca1bc3ce738e2e0\n",
            "  Stored in directory: /root/.cache/pip/wheels/68/39/1a/5e402bdfdf004af1786c8b853fd92f8c4a04f22aad179654d1\n",
            "Successfully built pathtools subprocess32\n",
            "Installing collected packages: shortuuid, pathtools, sentry-sdk, configparser, smmap, gitdb, GitPython, subprocess32, docker-pycreds, wandb\n",
            "Successfully installed GitPython-3.1.17 configparser-5.0.2 docker-pycreds-0.4.0 gitdb-4.0.7 pathtools-0.1.2 sentry-sdk-1.1.0 shortuuid-1.0.1 smmap-4.0.0 subprocess32-3.5.4 wandb-0.10.30\n",
            "Collecting dataframe-image\n",
            "  Downloading https://files.pythonhosted.org/packages/75/ce/8b9f506ecf5b177471e0f04117565b6eaf83f13749deca3d3b35f52f9fd6/dataframe_image-0.1.1-py3-none-any.whl\n",
            "Requirement already satisfied: requests in /usr/local/lib/python3.7/dist-packages (from dataframe-image) (2.23.0)\n",
            "Requirement already satisfied: pandas>=0.24 in /usr/local/lib/python3.7/dist-packages (from dataframe-image) (1.1.5)\n",
            "Requirement already satisfied: matplotlib>=3.1 in /usr/local/lib/python3.7/dist-packages (from dataframe-image) (3.2.2)\n",
            "Collecting aiohttp\n",
            "\u001b[?25l  Downloading https://files.pythonhosted.org/packages/88/c0/5890b4c8b04a79b7360e8fe4490feb0bb3ab179743f199f0e6220cebd568/aiohttp-3.7.4.post0-cp37-cp37m-manylinux2014_x86_64.whl (1.3MB)\n",
            "\u001b[K     |████████████████████████████████| 1.3MB 3.5MB/s \n",
            "\u001b[?25hRequirement already satisfied: beautifulsoup4 in /usr/local/lib/python3.7/dist-packages (from dataframe-image) (4.6.3)\n",
            "Requirement already satisfied: nbconvert>=5 in /usr/local/lib/python3.7/dist-packages (from dataframe-image) (5.6.1)\n",
            "Requirement already satisfied: certifi>=2017.4.17 in /usr/local/lib/python3.7/dist-packages (from requests->dataframe-image) (2020.12.5)\n",
            "Requirement already satisfied: chardet<4,>=3.0.2 in /usr/local/lib/python3.7/dist-packages (from requests->dataframe-image) (3.0.4)\n",
            "Requirement already satisfied: urllib3!=1.25.0,!=1.25.1,<1.26,>=1.21.1 in /usr/local/lib/python3.7/dist-packages (from requests->dataframe-image) (1.24.3)\n",
            "Requirement already satisfied: idna<3,>=2.5 in /usr/local/lib/python3.7/dist-packages (from requests->dataframe-image) (2.10)\n",
            "Requirement already satisfied: python-dateutil>=2.7.3 in /usr/local/lib/python3.7/dist-packages (from pandas>=0.24->dataframe-image) (2.8.1)\n",
            "Requirement already satisfied: pytz>=2017.2 in /usr/local/lib/python3.7/dist-packages (from pandas>=0.24->dataframe-image) (2018.9)\n",
            "Requirement already satisfied: numpy>=1.15.4 in /usr/local/lib/python3.7/dist-packages (from pandas>=0.24->dataframe-image) (1.19.5)\n",
            "Requirement already satisfied: pyparsing!=2.0.4,!=2.1.2,!=2.1.6,>=2.0.1 in /usr/local/lib/python3.7/dist-packages (from matplotlib>=3.1->dataframe-image) (2.4.7)\n",
            "Requirement already satisfied: cycler>=0.10 in /usr/local/lib/python3.7/dist-packages (from matplotlib>=3.1->dataframe-image) (0.10.0)\n",
            "Requirement already satisfied: kiwisolver>=1.0.1 in /usr/local/lib/python3.7/dist-packages (from matplotlib>=3.1->dataframe-image) (1.3.1)\n",
            "Requirement already satisfied: attrs>=17.3.0 in /usr/local/lib/python3.7/dist-packages (from aiohttp->dataframe-image) (21.2.0)\n",
            "Collecting multidict<7.0,>=4.5\n",
            "\u001b[?25l  Downloading https://files.pythonhosted.org/packages/7c/a6/4123b8165acbe773d1a8dc8e3f0d1edea16d29f7de018eda769abb56bd30/multidict-5.1.0-cp37-cp37m-manylinux2014_x86_64.whl (142kB)\n",
            "\u001b[K     |████████████████████████████████| 143kB 15.9MB/s \n",
            "\u001b[?25hRequirement already satisfied: typing-extensions>=3.6.5 in /usr/local/lib/python3.7/dist-packages (from aiohttp->dataframe-image) (3.7.4.3)\n",
            "Collecting yarl<2.0,>=1.0\n",
            "\u001b[?25l  Downloading https://files.pythonhosted.org/packages/f1/62/046834c5fc998c88ab2ef722f5d42122230a632212c8afa76418324f53ff/yarl-1.6.3-cp37-cp37m-manylinux2014_x86_64.whl (294kB)\n",
            "\u001b[K     |████████████████████████████████| 296kB 13.2MB/s \n",
            "\u001b[?25hCollecting async-timeout<4.0,>=3.0\n",
            "  Downloading https://files.pythonhosted.org/packages/e1/1e/5a4441be21b0726c4464f3f23c8b19628372f606755a9d2e46c187e65ec4/async_timeout-3.0.1-py3-none-any.whl\n",
            "Requirement already satisfied: jupyter-core in /usr/local/lib/python3.7/dist-packages (from nbconvert>=5->dataframe-image) (4.7.1)\n",
            "Requirement already satisfied: pygments in /usr/local/lib/python3.7/dist-packages (from nbconvert>=5->dataframe-image) (2.6.1)\n",
            "Requirement already satisfied: testpath in /usr/local/lib/python3.7/dist-packages (from nbconvert>=5->dataframe-image) (0.4.4)\n",
            "Requirement already satisfied: jinja2>=2.4 in /usr/local/lib/python3.7/dist-packages (from nbconvert>=5->dataframe-image) (2.11.3)\n",
            "Requirement already satisfied: traitlets>=4.2 in /usr/local/lib/python3.7/dist-packages (from nbconvert>=5->dataframe-image) (5.0.5)\n",
            "Requirement already satisfied: bleach in /usr/local/lib/python3.7/dist-packages (from nbconvert>=5->dataframe-image) (3.3.0)\n",
            "Requirement already satisfied: defusedxml in /usr/local/lib/python3.7/dist-packages (from nbconvert>=5->dataframe-image) (0.7.1)\n",
            "Requirement already satisfied: pandocfilters>=1.4.1 in /usr/local/lib/python3.7/dist-packages (from nbconvert>=5->dataframe-image) (1.4.3)\n",
            "Requirement already satisfied: entrypoints>=0.2.2 in /usr/local/lib/python3.7/dist-packages (from nbconvert>=5->dataframe-image) (0.3)\n",
            "Requirement already satisfied: mistune<2,>=0.8.1 in /usr/local/lib/python3.7/dist-packages (from nbconvert>=5->dataframe-image) (0.8.4)\n",
            "Requirement already satisfied: nbformat>=4.4 in /usr/local/lib/python3.7/dist-packages (from nbconvert>=5->dataframe-image) (5.1.3)\n",
            "Requirement already satisfied: six>=1.5 in /usr/local/lib/python3.7/dist-packages (from python-dateutil>=2.7.3->pandas>=0.24->dataframe-image) (1.15.0)\n",
            "Requirement already satisfied: MarkupSafe>=0.23 in /usr/local/lib/python3.7/dist-packages (from jinja2>=2.4->nbconvert>=5->dataframe-image) (2.0.0)\n",
            "Requirement already satisfied: ipython-genutils in /usr/local/lib/python3.7/dist-packages (from traitlets>=4.2->nbconvert>=5->dataframe-image) (0.2.0)\n",
            "Requirement already satisfied: webencodings in /usr/local/lib/python3.7/dist-packages (from bleach->nbconvert>=5->dataframe-image) (0.5.1)\n",
            "Requirement already satisfied: packaging in /usr/local/lib/python3.7/dist-packages (from bleach->nbconvert>=5->dataframe-image) (20.9)\n",
            "Requirement already satisfied: jsonschema!=2.5.0,>=2.4 in /usr/local/lib/python3.7/dist-packages (from nbformat>=4.4->nbconvert>=5->dataframe-image) (2.6.0)\n",
            "Installing collected packages: multidict, yarl, async-timeout, aiohttp, dataframe-image\n",
            "Successfully installed aiohttp-3.7.4.post0 async-timeout-3.0.1 dataframe-image-0.1.1 multidict-5.1.0 yarl-1.6.3\n"
          ],
          "name": "stdout"
        }
      ]
    },
    {
      "cell_type": "code",
      "metadata": {
        "id": "DAeYAucCaun2"
      },
      "source": [
        "from google.colab import drive\n",
        "drive.mount('/content/drive')"
      ],
      "execution_count": null,
      "outputs": []
    },
    {
      "cell_type": "markdown",
      "metadata": {
        "id": "qE-rwECua16N"
      },
      "source": [
        "# Train data preprocessing"
      ]
    },
    {
      "cell_type": "code",
      "metadata": {
        "id": "ZlMojRh9avrU"
      },
      "source": [
        "datapath = \"/content/drive/MyDrive/Assignment3/hi/lexicons/hi.translit.sampled.train.tsv\" #add path here after mounting drive \n",
        "input_texts = []\n",
        "target_texts = []\n",
        "expected_texts = []\n",
        "input_characters = set([' '])\n",
        "target_characters = set([' '])\n",
        "f = open(datapath)\n",
        "lines = csv.reader(f,delimiter='\\t')\n",
        " \n",
        "for row in lines:\n",
        "    input_text = row[1]\n",
        "    target_text = row[0]\n",
        "    #adding '\\t' as start and '\\n' as stop\n",
        "    expected_texts.append(target_text)\n",
        "    target_text = \"\\t\"+target_text+\"\\n\"\n",
        "    \n",
        " \n",
        "    input_texts.append(input_text)\n",
        "    target_texts.append(target_text)\n",
        "    \n",
        "    for char in input_text:\n",
        "        if char not in input_characters:\n",
        "            input_characters.add(char)\n",
        "    for char in target_text:\n",
        "        if char not in target_characters:\n",
        "            target_characters.add(char)\n",
        " \n",
        "input_characters = sorted(list(input_characters))\n",
        "target_characters = sorted(list(target_characters))\n",
        "num_encoder_tokens = len(input_characters)\n",
        "num_decoder_tokens = len(target_characters)\n",
        "max_encoder_seq_length = max([len(txt) for txt in input_texts])\n",
        "max_decoder_seq_length = max([len(txt) for txt in target_texts])\n",
        " \n",
        "print(\"Number of samples:\", len(input_texts))\n",
        "print(\"Number of unique input tokens:\", num_encoder_tokens)\n",
        "print(\"Number of unique output tokens:\", num_decoder_tokens)\n",
        "print(\"Max sequence length for inputs:\", max_encoder_seq_length)\n",
        "print(\"Max sequence length for outputs:\", max_decoder_seq_length)\n",
        " \n",
        "input_token_index = dict([(char, i) for i, char in enumerate(input_characters)])\n",
        "target_token_index = dict([(char, i) for i, char in enumerate(target_characters)])\n",
        " \n",
        "encoder_input_data = np.zeros((len(input_texts),max_encoder_seq_length),dtype='float32')\n",
        "decoder_input_data = np.zeros((len(input_texts),max_decoder_seq_length),dtype='float32')\n",
        "decoder_target_data = np.zeros((len(input_texts),max_decoder_seq_length,num_decoder_tokens),dtype='float32')\n",
        " \n",
        " \n",
        "for i,(input_text,target_text) in enumerate(zip(input_texts,target_texts)):\n",
        "    \n",
        "    for t,char in enumerate(input_text):\n",
        "       encoder_input_data[i,t] = input_token_index[char]\n",
        " \n",
        "    encoder_input_data[i,t+1:] = input_token_index[' ']\n",
        " \n",
        "    for t,char in enumerate(target_text):\n",
        "        decoder_input_data[i,t] = target_token_index[char]\n",
        "        if(t>0):\n",
        "          decoder_target_data[i, t - 1, target_token_index[char]] = 1.0\n",
        "    \n",
        "    decoder_input_data[i,t+1:] = target_token_index[' ']\n",
        "    decoder_target_data[i,t:,target_token_index[' ']] = 1.0\n",
        "\n",
        "reverse_input_char_index = dict((i, char) for char, i in input_token_index.items())\n",
        "reverse_target_char_index = dict((i, char) for char, i in target_token_index.items())"
      ],
      "execution_count": null,
      "outputs": []
    },
    {
      "cell_type": "markdown",
      "metadata": {
        "id": "RCAZ11syby17"
      },
      "source": [
        "# Val data Preprocessing\n"
      ]
    },
    {
      "cell_type": "code",
      "metadata": {
        "id": "G7mHoMN9bygc"
      },
      "source": [
        "val_datapath = \"/content/drive/MyDrive/Assignment3/hi/lexicons/hi.translit.sampled.dev.tsv\"\n",
        "val_f = open(val_datapath)\n",
        "lines = csv.reader(val_f,delimiter='\\t')\n",
        "val_input_texts = []\n",
        "val_expected_texts = []\n",
        "for row in lines:\n",
        "    input_text = row[1]\n",
        "    target_text = row[0]\n",
        "    #adding '\\t' as start and '\\n' as stop\n",
        "    val_expected_texts.append(target_text)\n",
        "    val_input_texts.append(input_text)\n",
        "\n",
        "max_val_encoder_seq_length = max([len(txt) for txt in val_input_texts])\n",
        "\n",
        "val_encoder_input_data = np.zeros((len(val_input_texts),max_val_encoder_seq_length),dtype='float32')\n",
        "\n",
        "for i,input_text in enumerate(val_input_texts):\n",
        "    \n",
        "    for t,char in enumerate(input_text):\n",
        "       val_encoder_input_data[i,t] = input_token_index[char]\n",
        " \n",
        "    val_encoder_input_data[i,t+1:] = input_token_index[' ']\n"
      ],
      "execution_count": null,
      "outputs": []
    },
    {
      "cell_type": "markdown",
      "metadata": {
        "id": "3AEVIMfqb1pE"
      },
      "source": [
        "# Test data processing\n"
      ]
    },
    {
      "cell_type": "code",
      "metadata": {
        "id": "WeteBEyjb5tl"
      },
      "source": [
        "test_datapath = '/content/drive/MyDrive/Assignment3/hi/lexicons/hi.translit.sampled.test.tsv'\n",
        "test_f = open(test_datapath)\n",
        "lines = csv.reader(test_f,delimiter='\\t')\n",
        "test_input_texts = []\n",
        "test_expected_texts = []\n",
        "for row in lines:\n",
        "    input_text = row[1]\n",
        "    target_text = row[0]\n",
        "    #adding '\\t' as start and '\\n' as stop\n",
        "    test_expected_texts.append(target_text)\n",
        "    test_input_texts.append(input_text)\n",
        "\n",
        "max_test_encoder_seq_length = max([len(txt) for txt in test_input_texts])\n",
        "\n",
        "test_encoder_input_data = np.zeros((len(test_input_texts),max_test_encoder_seq_length),dtype='float32')\n",
        "\n",
        "for i,input_text in enumerate(test_input_texts):\n",
        "    \n",
        "    for t,char in enumerate(input_text):\n",
        "       test_encoder_input_data[i,t] = input_token_index[char]\n",
        " \n",
        "    test_encoder_input_data[i,t+1:] = input_token_index[' ']\n"
      ],
      "execution_count": null,
      "outputs": []
    },
    {
      "cell_type": "markdown",
      "metadata": {
        "id": "GITTNV5LcPer"
      },
      "source": [
        "# Model definitions"
      ]
    },
    {
      "cell_type": "code",
      "metadata": {
        "id": "vxJrCsEbcQXF"
      },
      "source": [
        "def get_model(num_encoder_tokens,num_decoder_tokens,embedding_size,num_encoder_layers,num_decoder_layers,hidden_layer_size,cell_type,drop_out):\n",
        "    \n",
        "    if(cell_type == 'LSTM'):\n",
        "        rnn_cell = tf.keras.layers.LSTM\n",
        "    elif(cell_type ==  'RNN'):\n",
        "        rnn_cell = tf.keras.layers.SimpleRNN\n",
        "    elif(cell_type == \"GRU\"):\n",
        "        rnn_cell = tf.keras.layers.GRU\n",
        "        \n",
        "\n",
        "    encoder_inputs = tf.keras.Input(shape = (None,))\n",
        "    encoder_out = tf.keras.layers.Embedding(input_dim = num_encoder_tokens,output_dim = embedding_size,name=\"encoderembedding\")(encoder_inputs) \n",
        "  \n",
        "\n",
        "    for i in range(num_encoder_layers):\n",
        "        encoder_out,*encoder_states = rnn_cell(hidden_layer_size,return_sequences=True,return_state=True,dropout = drop_out,\n",
        "                                               name=\"encoder_\"+str(i))(encoder_out)\n",
        "\n",
        "    decoder_inputs = tf.keras.Input(shape = (None,))\n",
        "    decoder_out = tf.keras.layers.Embedding(input_dim = num_decoder_tokens,output_dim=embedding_size,name=\"decoderembedding\")(decoder_inputs)\n",
        "    \n",
        "    for i in range(num_decoder_layers):\n",
        "        decoder_out,*_ = rnn_cell(hidden_layer_size,return_sequences=True,return_state=True,dropout = drop_out,\n",
        "                                  name=\"decoder_\"+str(i))(decoder_out,initial_state = encoder_states)\n",
        "    \n",
        "    decoder_dense = tf.keras.layers.Dense(num_decoder_tokens, activation=\"softmax\",name=\"decoderdense\")\n",
        "    decoder_outputs = decoder_dense(decoder_out)\n",
        "\n",
        "    model = tf.keras.Model([encoder_inputs,decoder_inputs], decoder_outputs)\n",
        "\n",
        "    model.compile(\n",
        "      optimizer=\"rmsprop\", loss=\"categorical_crossentropy\", metrics=[\"accuracy\"]\n",
        "    )\n",
        "     \n",
        "    # \"Inference Model\"\n",
        "    encoder_inputs = model.input[0]\n",
        "\n",
        "    enocoder_output,*encoder_states = model.get_layer(\"encoder_\"+str(num_encoder_layers-1)).output\n",
        "    encoder_model = tf.keras.Model(encoder_inputs,encoder_states)\n",
        "\n",
        "    decoder_inputs = model.input[1]\n",
        "    decoder_out = model.get_layer(\"decoderembedding\")(decoder_inputs)\n",
        "    \n",
        "    decoder_state_inputs = []\n",
        "    decoder_state_outputs = []\n",
        "    \n",
        "    for i in range(num_decoder_layers):\n",
        "      \n",
        "      curr_layer = model.get_layer(\"decoder_\"+str(i))\n",
        "      if (cell_type == \"LSTM\"):\n",
        "        decoder_in = [tf.keras.Input(shape=(encoder_states[0].shape[1],)),tf.keras.Input(shape=(encoder_states[0].shape[1],))]\n",
        "      else:\n",
        "        decoder_in = [tf.keras.Input(shape=(encoder_states[0].shape[1],))]\n",
        "      \n",
        "      decoder_state_inputs += decoder_in\n",
        "\n",
        "      decoder_out,*decoder_states = curr_layer(decoder_out,initial_state=decoder_in)\n",
        "\n",
        "      decoder_state_outputs += decoder_states\n",
        "    \n",
        "    dense_layer = model.get_layer('decoderdense')\n",
        "    decoder_output = dense_layer(decoder_out)\n",
        "\n",
        "    decoder_model = tf.keras.Model([decoder_inputs]+decoder_state_inputs,[decoder_output]+decoder_state_outputs)\n",
        "    \n",
        "\n",
        "    return [model,encoder_model,decoder_model]"
      ],
      "execution_count": null,
      "outputs": []
    },
    {
      "cell_type": "markdown",
      "metadata": {
        "id": "bNd6mox0cZaE"
      },
      "source": [
        "# Beam search Inference"
      ]
    },
    {
      "cell_type": "code",
      "metadata": {
        "id": "JnVY2xXlcajr"
      },
      "source": [
        "\n",
        "def fn(sequence):\n",
        "    \n",
        "    decoded_sentence = \"\"\n",
        "    for i in sequence:\n",
        "      sampled_char = reverse_target_char_index[i]\n",
        "      if sampled_char == '\\n':\n",
        "         break\n",
        "      decoded_sentence += sampled_char\n",
        "\n",
        "    return decoded_sentence\n",
        "\n",
        "\n",
        "def decode_sequence(input_seq,beam_size,encoder_model,decoder_model):\n",
        "    \n",
        "    num_samples = input_seq.shape[0]\n",
        "\n",
        "    # Encode the input as state vectors.\n",
        "    states_value = encoder_model.predict(input_seq)   \n",
        "\n",
        "    target_seq = np.zeros((num_samples,1))\n",
        "    # # Populate the first character of target sequence with the start character.\n",
        "    target_seq[:,0] = target_token_index[\"\\t\"]\n",
        "\n",
        "    num_decoder_layers = 0\n",
        "\n",
        "    for layer in decoder_model.layers:\n",
        "        if layer.name.startswith('decoder_') :\n",
        "           num_decoder_layers += 1\n",
        "    \n",
        "    #Shape (None,list(list))\n",
        "    sequence_list = [[list()] for i in range(num_samples)]\n",
        "    \n",
        "    #shape (None,curr_beamsize)\n",
        "    sequence_score = np.empty(shape=(num_samples,1),dtype=object)\n",
        "    sequence_score.fill(0.0)\n",
        "    \n",
        "    if(type(states_value) != list):\n",
        "      states_value = [states_value]\n",
        "    \n",
        "    sequence_state = [states_value*num_decoder_layers]\n",
        "\n",
        "    \n",
        "    num_states = len(sequence_state[0])\n",
        "    #print(\"num_states\",num_states)\n",
        "   \n",
        "    #intially curr_beam size 1 after 1st prediction we set it back to beam_size\n",
        "    k = 1\n",
        "\n",
        "    for ii in range(max_decoder_seq_length):\n",
        "        \n",
        "        # shape (None,list)\n",
        "        all_candidates = [ [] for i in range(num_samples) ]\n",
        "\n",
        "        for x in range(k):\n",
        "            \n",
        "            #seq is (None,curr_seq)  curr_seq means list found till now\n",
        "            seq = [sequence_list[i][x] for i in range(num_samples)]\n",
        "\n",
        "            #score is (None,1) it is score of all samples xth sequence\n",
        "            score = sequence_score[:,x]\n",
        "\n",
        "            #curr_state is the state_corresponding to xth sequence for all samples \n",
        "            curr_state = sequence_state[x]\n",
        "\n",
        "            if(ii>0):\n",
        "                 #filling the target_seq with previous elements of this xth sequence for all samples \n",
        "                 target_seq = np.array([seq[i][ii-1] for i in range(num_samples)])\n",
        "                 target_seq = target_seq.reshape((num_samples,1))\n",
        "            \n",
        "            #calling the predict function and storing the output_tokens and states\n",
        "            output_tokens,*states= decoder_model.predict([target_seq] + curr_state)\n",
        "            \n",
        "            #for all samples updating the corresponding all_candidate list\n",
        "            for i in range(num_samples):\n",
        "              #all_candidates[i] is list of [seq_list,score,states] , at the end we sort this all_candidates list based on score\n",
        "              all_candidates[i] += [[seq[i]+[j],score[i]- np.math.log(output_tokens[i,0,j]),[states[ii][i] for ii in range(num_states)]] for j in range(output_tokens.shape[2])]\n",
        "\n",
        "        #setting k to beam size    \n",
        "        k = beam_size\n",
        "\n",
        "        for i in range(num_samples):    \n",
        "           #sorting the all_candidates[i] list based on score\n",
        "           all_candidates[i] = sorted(all_candidates[i],key=lambda tup:tup[1])[:k]\n",
        "        \n",
        "        # Now remake sequence_list,sequence_score and sequence_state\n",
        "        sequence_list = [[all_candidates[i][j][0] for j in range(k)] for i in range(num_samples)]\n",
        "        sequence_score = np.array([[all_candidates[i][j][1] for j in range(k)] for i in range(num_samples)])\n",
        "        sequence_state = [ [ np.array([all_candidates[j][i][2][kk] for j in range(num_samples)]) for kk in range(num_states)] for i in range(k)]\n",
        "\n",
        "    final_sequence = [sequence_list[i][0] for i in range(num_samples)]\n",
        "    decoded_sentence = [fn(final_sequence[i]) for i in range(num_samples)]\n",
        "    \n",
        "    return decoded_sentence"
      ],
      "execution_count": null,
      "outputs": []
    },
    {
      "cell_type": "markdown",
      "metadata": {
        "id": "HXuVwDzyc2RM"
      },
      "source": [
        "# Custom call_back"
      ]
    },
    {
      "cell_type": "code",
      "metadata": {
        "id": "G6QDlts1c3xd"
      },
      "source": [
        "def f(a,b):\n",
        "    cnt = 0\n",
        "    for i in range(min(len(b),len(a))):\n",
        "        if(a[i] == b[i]):\n",
        "          cnt += 1\n",
        "    cnt /= len(b)\n",
        "    return cnt\n",
        "\n",
        "class CustomCallback(keras.callbacks.Callback):\n",
        "    \n",
        "    def __init__(self, encoder_model,decoder_model,beam_size):\n",
        "        self.model = model\n",
        "        self.encoder_model = encoder_model\n",
        "        self.decoder_model = decoder_model\n",
        "        self.beam_size = beam_size\n",
        "\n",
        "    def on_epoch_end(self, epoch, logs=None):\n",
        "      \n",
        "        if(epoch%2 == 1):\n",
        "          x = decode_sequence(val_encoder_input_data,self.beam_size,self.encoder_model,self.decoder_model)\n",
        "          word2word = (np.sum(np.array(x) == np.array(val_expected_texts))/len(x))\n",
        "          charbychar = np.sum(np.array([f(a,b) for a,b in zip(x,val_expected_texts)]))/len(x)\n",
        "          print(\"val_accuracy_word2word is: \",word2word)\n",
        "          print(\"val_accuracy_char_by_char is: \", charbychar)\n",
        "          wandb.log({'val_accuracy_word2word':word2word})\n",
        "          wandb.log({'val_accuracy_charbychar':charbychar})"
      ],
      "execution_count": null,
      "outputs": []
    },
    {
      "cell_type": "markdown",
      "metadata": {
        "id": "Mpas7aAgc6V0"
      },
      "source": [
        "# Training code"
      ]
    },
    {
      "cell_type": "code",
      "metadata": {
        "id": "Ht_OTh20c7q7"
      },
      "source": [
        "def train():\n",
        "    config_default = { \n",
        "        'embedding_size' : 256,\n",
        "        'num_encoder_layers': 2,\n",
        "        'num_decoder_layers': 2,\n",
        "        'hidden_layer_size': 256,\n",
        "        'cell_type': 'LSTM',\n",
        "        'drop_out': 0.25,\n",
        "        'beam_size': 5\n",
        "    }\n",
        "    print(\"wand about to be initialised\")\n",
        "    wandb.init(config=config_default,project='Assignment3')\n",
        "    config = wandb.config\n",
        "    model,encoder_model,decoder_model = get_model(num_encoder_tokens,num_decoder_tokens,config.embedding_size,\n",
        "                      config.num_encoder_layers,config.num_decoder_layers,config.hidden_layer_size,\n",
        "                      config.cell_type,config.drop_out)\n",
        "    model.fit(\n",
        "      [encoder_input_data, decoder_input_data],\n",
        "      decoder_target_data,\n",
        "      batch_size=64,\n",
        "      epochs=10,\n",
        "      callbacks=[CustomCallback(encoder_model=encoder_model,decoder_model=decoder_model,beam_size=config.beam_size),WandbCallback()]\n",
        "    )\n"
      ],
      "execution_count": null,
      "outputs": []
    },
    {
      "cell_type": "code",
      "metadata": {
        "id": "po0OPQFfc9Ak"
      },
      "source": [
        "#sweep configuration\n",
        "sweep_config = {\n",
        "    'name': 'Recurrent_Neural_Networks',\n",
        "    'method' : 'bayes',\n",
        "    'metric': {        \n",
        "         'goal': 'maximize',\n",
        "         'name' : 'val_accuracy_word2word'\n",
        "    },\n",
        "    'parameters': {\n",
        "        'embedding_size' : {\n",
        "            'values': [64, 256,512]\n",
        "        },\n",
        "        'num_encoder_layers': {\n",
        "            'values': [1,2,3]\n",
        "        },\n",
        "        'num_decoder_layers': {\n",
        "            'values': [1,2,3]\n",
        "        },\n",
        "        'hidden_layer_size': {\n",
        "            'values': [64, 256,512]\n",
        "        },\n",
        "        'cell_type': {\n",
        "            'values': [ 'RNN', 'GRU', 'LSTM']\n",
        "        },\n",
        "        'drop_out': {\n",
        "            'values' : [0.25,0.3]\n",
        "        },\n",
        "        'beam_size': {\n",
        "            'values': [5]\n",
        "        }\n",
        "    }\n",
        "}"
      ],
      "execution_count": null,
      "outputs": []
    },
    {
      "cell_type": "code",
      "metadata": {
        "id": "-Qo5vZ3Ac9g7"
      },
      "source": [
        "# sweep_id = wandb.sweep(sweep_config,entity=\"shivaram_22\",project=\"Assignment3\")"
      ],
      "execution_count": null,
      "outputs": []
    },
    {
      "cell_type": "code",
      "metadata": {
        "id": "Djqca8dmdCR7"
      },
      "source": [
        "# wandb.agent(sweep_id,project=\"Assignment3\",function=train)"
      ],
      "execution_count": null,
      "outputs": []
    },
    {
      "cell_type": "markdown",
      "metadata": {
        "id": "08Du7El7dMlt"
      },
      "source": [
        "# Training Model with found best hyperparameters\n"
      ]
    },
    {
      "cell_type": "code",
      "metadata": {
        "id": "iESHmbkedNlT"
      },
      "source": [
        "# Best hyperparameters from the wandb sweep are \n",
        "# beam_size = 5\n",
        "# cell type = 'LSTM'\n",
        "# drop_out = 0.3\n",
        "# embedding_size = 512\n",
        "# hidden_layer_size = 512\n",
        "# num_encoder_layers = 2\n",
        "# num decoder_layers = 2\n",
        "model,encoder_model,decoder_model = get_model(num_encoder_tokens,num_decoder_tokens,512,2,2,512,'LSTM',0.3)\n",
        "model.fit(\n",
        "      [encoder_input_data, decoder_input_data],\n",
        "      decoder_target_data,\n",
        "      batch_size=64,\n",
        "      epochs=10,\n",
        "    )"
      ],
      "execution_count": null,
      "outputs": []
    },
    {
      "cell_type": "code",
      "metadata": {
        "id": "mEjGSjjxdQMr"
      },
      "source": [
        "# helper function used for calculating charbyaccuracy\n",
        "def f(a,b):\n",
        "    cnt = 0\n",
        "    for i in range(min(len(b),len(a))):\n",
        "        if(a[i] == b[i]):\n",
        "          cnt += 1\n",
        "    cnt /= len(b)\n",
        "    return cnt"
      ],
      "execution_count": null,
      "outputs": []
    },
    {
      "cell_type": "code",
      "metadata": {
        "id": "rgneodVMdRYS"
      },
      "source": [
        "x = decode_sequence(val_encoder_input_data,5,encoder_model,decoder_model)\n",
        "word2word = (np.sum(np.array(x) == np.array(val_expected_texts))/len(x))\n",
        "charbychar = np.sum(np.array([f(a,b) for a,b in zip(x,val_expected_texts)]))/len(x)\n",
        "print(\"val_accuracy_word2word is: \",word2word)\n",
        "print(\"val_accuracy_char_by_char is: \", charbychar)\n",
        "x = decode_sequence(test_encoder_input_data,5,encoder_model,decoder_model)\n",
        "word2word = (np.sum(np.array(x) == np.array(test_expected_texts))/len(x))\n",
        "charbychar = np.sum(np.array([f(a,b) for a,b in zip(x,test_expected_texts)]))/len(x)\n",
        "print(\"test_accuracy_word2word is: \",word2word)\n",
        "print(\"test_accuracy_char_by_char is: \", charbychar)"
      ],
      "execution_count": null,
      "outputs": []
    },
    {
      "cell_type": "code",
      "metadata": {
        "id": "YO-UMl8ydTXT"
      },
      "source": [
        "vanilla_df = pd.DataFrame()\n",
        "vanilla_df['input_texts'] = test_input_texts\n",
        "vanilla_df['predictions'] = x\n",
        "vanilla_df['actual'] = test_expected_texts\n",
        "vanilla_df.to_csv(\"/content/drive/MyDrive/Assignment3/Vanilla_Predictions.tsv\", sep=\"\\t\")\n",
        "\n",
        "vanilla_random_sample = vanilla_df.sample(n = 10,replace=False)"
      ],
      "execution_count": null,
      "outputs": []
    },
    {
      "cell_type": "code",
      "metadata": {
        "id": "bOHygj4CdUoy"
      },
      "source": [
        "vanilla_random_sample.head(10)"
      ],
      "execution_count": null,
      "outputs": []
    },
    {
      "cell_type": "markdown",
      "metadata": {
        "id": "cHTB-X2Yd-6R"
      },
      "source": [
        "# With Attention"
      ]
    },
    {
      "cell_type": "code",
      "metadata": {
        "id": "C4XwUvald_f7"
      },
      "source": [
        "import tensorflow as tf\n",
        "import os\n",
        "from tensorflow.python.keras.layers import Layer\n",
        "from tensorflow.python.keras import backend as K\n",
        "\n",
        "#Reference: \n",
        "# https://github.com/thushv89/attention_keras/blob/master/src/layers/attention.py\n",
        "\n",
        "\n",
        "class AttentionLayer(Layer):\n",
        "    \"\"\"\n",
        "    This class implements Bahdanau attention (https://arxiv.org/pdf/1409.0473.pdf).\n",
        "    There are three sets of weights introduced W_a, U_a, and V_a\n",
        "     \"\"\"\n",
        "\n",
        "    def __init__(self, **kwargs):\n",
        "        super(AttentionLayer, self).__init__(**kwargs)\n",
        "\n",
        "    def build(self, input_shape):\n",
        "        assert isinstance(input_shape, list)\n",
        "        # Create a trainable weight variable for this layer.\n",
        "\n",
        "        self.W_a = self.add_weight(name='W_a',\n",
        "                                   shape=tf.TensorShape((input_shape[0][2], input_shape[0][2])),\n",
        "                                   initializer='uniform',\n",
        "                                   trainable=True)\n",
        "        self.U_a = self.add_weight(name='U_a',\n",
        "                                   shape=tf.TensorShape((input_shape[1][2], input_shape[0][2])),\n",
        "                                   initializer='uniform',\n",
        "                                   trainable=True)\n",
        "        self.V_a = self.add_weight(name='V_a',\n",
        "                                   shape=tf.TensorShape((input_shape[0][2], 1)),\n",
        "                                   initializer='uniform',\n",
        "                                   trainable=True)\n",
        "\n",
        "        super(AttentionLayer, self).build(input_shape)  # Be sure to call this at the end\n",
        "\n",
        "    def call(self, inputs, verbose=False):\n",
        "        \"\"\"\n",
        "        inputs: [encoder_output_sequence, decoder_output_sequence]\n",
        "        \"\"\"\n",
        "        assert type(inputs) == list\n",
        "        encoder_out_seq, decoder_out_seq = inputs\n",
        "        if verbose:\n",
        "            print('encoder_out_seq>', encoder_out_seq.shape)\n",
        "            print('decoder_out_seq>', decoder_out_seq.shape)\n",
        "\n",
        "        def energy_step(inputs, states):\n",
        "            \"\"\" Step function for computing energy for a single decoder state\n",
        "            inputs: (batchsize * 1 * de_in_dim)\n",
        "            states: (batchsize * 1 * de_latent_dim)\n",
        "            \"\"\"\n",
        "\n",
        "            assert_msg = \"States must be an iterable. Got {} of type {}\".format(states, type(states))\n",
        "            assert isinstance(states, list) or isinstance(states, tuple), assert_msg\n",
        "\n",
        "            \"\"\" Some parameters required for shaping tensors\"\"\"\n",
        "            en_seq_len, en_hidden = encoder_out_seq.shape[1], encoder_out_seq.shape[2]\n",
        "            de_hidden = inputs.shape[-1]\n",
        "\n",
        "            \"\"\" Computing S.Wa where S=[s0, s1, ..., si]\"\"\"\n",
        "            # <= batch size * en_seq_len * latent_dim\n",
        "            W_a_dot_s = K.dot(encoder_out_seq, self.W_a)\n",
        "\n",
        "            \"\"\" Computing hj.Ua \"\"\"\n",
        "            U_a_dot_h = K.expand_dims(K.dot(inputs, self.U_a), 1)  # <= batch_size, 1, latent_dim\n",
        "            if verbose:\n",
        "                print('Ua.h>', U_a_dot_h.shape)\n",
        "\n",
        "            \"\"\" tanh(S.Wa + hj.Ua) \"\"\"\n",
        "            # <= batch_size*en_seq_len, latent_dim\n",
        "            Ws_plus_Uh = K.tanh(W_a_dot_s + U_a_dot_h)\n",
        "            if verbose:\n",
        "                print('Ws+Uh>', Ws_plus_Uh.shape)\n",
        "\n",
        "            \"\"\" softmax(va.tanh(S.Wa + hj.Ua)) \"\"\"\n",
        "            # <= batch_size, en_seq_len\n",
        "            e_i = K.squeeze(K.dot(Ws_plus_Uh, self.V_a), axis=-1)\n",
        "            # <= batch_size, en_seq_len\n",
        "            e_i = K.softmax(e_i)\n",
        "\n",
        "            if verbose:\n",
        "                print('ei>', e_i.shape)\n",
        "\n",
        "            return e_i, [e_i]\n",
        "\n",
        "        def context_step(inputs, states):\n",
        "            \"\"\" Step function for computing ci using ei \"\"\"\n",
        "\n",
        "            assert_msg = \"States must be an iterable. Got {} of type {}\".format(states, type(states))\n",
        "            assert isinstance(states, list) or isinstance(states, tuple), assert_msg\n",
        "\n",
        "            # <= batch_size, hidden_size\n",
        "            c_i = K.sum(encoder_out_seq * K.expand_dims(inputs, -1), axis=1)\n",
        "            if verbose:\n",
        "                print('ci>', c_i.shape)\n",
        "            return c_i, [c_i]\n",
        "\n",
        "        fake_state_c = K.sum(encoder_out_seq, axis=1)\n",
        "        fake_state_e = K.sum(encoder_out_seq, axis=2)  # <= (batch_size, enc_seq_len, latent_dim\n",
        "\n",
        "        \"\"\" Computing energy outputs \"\"\"\n",
        "        # e_outputs => (batch_size, de_seq_len, en_seq_len)\n",
        "        last_out, e_outputs, _ = K.rnn(\n",
        "            energy_step, decoder_out_seq, [fake_state_e],\n",
        "        )\n",
        "\n",
        "        \"\"\" Computing context vectors \"\"\"\n",
        "        last_out, c_outputs, _ = K.rnn(\n",
        "            context_step, e_outputs, [fake_state_c],\n",
        "        )\n",
        "\n",
        "        return c_outputs, e_outputs\n",
        "\n",
        "    def compute_output_shape(self, input_shape):\n",
        "        \"\"\" Outputs produced by the layer \"\"\"\n",
        "        return [\n",
        "            tf.TensorShape((input_shape[1][0], input_shape[1][1], input_shape[1][2])),\n",
        "            tf.TensorShape((input_shape[1][0], input_shape[1][1], input_shape[0][1]))\n",
        "        ]"
      ],
      "execution_count": null,
      "outputs": []
    },
    {
      "cell_type": "code",
      "metadata": {
        "id": "1KKoO3iHeAua"
      },
      "source": [
        "def model_with_attention(num_encoder_tokens,num_decoder_tokens,embedding_size,hidden_layer_size,cell_type,drop_out):\n",
        "     \n",
        "     if(cell_type == 'LSTM'):\n",
        "        rnn_cell = tf.keras.layers.LSTM\n",
        "     elif(cell_type ==  'RNN'):\n",
        "        rnn_cell = tf.keras.layers.SimpleRNN\n",
        "     elif(cell_type == \"GRU\"):\n",
        "        rnn_cell = tf.keras.layers.GRU\n",
        "    \n",
        "     encoder_inputs = tf.keras.Input(shape = (None,))\n",
        "     encoder_embedding_out = tf.keras.layers.Embedding(input_dim = num_encoder_tokens,output_dim = embedding_size,name=\"encoderembedding\")(encoder_inputs)\n",
        "\n",
        "     encoder_out,*encoder_states = rnn_cell(hidden_layer_size,return_sequences=True,return_state=True,dropout = drop_out,\n",
        "                                               name=\"encoder_0\")(encoder_embedding_out)\n",
        "\n",
        "     decoder_inputs = tf.keras.Input(shape = (None,))\n",
        "     decoder_embedding_out = tf.keras.layers.Embedding(input_dim = num_decoder_tokens,output_dim=embedding_size,name=\"decoderembedding\")(decoder_inputs)\n",
        "     \n",
        "     decoder_out,*_ = rnn_cell(hidden_layer_size,return_sequences=True,return_state=True,dropout = drop_out,\n",
        "                                  name=\"decoder_0\")(decoder_embedding_out,initial_state = encoder_states)\n",
        "    \n",
        "     attn_layer = AttentionLayer(name='attention_layer')\n",
        "     attn_out, attn_states = attn_layer([encoder_out, decoder_out])\n",
        "\n",
        "     final_out = tf.keras.layers.Concatenate()([attn_out,decoder_out])\n",
        "     decoder_dense = tf.keras.layers.Dense(num_decoder_tokens, activation=\"softmax\",name=\"decoderdense\")\n",
        "     decoder_outputs = decoder_dense(final_out)\n",
        "\n",
        "     model = tf.keras.Model([encoder_inputs,decoder_inputs], decoder_outputs)\n",
        "\n",
        "     return model\n"
      ],
      "execution_count": null,
      "outputs": []
    }
  ]
}