{
  "nbformat": 4,
  "nbformat_minor": 0,
  "metadata": {
    "colab": {
      "name": "Assignment2.ipynb",
      "provenance": [],
      "collapsed_sections": [],
      "authorship_tag": "ABX9TyM5/YHmoYRBqkYOMTPrB85p",
      "include_colab_link": true
    },
    "kernelspec": {
      "name": "python3",
      "display_name": "Python 3"
    },
    "language_info": {
      "name": "python"
    }
  },
  "cells": [
    {
      "cell_type": "markdown",
      "metadata": {
        "id": "view-in-github",
        "colab_type": "text"
      },
      "source": [
        "<a href=\"https://colab.research.google.com/github/nvvishnu/CS6910-Assignments/blob/main/Assignment2/partA/Assignment2.ipynb\" target=\"_parent\"><img src=\"https://colab.research.google.com/assets/colab-badge.svg\" alt=\"Open In Colab\"/></a>"
      ]
    },
    {
      "cell_type": "code",
      "metadata": {
        "id": "TsCAzFcuHck9"
      },
      "source": [
        "from tensorflow.keras import *\n",
        "import os\n",
        "import cv2"
      ],
      "execution_count": null,
      "outputs": []
    },
    {
      "cell_type": "code",
      "metadata": {
        "id": "bX8V9-wqxQtf"
      },
      "source": [
        "path = \"\""
      ],
      "execution_count": null,
      "outputs": []
    },
    {
      "cell_type": "code",
      "metadata": {
        "colab": {
          "base_uri": "https://localhost:8080/"
        },
        "id": "XBpNwFwaSFfv",
        "outputId": "87807bb5-67e0-48c6-8289-f86dc5e93e0b"
      },
      "source": [
        "classes = ['Amphibia','Animalia','Arachnida','Aves','Fungi','Insecta','Mammalia','Mollusca','Plantae','Reptilia']\n",
        "directory = path+'/nature_12k/inaturalist_12k/train'\n",
        "X_train = []\n",
        "Y_train = []\n",
        "Val_X = []\n",
        "Val_Y = []\n",
        "for i in range(10):\n",
        "  temp = []\n",
        "  for f1 in os.listdir(directory+'/'+classes[i]):\n",
        "    temp.append(cv2.cvtColor(cv2.imread(f1),cv2.COLOR_BGR2RGB))\n",
        "\n",
        "  temp = np.array(temp)\n",
        "  x,val_x = train_test_split(temp,test_size=0.1)\n",
        "  X_train = X_train + x.tolist()\n",
        "  Val_X = Val_X + val_x.tolist()\n",
        "  Y_train = Y_train + (i*np.ones(900)).to_list()\n",
        "  Val_Y = Val_Y + (i*np.ones(100)).to_list()\n",
        "\n",
        "X_train = np.array(X_train)\n",
        "Y_train = np.array(Y_train)\n",
        "Val_X = np.array(Val_X)\n",
        "Val_Y = np.array(Val_Y)\n",
        "\n",
        "directory = path+'/nature_12k/inaturalist_12k/train'\n",
        "X_test = []\n",
        "Y_test = []\n",
        "\n",
        "for i in range(10):\n",
        "    temp = []\n",
        "    for f1 in os.listdir(directory+'/'+classes[i]):\n",
        "      X_test.append(cv2.cvtColor(cv2.imread(f1),cv2.COLOR_BGR2RGB)) \n",
        "      Y_test.append(i)\n",
        "\n",
        "X_test = np.array(X_test)\n",
        "Y_test = np.array(Y_test)"
      ],
      "execution_count": null,
      "outputs": [
        {
          "output_type": "stream",
          "text": [
            "Downloading data from https://www.cs.toronto.edu/~kriz/cifar-10-python.tar.gz\n",
            "170500096/170498071 [==============================] - 3s 0us/step\n"
          ],
          "name": "stdout"
        }
      ]
    },
    {
      "cell_type": "code",
      "metadata": {
        "id": "uMaV_wbCtC_y"
      },
      "source": [
        "print(X_train.shape,\" \",Y_train.shape,\" \",Val_X.shape,\" \",Val_Y.shape,\" \",X_test.shape,\" \",Y_test.shape)"
      ],
      "execution_count": null,
      "outputs": []
    },
    {
      "cell_type": "code",
      "metadata": {
        "id": "55MhDo0gtK7K"
      },
      "source": [
        "np.savez(path+'./data.npz',xtrain=X_train,ytrain=Y_train,valx=Val_X,valy=Val_Y,xtest=X_test,ytest=Y_test)"
      ],
      "execution_count": null,
      "outputs": []
    },
    {
      "cell_type": "code",
      "metadata": {
        "id": "8y-gdYzwuPIu"
      },
      "source": [
        "npzfiles = np.load(path+'/data.npz')\n",
        "X_train = npzfiles['xtrain']\n",
        "Y_train = npzfiles['ytrain']\n",
        "Val_X = npzfiles['valx']\n",
        "Val_Y = npzfiles['valy']\n",
        "X_test = npzfiles['xtest']\n",
        "Y_test = npzfiles['ytest']"
      ],
      "execution_count": null,
      "outputs": []
    },
    {
      "cell_type": "code",
      "metadata": {
        "colab": {
          "base_uri": "https://localhost:8080/"
        },
        "id": "Q1WsfdwtTIUK",
        "outputId": "90cedb27-231b-4647-e9c0-7d3034429632"
      },
      "source": [
        ""
      ],
      "execution_count": null,
      "outputs": [
        {
          "output_type": "execute_result",
          "data": {
            "text/plain": [
              "numpy.ndarray"
            ]
          },
          "metadata": {
            "tags": []
          },
          "execution_count": 11
        }
      ]
    },
    {
      "cell_type": "code",
      "metadata": {
        "id": "QQ6ZwpDMEg1f"
      },
      "source": [
        "def network(filters,sz_of_filters,activation_fn,data_augmentation,drop_out,batch_nomralisation,Xtrain,Ytrain,num_classes=10):\n",
        "    \n",
        "     model = Sequential()\n",
        "     model.add(layers.Conv2D(filters[0],sz_of_filters[0],input_shape=Xtrain.shape))\n",
        "     model.add(layers.Activation(activation_fn[0]))\n",
        "     model.add(MaxPooling2D(pool_size=(2,2))\n",
        "     for i in range(4):\n",
        "       model.add(layers.Conv2D(filters[i+1],sz_of_filters[i+1],input_shape=Xtrain.shape))\n",
        "       model.add(layers.Activation(activation_fn[i+1]))\n",
        "       model.add(MaxPooling2D(pool_size=(2,2))\n",
        "\n",
        "     model.add(layers.Flatten())\n",
        "     model.add(layers.Dense(dense_layer,activation=activation_fn[5]))\n",
        "     model.add(layers.Dense(num_classes))\n",
        "     model.add(layers.Softmax())\n",
        "\n",
        "     model.compile(optimizer='adam',loss=losses.SparseCategoricalCrossentropy(from_logits=True),metrics=['accuracy'])\n",
        "     model.fit(Xtrain,Ytrain,epochs=10,validation_data=(Val_X,Val_Y))\n",
        "     return model"
      ],
      "execution_count": null,
      "outputs": []
    },
    {
      "cell_type": "code",
      "metadata": {
        "id": "mQ1e_QwFPiEo"
      },
      "source": [
        "  "
      ],
      "execution_count": null,
      "outputs": []
    }
  ]
}