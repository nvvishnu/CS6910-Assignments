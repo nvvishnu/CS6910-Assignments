{
  "nbformat": 4,
  "nbformat_minor": 0,
  "metadata": {
    "colab": {
      "name": "Assignment2_A.ipynb",
      "provenance": [],
      "collapsed_sections": [],
      "include_colab_link": true
    },
    "kernelspec": {
      "name": "python3",
      "display_name": "Python 3"
    },
    "language_info": {
      "name": "python"
    },
    "accelerator": "GPU"
  },
  "cells": [
    {
      "cell_type": "markdown",
      "metadata": {
        "id": "view-in-github",
        "colab_type": "text"
      },
      "source": [
        "<a href=\"https://colab.research.google.com/github/nvvishnu/CS6910-Assignments/blob/main/Assignment2/partA/Assignment2_A.ipynb\" target=\"_parent\"><img src=\"https://colab.research.google.com/assets/colab-badge.svg\" alt=\"Open In Colab\"/></a>"
      ]
    },
    {
      "cell_type": "code",
      "metadata": {
        "colab": {
          "base_uri": "https://localhost:8080/"
        },
        "id": "Q6OBFMXf6Tyq",
        "outputId": "87c0ed15-2bf2-4ead-ed99-d0b54f148955"
      },
      "source": [
        "from tensorflow.keras import *\n",
        "!pip install wandb\n",
        "import wandb\n",
        "from wandb.keras import WandbCallback "
      ],
      "execution_count": null,
      "outputs": [
        {
          "output_type": "stream",
          "text": [
            "Collecting wandb\n",
            "\u001b[?25l  Downloading https://files.pythonhosted.org/packages/26/70/a0f47563dc06df4dad4db96938d65a10efeb8ea909a423c96a0bfffc845c/wandb-0.10.24-py2.py3-none-any.whl (2.0MB)\n",
            "\u001b[K     |████████████████████████████████| 2.1MB 18.3MB/s \n",
            "\u001b[?25hCollecting subprocess32>=3.5.3\n",
            "\u001b[?25l  Downloading https://files.pythonhosted.org/packages/32/c8/564be4d12629b912ea431f1a50eb8b3b9d00f1a0b1ceff17f266be190007/subprocess32-3.5.4.tar.gz (97kB)\n",
            "\u001b[K     |████████████████████████████████| 102kB 13.4MB/s \n",
            "\u001b[?25hRequirement already satisfied: PyYAML in /usr/local/lib/python3.7/dist-packages (from wandb) (3.13)\n",
            "Requirement already satisfied: six>=1.13.0 in /usr/local/lib/python3.7/dist-packages (from wandb) (1.15.0)\n",
            "Requirement already satisfied: Click>=7.0 in /usr/local/lib/python3.7/dist-packages (from wandb) (7.1.2)\n",
            "Collecting GitPython>=1.0.0\n",
            "\u001b[?25l  Downloading https://files.pythonhosted.org/packages/a6/99/98019716955ba243657daedd1de8f3a88ca1f5b75057c38e959db22fb87b/GitPython-3.1.14-py3-none-any.whl (159kB)\n",
            "\u001b[K     |████████████████████████████████| 163kB 44.3MB/s \n",
            "\u001b[?25hCollecting pathtools\n",
            "  Downloading https://files.pythonhosted.org/packages/e7/7f/470d6fcdf23f9f3518f6b0b76be9df16dcc8630ad409947f8be2eb0ed13a/pathtools-0.1.2.tar.gz\n",
            "Collecting configparser>=3.8.1\n",
            "  Downloading https://files.pythonhosted.org/packages/fd/01/ff260a18caaf4457eb028c96eeb405c4a230ca06c8ec9c1379f813caa52e/configparser-5.0.2-py3-none-any.whl\n",
            "Requirement already satisfied: requests<3,>=2.0.0 in /usr/local/lib/python3.7/dist-packages (from wandb) (2.23.0)\n",
            "Collecting shortuuid>=0.5.0\n",
            "  Downloading https://files.pythonhosted.org/packages/25/a6/2ecc1daa6a304e7f1b216f0896b26156b78e7c38e1211e9b798b4716c53d/shortuuid-1.0.1-py3-none-any.whl\n",
            "Requirement already satisfied: psutil>=5.0.0 in /usr/local/lib/python3.7/dist-packages (from wandb) (5.4.8)\n",
            "Collecting sentry-sdk>=0.4.0\n",
            "\u001b[?25l  Downloading https://files.pythonhosted.org/packages/f3/92/5a33be64990ba815364a8f2dd9e6f51de60d23dfddafb4f1fc5577d4dc64/sentry_sdk-1.0.0-py2.py3-none-any.whl (131kB)\n",
            "\u001b[K     |████████████████████████████████| 133kB 53.9MB/s \n",
            "\u001b[?25hRequirement already satisfied: python-dateutil>=2.6.1 in /usr/local/lib/python3.7/dist-packages (from wandb) (2.8.1)\n",
            "Collecting docker-pycreds>=0.4.0\n",
            "  Downloading https://files.pythonhosted.org/packages/f5/e8/f6bd1eee09314e7e6dee49cbe2c5e22314ccdb38db16c9fc72d2fa80d054/docker_pycreds-0.4.0-py2.py3-none-any.whl\n",
            "Requirement already satisfied: protobuf>=3.12.0 in /usr/local/lib/python3.7/dist-packages (from wandb) (3.12.4)\n",
            "Requirement already satisfied: promise<3,>=2.0 in /usr/local/lib/python3.7/dist-packages (from wandb) (2.3)\n",
            "Collecting gitdb<5,>=4.0.1\n",
            "\u001b[?25l  Downloading https://files.pythonhosted.org/packages/ea/e8/f414d1a4f0bbc668ed441f74f44c116d9816833a48bf81d22b697090dba8/gitdb-4.0.7-py3-none-any.whl (63kB)\n",
            "\u001b[K     |████████████████████████████████| 71kB 9.9MB/s \n",
            "\u001b[?25hRequirement already satisfied: certifi>=2017.4.17 in /usr/local/lib/python3.7/dist-packages (from requests<3,>=2.0.0->wandb) (2020.12.5)\n",
            "Requirement already satisfied: chardet<4,>=3.0.2 in /usr/local/lib/python3.7/dist-packages (from requests<3,>=2.0.0->wandb) (3.0.4)\n",
            "Requirement already satisfied: urllib3!=1.25.0,!=1.25.1,<1.26,>=1.21.1 in /usr/local/lib/python3.7/dist-packages (from requests<3,>=2.0.0->wandb) (1.24.3)\n",
            "Requirement already satisfied: idna<3,>=2.5 in /usr/local/lib/python3.7/dist-packages (from requests<3,>=2.0.0->wandb) (2.10)\n",
            "Requirement already satisfied: setuptools in /usr/local/lib/python3.7/dist-packages (from protobuf>=3.12.0->wandb) (54.2.0)\n",
            "Collecting smmap<5,>=3.0.1\n",
            "  Downloading https://files.pythonhosted.org/packages/68/ee/d540eb5e5996eb81c26ceffac6ee49041d473bc5125f2aa995cf51ec1cf1/smmap-4.0.0-py2.py3-none-any.whl\n",
            "Building wheels for collected packages: subprocess32, pathtools\n",
            "  Building wheel for subprocess32 (setup.py) ... \u001b[?25l\u001b[?25hdone\n",
            "  Created wheel for subprocess32: filename=subprocess32-3.5.4-cp37-none-any.whl size=6489 sha256=a726df53009f739538a1214abb48ed771607bf5b9b94f8264cc03c69b19050d6\n",
            "  Stored in directory: /root/.cache/pip/wheels/68/39/1a/5e402bdfdf004af1786c8b853fd92f8c4a04f22aad179654d1\n",
            "  Building wheel for pathtools (setup.py) ... \u001b[?25l\u001b[?25hdone\n",
            "  Created wheel for pathtools: filename=pathtools-0.1.2-cp37-none-any.whl size=8786 sha256=ce9d175d971eba6c2ab8f02f95fcdd64d8e2a320dc107f70dc09cc91668ed7b1\n",
            "  Stored in directory: /root/.cache/pip/wheels/0b/04/79/c3b0c3a0266a3cb4376da31e5bfe8bba0c489246968a68e843\n",
            "Successfully built subprocess32 pathtools\n",
            "Installing collected packages: subprocess32, smmap, gitdb, GitPython, pathtools, configparser, shortuuid, sentry-sdk, docker-pycreds, wandb\n",
            "Successfully installed GitPython-3.1.14 configparser-5.0.2 docker-pycreds-0.4.0 gitdb-4.0.7 pathtools-0.1.2 sentry-sdk-1.0.0 shortuuid-1.0.1 smmap-4.0.0 subprocess32-3.5.4 wandb-0.10.24\n"
          ],
          "name": "stdout"
        }
      ]
    },
    {
      "cell_type": "code",
      "metadata": {
        "colab": {
          "base_uri": "https://localhost:8080/"
        },
        "id": "6KXysXC1GpVE",
        "outputId": "261dfa00-4a57-4541-8ec8-bff322760539"
      },
      "source": [
        "from google.colab import drive\n",
        "drive.mount('/content/drive')"
      ],
      "execution_count": null,
      "outputs": [
        {
          "output_type": "stream",
          "text": [
            "Mounted at /content/drive\n"
          ],
          "name": "stdout"
        }
      ]
    },
    {
      "cell_type": "code",
      "metadata": {
        "id": "qBEcoPClz6C-"
      },
      "source": [
        "# # import os\n",
        "# # path = '/content/drive/MyDrive/nature_12K.zip'\n",
        "# # import zipfile\n",
        "# # with zipfile.ZipFile(path, 'rw') as zip_ref:\n",
        "# #     zip_ref.extractall('/content/drive/MyDrive/Assignment2')\n",
        "# !pip install split-folders tqdm\n",
        "# import splitfolders\n",
        "# splitfolders.ratio(path+'train', output=path+'split', seed=1337, ratio=(.9, .1), group_prefix=None) # default values"
      ],
      "execution_count": null,
      "outputs": []
    },
    {
      "cell_type": "code",
      "metadata": {
        "id": "HTkSYAwVsK8v"
      },
      "source": [
        "path = '/content/drive/MyDrive/inaturalist_12K/'"
      ],
      "execution_count": null,
      "outputs": []
    },
    {
      "cell_type": "code",
      "metadata": {
        "id": "2HOX9qLNPvtT"
      },
      "source": [
        "def network(filters,kern_filter,activation_fn,drop_out,batch_normalisation,dense_layer,train,validation,num_classes,epochs,drop_batch_dense,last_2_avgpool,dp_aft_eachCNN):\n",
        "    \n",
        "     model = Sequential()\n",
        "     \n",
        "     if (batch_normalisation):\n",
        "        for i in range(5):\n",
        "          if(i == 0):\n",
        "            model.add(layers.Conv2D(filters[i],kern_filter[i],input_shape=(224,224,3),activation=activation_fn[i]))     \n",
        "          else :\n",
        "            model.add(layers.Conv2D(filters[i],kern_filter[i],activation=activation_fn[i]))\n",
        "\n",
        "          if (i<=2 or not(last_2_avgpool)):\n",
        "             if(dp_aft_eachCNN or i>2):\n",
        "                model.add(layers.Dropout(drop_out))\n",
        "             model.add(layers.BatchNormalization())\n",
        "             model.add(layers.MaxPooling2D(pool_size=(2,2)))\n",
        "          else:\n",
        "             model.add(layers.Dropout(drop_out))\n",
        "             model.add(layers.BatchNormalization())\n",
        "             model.add(layers.AveragePooling2D(pool_size=(2, 2)))\n",
        "     else:\n",
        "        for i in range(5):\n",
        "          if(i == 0):\n",
        "            model.add(layers.Conv2D(filters[i],kern_filter[i],input_shape=(224,224,3),activation=activation_fn[i]))\n",
        "          else :\n",
        "            model.add(layers.Conv2D(filters[i],kern_filter[i],activation=activation_fn[i]))\n",
        "          if(i<=2 or not(last_2_avgpool)):\n",
        "             if(i>2 or dp_aft_eachCNN):\n",
        "               model.add(layers.Dropout(drop_out))\n",
        "             model.add(layers.MaxPooling2D(pool_size=(2,2)))\n",
        "          else:\n",
        "             model.add(layers.Dropout(drop_out))\n",
        "             model.add(layers.AveragePooling2D(pool_size=(2, 2)))\n",
        "\n",
        "     model.add(layers.Flatten())\n",
        "     model.add(layers.Dropout(drop_out))\n",
        "     model.add(layers.BatchNormalization())\n",
        "     model.add(layers.Dense(dense_layer,activation='relu'))  #activation_fn[5]))\n",
        "     if(drop_batch_dense == 'both' or drop_batch_dense == 'drop'):\n",
        "         model.add(layers.Dropout(drop_out))\n",
        "     if(drop_batch_dense == 'both' or drop_batch_dense == 'batch'):\n",
        "         model.add(layers.BatchNormalization())\n",
        "     model.add(layers.Dense(num_classes))\n",
        "     model.add(layers.Softmax())\n",
        "     labels = ['Amphibia','Animalia','Arachnida','Aves','Fungi','Insecta','Mammalia','Mollusca','Plantae','Reptilia']\n",
        "     print(model.summary())\n",
        "\n",
        "     model.compile(optimizer='adam',loss=losses.CategoricalCrossentropy(),metrics=['accuracy'])\n",
        "     model.fit(train,epochs=epochs,validation_data=validation,callbacks=[WandbCallback(validation_data=validation,labels=labels),callbacks.EarlyStopping(patience=10,restore_best_weights=True)])\n",
        "\n",
        "     return model"
      ],
      "execution_count": null,
      "outputs": []
    },
    {
      "cell_type": "code",
      "metadata": {
        "id": "dhchazvMiAJj"
      },
      "source": [
        "def ImageProcessing(data_augmentation,batch_size):\n",
        "    \n",
        "      augmented = preprocessing.image.ImageDataGenerator(\n",
        "                              #featurewise_center=True,\n",
        "                              #featurewise_std_normalization=True,\n",
        "                              rotation_range=20,\n",
        "                              width_shift_range=0.2,\n",
        "                              height_shift_range=0.2,\n",
        "                              horizontal_flip=True)\n",
        "      datagen = preprocessing.image.ImageDataGenerator()\n",
        "      train = []\n",
        "      validation = []\n",
        "      if(data_augmentation):\n",
        "          train = augmented.flow_from_directory(path+'split/train/',target_size=(224,224),color_mode='rgb', classes=None,class_mode='categorical', batch_size=batch_size)\n",
        "      else:\n",
        "          train = datagen.flow_from_directory(path+'split/train/',target_size=(224,224),color_mode='rgb', classes=None,class_mode='categorical', batch_size=batch_size)\n",
        "      validation = datagen.flow_from_directory(path+'split/val/',target_size=(224,224),color_mode='rgb', classes=None,class_mode='categorical', batch_size=batch_size)\n",
        "\n",
        "      return (train,validation)"
      ],
      "execution_count": null,
      "outputs": []
    },
    {
      "cell_type": "code",
      "metadata": {
        "id": "Ng1wFhIqsH0K"
      },
      "source": [
        "def CNN(filter,filter_organisation,drop_out,batch_normalisation,data_augmentation,kernel_size,batch_size,epochs,drop_batch_dense,last_2_avgpool,dense_sz,dp_aft_eachCNN):\n",
        "\n",
        "   (train,validation) = ImageProcessing(data_augmentation,batch_size)\n",
        "   filters = []\n",
        "   if(filter_organisation == 'same'):\n",
        "       filters = [filter for i in range(5)]\n",
        "   if(filter_organisation == 'half'):\n",
        "       filters = [filter//(2**i) for i in range(5)]\n",
        "   if(filter_organisation == 'double'):\n",
        "       filters = [filter*(2**i) for i in range(5)]\n",
        "\n",
        "   return network(filters,kernel_size,['relu' for i in range(6)],drop_out,batch_normalisation,dense_sz,train,validation,10,epochs,drop_batch_dense,last_2_avgpool,dp_aft_eachCNN)"
      ],
      "execution_count": null,
      "outputs": []
    },
    {
      "cell_type": "code",
      "metadata": {
        "id": "bf47WI6t6RBt"
      },
      "source": [
        "def train():\n",
        "  config_default = { \n",
        "        'filter': 16,\n",
        "        'filter_organisation': 'double',\n",
        "        'drop_out':0.2,\n",
        "        'batch_normalisation': True,\n",
        "        'data_augmentation': True ,\n",
        "        'kernel_size': [(3,3),(3,3),(5,5),(7,7),(11,11)],\n",
        "        'batch_size': 32,\n",
        "        'epochs':10,\n",
        "        'drop_batch_dense':'both',\n",
        "        'last_2_avgpool': True,\n",
        "        'dp_aft_eachCNN' : False,\n",
        "  }\n",
        "  print(\"wand about to be initialised\")\n",
        "  wandb.init(config=config_default,project='Assignment2')\n",
        "  config = wandb.config\n",
        "\n",
        "  CNN(config.filter,config.filter_organisation,config.drop_out,config.batch_normalisation,config.data_augmentation,config.kernel_size,config.batch_size,config.epochs,config.drop_batch_dense,config.last_2_avgpool,config.dense_sz,config.dp_aft_eachCNN)\n",
        "  "
      ],
      "execution_count": null,
      "outputs": []
    },
    {
      "cell_type": "code",
      "metadata": {
        "id": "VJmVCgTs65bi"
      },
      "source": [
        "sweep_config = {\n",
        "    'name': 'CNN',\n",
        "    'method' : 'bayes',\n",
        "    'metric': {        \n",
        "         'goal': 'maximize',\n",
        "         'name' : 'val_accuracy'\n",
        "    },\n",
        "    'parameters': {\n",
        "        'filter':{\n",
        "            'values': [32,64]\n",
        "        },\n",
        "        'filter_organisation':{\n",
        "             'values':['double']\n",
        "        },\n",
        "        'drop_out':{\n",
        "             'values':[0.2,0.3]\n",
        "        },\n",
        "        'batch_normalisation':{\n",
        "            'values':[True,False]\n",
        "        },\n",
        "        'data_augmentation':{\n",
        "            'values':[True,False]\n",
        "        },\n",
        "        'kernel_size':\n",
        "        {\n",
        "            'values':[[(3,3),(3,3),(3,3),(3,3),(3,3)],[(3,3),(3,3),(5,5),(7,7),(7,7)],[(11,11),(5,5),(7,7),(3,3),(3,3)]]\n",
        "        },\n",
        "        'batch_size':\n",
        "        {\n",
        "            'values':[64]\n",
        "        },\n",
        "        'epochs':\n",
        "        {\n",
        "            'values':[25]\n",
        "        },\n",
        "        'drop_batch_dense':\n",
        "        {\n",
        "            'values' : ['both','drop','batch']\n",
        "        },\n",
        "        'last_2_avgpool':\n",
        "        {\n",
        "            'values':[True,False]\n",
        "        },\n",
        "        'dense_sz':\n",
        "        {\n",
        "            'values':[128,256,1024]\n",
        "        },\n",
        "        'dp_aft_eachCNN':\n",
        "        {\n",
        "            'values' : [True,False]\n",
        "        }\n",
        "    }\n",
        "}"
      ],
      "execution_count": null,
      "outputs": []
    },
    {
      "cell_type": "code",
      "metadata": {
        "id": "fqG-r_6IfBSn"
      },
      "source": [
        "#CNN(256,'same',0.3,True,True,[(3,3),(3,3),(5,5),(7,7),(7,7)],32,15,'drop')"
      ],
      "execution_count": null,
      "outputs": []
    },
    {
      "cell_type": "code",
      "metadata": {
        "id": "NxB3ECHP60mt"
      },
      "source": [
        "#sweep_id = wandb.sweep(sweep_config,entity=\"shivaram_22\",project=\"Assignment2\")\n",
        "sweep_id = '8e4ju7om'"
      ],
      "execution_count": null,
      "outputs": []
    },
    {
      "cell_type": "code",
      "metadata": {
        "colab": {
          "base_uri": "https://localhost:8080/",
          "height": 1000
        },
        "id": "PIdar1Iz8lJl",
        "outputId": "632bd877-d0a6-42a7-db17-8db0e0ff8b5b"
      },
      "source": [
        "wandb.agent(sweep_id,project=\"Assignment2\",function=train)"
      ],
      "execution_count": null,
      "outputs": [
        {
          "output_type": "display_data",
          "data": {
            "application/javascript": [
              "\n",
              "        window._wandbApiKey = new Promise((resolve, reject) => {\n",
              "            function loadScript(url) {\n",
              "            return new Promise(function(resolve, reject) {\n",
              "                let newScript = document.createElement(\"script\");\n",
              "                newScript.onerror = reject;\n",
              "                newScript.onload = resolve;\n",
              "                document.body.appendChild(newScript);\n",
              "                newScript.src = url;\n",
              "            });\n",
              "            }\n",
              "            loadScript(\"https://cdn.jsdelivr.net/npm/postmate/build/postmate.min.js\").then(() => {\n",
              "            const iframe = document.createElement('iframe')\n",
              "            iframe.style.cssText = \"width:0;height:0;border:none\"\n",
              "            document.body.appendChild(iframe)\n",
              "            const handshake = new Postmate({\n",
              "                container: iframe,\n",
              "                url: 'https://wandb.ai/authorize'\n",
              "            });\n",
              "            const timeout = setTimeout(() => reject(\"Couldn't auto authenticate\"), 5000)\n",
              "            handshake.then(function(child) {\n",
              "                child.on('authorize', data => {\n",
              "                    clearTimeout(timeout)\n",
              "                    resolve(data)\n",
              "                });\n",
              "            });\n",
              "            })\n",
              "        });\n",
              "    "
            ],
            "text/plain": [
              "<IPython.core.display.Javascript object>"
            ]
          },
          "metadata": {
            "tags": []
          }
        },
        {
          "output_type": "stream",
          "text": [
            "\u001b[34m\u001b[1mwandb\u001b[0m: You can find your API key in your browser here: https://wandb.ai/authorize\n"
          ],
          "name": "stderr"
        },
        {
          "output_type": "stream",
          "text": [
            "wandb: Paste an API key from your profile and hit enter: ··········\n"
          ],
          "name": "stdout"
        },
        {
          "output_type": "stream",
          "text": [
            "\u001b[34m\u001b[1mwandb\u001b[0m: Appending key for api.wandb.ai to your netrc file: /root/.netrc\n",
            "\u001b[34m\u001b[1mwandb\u001b[0m: Agent Starting Run: k2yuqukx with config:\n",
            "\u001b[34m\u001b[1mwandb\u001b[0m: \tbatch_normalisation: True\n",
            "\u001b[34m\u001b[1mwandb\u001b[0m: \tbatch_size: 64\n",
            "\u001b[34m\u001b[1mwandb\u001b[0m: \tdata_augmentation: False\n",
            "\u001b[34m\u001b[1mwandb\u001b[0m: \tdense_sz: 128\n",
            "\u001b[34m\u001b[1mwandb\u001b[0m: \tdp_aft_eachCNN: True\n",
            "\u001b[34m\u001b[1mwandb\u001b[0m: \tdrop_batch_dense: both\n",
            "\u001b[34m\u001b[1mwandb\u001b[0m: \tdrop_out: 0.3\n",
            "\u001b[34m\u001b[1mwandb\u001b[0m: \tepochs: 25\n",
            "\u001b[34m\u001b[1mwandb\u001b[0m: \tfilter: 32\n",
            "\u001b[34m\u001b[1mwandb\u001b[0m: \tfilter_organisation: double\n",
            "\u001b[34m\u001b[1mwandb\u001b[0m: \tkernel_size: [[3, 3], [3, 3], [3, 3], [3, 3], [3, 3]]\n",
            "\u001b[34m\u001b[1mwandb\u001b[0m: \tlast_2_avgpool: False\n"
          ],
          "name": "stderr"
        },
        {
          "output_type": "stream",
          "text": [
            "wand about to be initialised\n"
          ],
          "name": "stdout"
        },
        {
          "output_type": "stream",
          "text": [
            "\u001b[34m\u001b[1mwandb\u001b[0m: Currently logged in as: \u001b[33mshivaram_22\u001b[0m (use `wandb login --relogin` to force relogin)\n",
            "\u001b[34m\u001b[1mwandb\u001b[0m: \u001b[33mWARNING\u001b[0m Ignored wandb.init() arg project when running a sweep\n"
          ],
          "name": "stderr"
        },
        {
          "output_type": "display_data",
          "data": {
            "text/html": [
              "\n",
              "                Tracking run with wandb version 0.10.24<br/>\n",
              "                Syncing run <strong style=\"color:#cdcd00\">crimson-sweep-3</strong> to <a href=\"https://wandb.ai\" target=\"_blank\">Weights & Biases</a> <a href=\"https://docs.wandb.com/integrations/jupyter.html\" target=\"_blank\">(Documentation)</a>.<br/>\n",
              "                Project page: <a href=\"https://wandb.ai/shivaram_22/Assignment2\" target=\"_blank\">https://wandb.ai/shivaram_22/Assignment2</a><br/>\n",
              "                Sweep page: <a href=\"https://wandb.ai/shivaram_22/Assignment2/sweeps/8e4ju7om\" target=\"_blank\">https://wandb.ai/shivaram_22/Assignment2/sweeps/8e4ju7om</a><br/>\n",
              "Run page: <a href=\"https://wandb.ai/shivaram_22/Assignment2/runs/k2yuqukx\" target=\"_blank\">https://wandb.ai/shivaram_22/Assignment2/runs/k2yuqukx</a><br/>\n",
              "                Run data is saved locally in <code>/content/wandb/run-20210331_091757-k2yuqukx</code><br/><br/>\n",
              "            "
            ],
            "text/plain": [
              "<IPython.core.display.HTML object>"
            ]
          },
          "metadata": {
            "tags": []
          }
        },
        {
          "output_type": "stream",
          "text": [
            "Found 8999 images belonging to 10 classes.\n",
            "Found 1000 images belonging to 10 classes.\n",
            "Model: \"sequential\"\n",
            "_________________________________________________________________\n",
            "Layer (type)                 Output Shape              Param #   \n",
            "=================================================================\n",
            "conv2d (Conv2D)              (None, 222, 222, 32)      896       \n",
            "_________________________________________________________________\n",
            "dropout (Dropout)            (None, 222, 222, 32)      0         \n",
            "_________________________________________________________________\n",
            "batch_normalization (BatchNo (None, 222, 222, 32)      128       \n",
            "_________________________________________________________________\n",
            "max_pooling2d (MaxPooling2D) (None, 111, 111, 32)      0         \n",
            "_________________________________________________________________\n",
            "conv2d_1 (Conv2D)            (None, 109, 109, 64)      18496     \n",
            "_________________________________________________________________\n",
            "dropout_1 (Dropout)          (None, 109, 109, 64)      0         \n",
            "_________________________________________________________________\n",
            "batch_normalization_1 (Batch (None, 109, 109, 64)      256       \n",
            "_________________________________________________________________\n",
            "max_pooling2d_1 (MaxPooling2 (None, 54, 54, 64)        0         \n",
            "_________________________________________________________________\n",
            "conv2d_2 (Conv2D)            (None, 52, 52, 128)       73856     \n",
            "_________________________________________________________________\n",
            "dropout_2 (Dropout)          (None, 52, 52, 128)       0         \n",
            "_________________________________________________________________\n",
            "batch_normalization_2 (Batch (None, 52, 52, 128)       512       \n",
            "_________________________________________________________________\n",
            "max_pooling2d_2 (MaxPooling2 (None, 26, 26, 128)       0         \n",
            "_________________________________________________________________\n",
            "conv2d_3 (Conv2D)            (None, 24, 24, 256)       295168    \n",
            "_________________________________________________________________\n",
            "dropout_3 (Dropout)          (None, 24, 24, 256)       0         \n",
            "_________________________________________________________________\n",
            "batch_normalization_3 (Batch (None, 24, 24, 256)       1024      \n",
            "_________________________________________________________________\n",
            "max_pooling2d_3 (MaxPooling2 (None, 12, 12, 256)       0         \n",
            "_________________________________________________________________\n",
            "conv2d_4 (Conv2D)            (None, 10, 10, 512)       1180160   \n",
            "_________________________________________________________________\n",
            "dropout_4 (Dropout)          (None, 10, 10, 512)       0         \n",
            "_________________________________________________________________\n",
            "batch_normalization_4 (Batch (None, 10, 10, 512)       2048      \n",
            "_________________________________________________________________\n",
            "max_pooling2d_4 (MaxPooling2 (None, 5, 5, 512)         0         \n",
            "_________________________________________________________________\n",
            "flatten (Flatten)            (None, 12800)             0         \n",
            "_________________________________________________________________\n",
            "dropout_5 (Dropout)          (None, 12800)             0         \n",
            "_________________________________________________________________\n",
            "batch_normalization_5 (Batch (None, 12800)             51200     \n",
            "_________________________________________________________________\n",
            "dense (Dense)                (None, 128)               1638528   \n",
            "_________________________________________________________________\n",
            "dropout_6 (Dropout)          (None, 128)               0         \n",
            "_________________________________________________________________\n",
            "batch_normalization_6 (Batch (None, 128)               512       \n",
            "_________________________________________________________________\n",
            "dense_1 (Dense)              (None, 10)                1290      \n",
            "_________________________________________________________________\n",
            "softmax (Softmax)            (None, 10)                0         \n",
            "=================================================================\n",
            "Total params: 3,264,074\n",
            "Trainable params: 3,236,234\n",
            "Non-trainable params: 27,840\n",
            "_________________________________________________________________\n",
            "None\n",
            "Epoch 1/25\n",
            " 47/141 [=========>....................] - ETA: 48:05 - loss: 2.7160 - accuracy: 0.1468"
          ],
          "name": "stdout"
        }
      ]
    },
    {
      "cell_type": "code",
      "metadata": {
        "id": "3FiEcAS-PGMI"
      },
      "source": [
        "import os"
      ],
      "execution_count": null,
      "outputs": []
    },
    {
      "cell_type": "code",
      "metadata": {
        "id": "fbARPFR4bzB9"
      },
      "source": [
        "path = '/content/drive/MyDrive/inaturalist_12K/split/train/'"
      ],
      "execution_count": null,
      "outputs": []
    },
    {
      "cell_type": "code",
      "metadata": {
        "id": "ErrkwDw4cQBA"
      },
      "source": [
        "for x in ['Amphibia','Animalia','Arachnida','Aves','Fungi','Insecta','Mammalia','Mollusca','Plantae','Reptilia']:\n",
        "  cnt = 0\n",
        "  for file in os.listdir(path+x):\n",
        "     cnt = cnt + 1\n",
        "  print(x,' ',cnt)"
      ],
      "execution_count": null,
      "outputs": []
    },
    {
      "cell_type": "code",
      "metadata": {
        "id": "G468gpCtcr7W"
      },
      "source": [
        ""
      ],
      "execution_count": null,
      "outputs": []
    }
  ]
}