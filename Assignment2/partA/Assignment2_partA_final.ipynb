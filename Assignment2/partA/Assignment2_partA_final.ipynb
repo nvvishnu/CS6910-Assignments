{
  "nbformat": 4,
  "nbformat_minor": 0,
  "metadata": {
    "colab": {
      "name": "Assignment 2.ipynb",
      "provenance": [],
      "include_colab_link": true
    },
    "kernelspec": {
      "name": "python3",
      "display_name": "Python 3"
    },
    "language_info": {
      "name": "python"
    },
    "accelerator": "GPU"
  },
  "cells": [
    {
      "cell_type": "markdown",
      "metadata": {
        "id": "view-in-github",
        "colab_type": "text"
      },
      "source": [
        "<a href=\"https://colab.research.google.com/github/nvvishnu/CS6910-Assignments/blob/main/Assignment2/partA/Assignment2_partA_final.ipynb\" target=\"_parent\"><img src=\"https://colab.research.google.com/assets/colab-badge.svg\" alt=\"Open In Colab\"/></a>"
      ]
    },
    {
      "cell_type": "code",
      "metadata": {
        "colab": {
          "base_uri": "https://localhost:8080/"
        },
        "id": "J6y6344Ixh9y",
        "outputId": "439cf2aa-aa62-47a6-f4cf-0e61585dae89"
      },
      "source": [
        "from tensorflow.keras import *\n",
        "!pip install wandb\n",
        "import wandb\n",
        "from wandb.keras import WandbCallback "
      ],
      "execution_count": 1,
      "outputs": [
        {
          "output_type": "stream",
          "text": [
            "Collecting wandb\n",
            "\u001b[?25l  Downloading https://files.pythonhosted.org/packages/d5/5d/20ab24504de2669c9a76a50c9bdaeb44a440b0e5e4b92be881ed323857b1/wandb-0.10.26-py2.py3-none-any.whl (2.1MB)\n",
            "\u001b[K     |████████████████████████████████| 2.1MB 18.3MB/s \n",
            "\u001b[?25hRequirement already satisfied: six>=1.13.0 in /usr/local/lib/python3.7/dist-packages (from wandb) (1.15.0)\n",
            "Collecting docker-pycreds>=0.4.0\n",
            "  Downloading https://files.pythonhosted.org/packages/f5/e8/f6bd1eee09314e7e6dee49cbe2c5e22314ccdb38db16c9fc72d2fa80d054/docker_pycreds-0.4.0-py2.py3-none-any.whl\n",
            "Collecting subprocess32>=3.5.3\n",
            "\u001b[?25l  Downloading https://files.pythonhosted.org/packages/32/c8/564be4d12629b912ea431f1a50eb8b3b9d00f1a0b1ceff17f266be190007/subprocess32-3.5.4.tar.gz (97kB)\n",
            "\u001b[K     |████████████████████████████████| 102kB 13.2MB/s \n",
            "\u001b[?25hRequirement already satisfied: Click>=7.0 in /usr/local/lib/python3.7/dist-packages (from wandb) (7.1.2)\n",
            "Collecting GitPython>=1.0.0\n",
            "\u001b[?25l  Downloading https://files.pythonhosted.org/packages/a6/99/98019716955ba243657daedd1de8f3a88ca1f5b75057c38e959db22fb87b/GitPython-3.1.14-py3-none-any.whl (159kB)\n",
            "\u001b[K     |████████████████████████████████| 163kB 50.1MB/s \n",
            "\u001b[?25hRequirement already satisfied: requests<3,>=2.0.0 in /usr/local/lib/python3.7/dist-packages (from wandb) (2.23.0)\n",
            "Requirement already satisfied: promise<3,>=2.0 in /usr/local/lib/python3.7/dist-packages (from wandb) (2.3)\n",
            "Requirement already satisfied: PyYAML in /usr/local/lib/python3.7/dist-packages (from wandb) (3.13)\n",
            "Collecting sentry-sdk>=0.4.0\n",
            "\u001b[?25l  Downloading https://files.pythonhosted.org/packages/f3/92/5a33be64990ba815364a8f2dd9e6f51de60d23dfddafb4f1fc5577d4dc64/sentry_sdk-1.0.0-py2.py3-none-any.whl (131kB)\n",
            "\u001b[K     |████████████████████████████████| 133kB 56.3MB/s \n",
            "\u001b[?25hCollecting configparser>=3.8.1\n",
            "  Downloading https://files.pythonhosted.org/packages/fd/01/ff260a18caaf4457eb028c96eeb405c4a230ca06c8ec9c1379f813caa52e/configparser-5.0.2-py3-none-any.whl\n",
            "Requirement already satisfied: protobuf>=3.12.0 in /usr/local/lib/python3.7/dist-packages (from wandb) (3.12.4)\n",
            "Collecting pathtools\n",
            "  Downloading https://files.pythonhosted.org/packages/e7/7f/470d6fcdf23f9f3518f6b0b76be9df16dcc8630ad409947f8be2eb0ed13a/pathtools-0.1.2.tar.gz\n",
            "Collecting shortuuid>=0.5.0\n",
            "  Downloading https://files.pythonhosted.org/packages/25/a6/2ecc1daa6a304e7f1b216f0896b26156b78e7c38e1211e9b798b4716c53d/shortuuid-1.0.1-py3-none-any.whl\n",
            "Requirement already satisfied: python-dateutil>=2.6.1 in /usr/local/lib/python3.7/dist-packages (from wandb) (2.8.1)\n",
            "Requirement already satisfied: psutil>=5.0.0 in /usr/local/lib/python3.7/dist-packages (from wandb) (5.4.8)\n",
            "Collecting gitdb<5,>=4.0.1\n",
            "\u001b[?25l  Downloading https://files.pythonhosted.org/packages/ea/e8/f414d1a4f0bbc668ed441f74f44c116d9816833a48bf81d22b697090dba8/gitdb-4.0.7-py3-none-any.whl (63kB)\n",
            "\u001b[K     |████████████████████████████████| 71kB 11.0MB/s \n",
            "\u001b[?25hRequirement already satisfied: idna<3,>=2.5 in /usr/local/lib/python3.7/dist-packages (from requests<3,>=2.0.0->wandb) (2.10)\n",
            "Requirement already satisfied: chardet<4,>=3.0.2 in /usr/local/lib/python3.7/dist-packages (from requests<3,>=2.0.0->wandb) (3.0.4)\n",
            "Requirement already satisfied: urllib3!=1.25.0,!=1.25.1,<1.26,>=1.21.1 in /usr/local/lib/python3.7/dist-packages (from requests<3,>=2.0.0->wandb) (1.24.3)\n",
            "Requirement already satisfied: certifi>=2017.4.17 in /usr/local/lib/python3.7/dist-packages (from requests<3,>=2.0.0->wandb) (2020.12.5)\n",
            "Requirement already satisfied: setuptools in /usr/local/lib/python3.7/dist-packages (from protobuf>=3.12.0->wandb) (54.2.0)\n",
            "Collecting smmap<5,>=3.0.1\n",
            "  Downloading https://files.pythonhosted.org/packages/68/ee/d540eb5e5996eb81c26ceffac6ee49041d473bc5125f2aa995cf51ec1cf1/smmap-4.0.0-py2.py3-none-any.whl\n",
            "Building wheels for collected packages: subprocess32, pathtools\n",
            "  Building wheel for subprocess32 (setup.py) ... \u001b[?25l\u001b[?25hdone\n",
            "  Created wheel for subprocess32: filename=subprocess32-3.5.4-cp37-none-any.whl size=6489 sha256=b41920d223dc5741afb3d074bb176bc6bffc10f80332c9cbdf4905042256264d\n",
            "  Stored in directory: /root/.cache/pip/wheels/68/39/1a/5e402bdfdf004af1786c8b853fd92f8c4a04f22aad179654d1\n",
            "  Building wheel for pathtools (setup.py) ... \u001b[?25l\u001b[?25hdone\n",
            "  Created wheel for pathtools: filename=pathtools-0.1.2-cp37-none-any.whl size=8786 sha256=74d2fc25967efc8c5e5d4c105729b4d146b60f7e01dd3873845abb814ba3ee31\n",
            "  Stored in directory: /root/.cache/pip/wheels/0b/04/79/c3b0c3a0266a3cb4376da31e5bfe8bba0c489246968a68e843\n",
            "Successfully built subprocess32 pathtools\n",
            "Installing collected packages: docker-pycreds, subprocess32, smmap, gitdb, GitPython, sentry-sdk, configparser, pathtools, shortuuid, wandb\n",
            "Successfully installed GitPython-3.1.14 configparser-5.0.2 docker-pycreds-0.4.0 gitdb-4.0.7 pathtools-0.1.2 sentry-sdk-1.0.0 shortuuid-1.0.1 smmap-4.0.0 subprocess32-3.5.4 wandb-0.10.26\n"
          ],
          "name": "stdout"
        }
      ]
    },
    {
      "cell_type": "code",
      "metadata": {
        "colab": {
          "base_uri": "https://localhost:8080/"
        },
        "id": "QrbWkZtvy4RI",
        "outputId": "d67e2415-f112-4277-f75a-4e8cb9073b83"
      },
      "source": [
        "from google.colab import drive\n",
        "drive.mount('/content/drive')"
      ],
      "execution_count": 2,
      "outputs": [
        {
          "output_type": "stream",
          "text": [
            "Mounted at /content/drive\n"
          ],
          "name": "stdout"
        }
      ]
    },
    {
      "cell_type": "code",
      "metadata": {
        "id": "-gUIvbhpzad6"
      },
      "source": [
        "# Splitting training data into training and validation set in the ratio 9:1 \n",
        "\n",
        "# # import os\n",
        "# # path = '/content/drive/MyDrive/nature_12K.zip'\n",
        "# # import zipfile\n",
        "# # with zipfile.ZipFile(path, 'rw') as zip_ref:\n",
        "# #     zip_ref.extractall('/content/drive/MyDrive/Assignment2')\n",
        "# !pip install split-folders tqdm\n",
        "# import splitfolders\n",
        "# splitfolders.ratio(path+'train', output=path+'split', seed=1337, ratio=(.9, .1), group_prefix=None) # default values"
      ],
      "execution_count": 3,
      "outputs": []
    },
    {
      "cell_type": "code",
      "metadata": {
        "id": "kJbgq06Zy9qg"
      },
      "source": [
        "path = '/content/drive/MyDrive/Assignment2/inaturalist_12K/' #Load the inaturalist_12K dataset\n",
        "\n",
        "##simple function which returns the CNN consisting of 5 convolution layers\n",
        "#filters is a list , where filters[i] indicates num of filters in ith convolutional layer (0 indexing)\n",
        "#kern_filter is a list of tuples denoting the kernel_size of the filter\n",
        "#actiavation_fn is a list of activation functions\n",
        "\n",
        "def simplenetwork(filters,kern_filter,activation_fn,dense_layer_size):\n",
        "    model = Sequential()\n",
        "    for i in range(5):\n",
        "          if(i == 0):\n",
        "            model.add(layers.Conv2D(filters[i],kern_filter[i],input_shape=(224,224,3),activation=activation_fn[i]))     \n",
        "          else :\n",
        "            model.add(layers.Conv2D(filters[i],kern_filter[i],activation=activation_fn[i]))\n",
        "          model.add(layers.MaxPooling2D(pool_size=(2,2)))\n",
        "\n",
        "    model.add(layers.Flatten())\n",
        "    model.add(layers.Dense(dense_layer_size,activation=activation_fn[5]))\n",
        "    model.add(layers.Dense(10,activation='softmax'))\n",
        "    return model"
      ],
      "execution_count": 4,
      "outputs": []
    },
    {
      "cell_type": "code",
      "metadata": {
        "colab": {
          "base_uri": "https://localhost:8080/"
        },
        "id": "TzDstdrvzBiZ",
        "outputId": "b7d61a10-fb84-4771-dffe-7bcfa4baa1c6"
      },
      "source": [
        "model = simplenetwork([32,32,32,32,32],[(3,3),(3,3),(3,3),(3,3),(3,3)],['relu' for i in range(6)],1024)\n",
        "model.summary()"
      ],
      "execution_count": 5,
      "outputs": [
        {
          "output_type": "stream",
          "text": [
            "Model: \"sequential\"\n",
            "_________________________________________________________________\n",
            "Layer (type)                 Output Shape              Param #   \n",
            "=================================================================\n",
            "conv2d (Conv2D)              (None, 222, 222, 32)      896       \n",
            "_________________________________________________________________\n",
            "max_pooling2d (MaxPooling2D) (None, 111, 111, 32)      0         \n",
            "_________________________________________________________________\n",
            "conv2d_1 (Conv2D)            (None, 109, 109, 32)      9248      \n",
            "_________________________________________________________________\n",
            "max_pooling2d_1 (MaxPooling2 (None, 54, 54, 32)        0         \n",
            "_________________________________________________________________\n",
            "conv2d_2 (Conv2D)            (None, 52, 52, 32)        9248      \n",
            "_________________________________________________________________\n",
            "max_pooling2d_2 (MaxPooling2 (None, 26, 26, 32)        0         \n",
            "_________________________________________________________________\n",
            "conv2d_3 (Conv2D)            (None, 24, 24, 32)        9248      \n",
            "_________________________________________________________________\n",
            "max_pooling2d_3 (MaxPooling2 (None, 12, 12, 32)        0         \n",
            "_________________________________________________________________\n",
            "conv2d_4 (Conv2D)            (None, 10, 10, 32)        9248      \n",
            "_________________________________________________________________\n",
            "max_pooling2d_4 (MaxPooling2 (None, 5, 5, 32)          0         \n",
            "_________________________________________________________________\n",
            "flatten (Flatten)            (None, 800)               0         \n",
            "_________________________________________________________________\n",
            "dense (Dense)                (None, 1024)              820224    \n",
            "_________________________________________________________________\n",
            "dense_1 (Dense)              (None, 10)                10250     \n",
            "=================================================================\n",
            "Total params: 868,362\n",
            "Trainable params: 868,362\n",
            "Non-trainable params: 0\n",
            "_________________________________________________________________\n"
          ],
          "name": "stdout"
        }
      ]
    },
    {
      "cell_type": "code",
      "metadata": {
        "id": "r9MNV5uvzERx"
      },
      "source": [
        "#More general function where we can add drop_out batch_normalisation , avg_pool etc.\n",
        "#filters is a list , where filters[i] indicates num of filters in ith convolutional layer (0 indexing)\n",
        "#kern_filter is a list of tuples denoting the kernel_size of the filter\n",
        "#actiavation_fn is a list of activation functions\n",
        "#drop_out is the value of drop_out we will apply\n",
        "#batch_normalisation if set true we do batch normalisation after each layer\n",
        "#dense_layer is the size of dense layer\n",
        "#train is train data\n",
        "#validation is validation data\n",
        "#num_classes is the number of output classes , this case we pass 10\n",
        "#epochs is number of epochs\n",
        "#drop_batch_dense , if 'both' then we apply dropout followed by batchnormalisation after dense layer , if set 'batch' we do only batch_normalisation after dense layer and if ser 'drop' we apply dropout after dense layer\n",
        "#last2avg_pool if set true then for last2 Convolutional layers we do avgpool instead of maxpooling\n",
        "#dp_after_each CNN , if set true then we apply dropout after every ConV layer else we apply dropout only on last2 convolutional layers\n",
        "\n",
        "def network(filters,kern_filter,activation_fn,drop_out,batch_normalisation,dense_layer,train,validation,num_classes,epochs,drop_batch_dense,last_2_avgpool,dp_aft_eachCNN):\n",
        "    \n",
        "     model = Sequential()\n",
        "     \n",
        "     if (batch_normalisation):\n",
        "        for i in range(5):\n",
        "          if(i == 0):\n",
        "            model.add(layers.Conv2D(filters[i],kern_filter[i],input_shape=(224,224,3),activation=activation_fn[i]))     \n",
        "          else :\n",
        "            model.add(layers.Conv2D(filters[i],kern_filter[i],activation=activation_fn[i]))\n",
        "\n",
        "          if (i<=2 or not(last_2_avgpool)):\n",
        "             if(dp_aft_eachCNN or i>2):\n",
        "                model.add(layers.Dropout(drop_out))\n",
        "             model.add(layers.BatchNormalization())\n",
        "             model.add(layers.MaxPooling2D(pool_size=(2,2)))\n",
        "          else:\n",
        "             model.add(layers.Dropout(drop_out))\n",
        "             model.add(layers.BatchNormalization())\n",
        "             model.add(layers.AveragePooling2D(pool_size=(2, 2)))\n",
        "     else:\n",
        "        for i in range(5):\n",
        "          if(i == 0):\n",
        "            model.add(layers.Conv2D(filters[i],kern_filter[i],input_shape=(224,224,3),activation=activation_fn[i]))\n",
        "          else :\n",
        "            model.add(layers.Conv2D(filters[i],kern_filter[i],activation=activation_fn[i]))\n",
        "          if(i<=2 or not(last_2_avgpool)):\n",
        "             if(i>2 or dp_aft_eachCNN):\n",
        "               model.add(layers.Dropout(drop_out))\n",
        "             model.add(layers.MaxPooling2D(pool_size=(2,2)))\n",
        "          else:\n",
        "             model.add(layers.Dropout(drop_out))\n",
        "             model.add(layers.AveragePooling2D(pool_size=(2, 2)))\n",
        "\n",
        "     model.add(layers.Flatten())\n",
        "     model.add(layers.Dropout(drop_out))\n",
        "     model.add(layers.BatchNormalization())\n",
        "     model.add(layers.Dense(dense_layer,activation='relu'))  #activation_fn[5]))\n",
        "     if(drop_batch_dense == 'both' or drop_batch_dense == 'drop'):\n",
        "         model.add(layers.Dropout(drop_out))\n",
        "     if(drop_batch_dense == 'both' or drop_batch_dense == 'batch'):\n",
        "         model.add(layers.BatchNormalization())\n",
        "     model.add(layers.Dense(num_classes))\n",
        "     model.add(layers.Softmax())\n",
        "     labels = ['Amphibia','Animalia','Arachnida','Aves','Fungi','Insecta','Mammalia','Mollusca','Plantae','Reptilia']\n",
        "     print(model.summary())\n",
        "\n",
        "     model.compile(optimizer='adam',loss=losses.CategoricalCrossentropy(),metrics=['accuracy'])\n",
        "     model.fit(train,epochs=epochs,validation_data=validation)#,callbacks=[]WandbCallback()])\n",
        "\n",
        "     return model"
      ],
      "execution_count": 6,
      "outputs": []
    },
    {
      "cell_type": "code",
      "metadata": {
        "id": "8b7XPA6O0cCc"
      },
      "source": [
        "#a function for Image processing , this returns generators for the train and validation_data\n",
        "#data_augmentation if True then we augment the training data\n",
        "#batch_size is the batch size of data\n",
        "def ImageProcessing(data_augmentation,batch_size):\n",
        "    \n",
        "      augmented = preprocessing.image.ImageDataGenerator(\n",
        "                              #featurewise_center=True,\n",
        "                              #featurewise_std_normalization=True,\n",
        "                              rotation_range=20,\n",
        "                              width_shift_range=0.2,\n",
        "                              height_shift_range=0.2,\n",
        "                              horizontal_flip=True)\n",
        "      datagen = preprocessing.image.ImageDataGenerator()\n",
        "      train = []\n",
        "      validation = []\n",
        "      if(data_augmentation):\n",
        "          train = augmented.flow_from_directory(path+'split/train/',target_size=(224,224),color_mode='rgb', classes=None,class_mode='categorical', batch_size=batch_size)\n",
        "      else:\n",
        "          train = datagen.flow_from_directory(path+'split/train/',target_size=(224,224),color_mode='rgb', classes=None,class_mode='categorical', batch_size=batch_size)\n",
        "      validation = datagen.flow_from_directory(path+'split/val/',target_size=(224,224),color_mode='rgb', classes=None,class_mode='categorical', batch_size=batch_size)\n",
        "\n",
        "      return (train,validation)"
      ],
      "execution_count": 7,
      "outputs": []
    },
    {
      "cell_type": "code",
      "metadata": {
        "id": "zwbGWMFa0mzL"
      },
      "source": [
        "# A function which calls the network function , this function makes ready the train_data and validation data and call the networks function\n",
        "def CNN(filter,filter_organisation,drop_out,batch_normalisation,data_augmentation,kernel_size,batch_size,epochs,drop_batch_dense,last_2_avgpool,dense_sz,dp_aft_eachCNN):\n",
        "\n",
        "   (train,validation) = ImageProcessing(data_augmentation,batch_size)\n",
        "   filters = []\n",
        "   if(filter_organisation == 'same'):\n",
        "       filters = [filter for i in range(5)]\n",
        "   if(filter_organisation == 'half'):\n",
        "       filters = [filter//(2**i) for i in range(5)]\n",
        "   if(filter_organisation == 'double'):\n",
        "       filters = [filter*(2**i) for i in range(5)]\n",
        "\n",
        "   return network(filters,kernel_size,['relu' for i in range(6)],drop_out,batch_normalisation,dense_sz,train,validation,10,epochs,drop_batch_dense,last_2_avgpool,dp_aft_eachCNN)"
      ],
      "execution_count": 8,
      "outputs": []
    },
    {
      "cell_type": "code",
      "metadata": {
        "id": "sgXcH0wP1Wxq"
      },
      "source": [
        "# A train_function which wandb calls\n",
        "def train():\n",
        "  config_default = { \n",
        "        'filter': 16,\n",
        "        'filter_organisation': 'double',\n",
        "        'drop_out':0.2,\n",
        "        'batch_normalisation': True,\n",
        "        'data_augmentation': True ,\n",
        "        'kernel_size': [(3,3),(3,3),(5,5),(7,7),(11,11)],\n",
        "        'batch_size': 32,\n",
        "        'epochs':10,\n",
        "        'drop_batch_dense':'both',\n",
        "        'last_2_avgpool': True,\n",
        "        'dp_aft_eachCNN' : False,\n",
        "  }\n",
        "  print(\"wand about to be initialised\")\n",
        "  wandb.init(config=config_default,project='Assignment2')\n",
        "  config = wandb.config\n",
        "\n",
        "  CNN(config.filter,config.filter_organisation,config.drop_out,config.batch_normalisation,config.data_augmentation,config.kernel_size,config.batch_size,config.epochs,config.drop_batch_dense,config.last_2_avgpool,config.dense_sz,config.dp_aft_eachCNN)\n",
        "  "
      ],
      "execution_count": 9,
      "outputs": []
    },
    {
      "cell_type": "code",
      "metadata": {
        "id": "PgAFoENM1b67"
      },
      "source": [
        "#sweep configuration\n",
        "sweep_config = {\n",
        "    'name': 'CNN',\n",
        "    'method' : 'bayes',\n",
        "    'metric': {        \n",
        "         'goal': 'maximize',\n",
        "         'name' : 'val_accuracy'\n",
        "    },\n",
        "    'parameters': {\n",
        "        'filter':{\n",
        "            'values': [32,64]\n",
        "        },\n",
        "        'filter_organisation':{\n",
        "             'values':['double','same','half']\n",
        "        },\n",
        "        'drop_out':{\n",
        "             'values':[0.2,0.3]\n",
        "        },\n",
        "        'batch_normalisation':{\n",
        "            'values':[True,False]\n",
        "        },\n",
        "        'data_augmentation':{\n",
        "            'values':[True,False]\n",
        "        },\n",
        "        'kernel_size':\n",
        "        {\n",
        "            'values':[[(3,3),(3,3),(3,3),(3,3),(3,3)],[(3,3),(3,3),(5,5),(7,7),(7,7)],[(11,11),(5,5),(7,7),(3,3),(3,3)]]\n",
        "        },\n",
        "        'batch_size':\n",
        "        {\n",
        "            'values':[32,64]\n",
        "        },\n",
        "        'epochs':\n",
        "        {\n",
        "            'values':[25,30]\n",
        "        },\n",
        "        'drop_batch_dense':\n",
        "        {\n",
        "            'values' : ['both','drop','batch']\n",
        "        },\n",
        "        'last_2_avgpool':\n",
        "        {\n",
        "            'values':[True,False]\n",
        "        },\n",
        "        'dense_sz':\n",
        "        {\n",
        "            'values':[128,256,1024]\n",
        "        },\n",
        "        'dp_aft_eachCNN':\n",
        "        {\n",
        "            'values' : [True,False]\n",
        "        }\n",
        "    }\n",
        "}"
      ],
      "execution_count": 10,
      "outputs": []
    },
    {
      "cell_type": "code",
      "metadata": {
        "id": "PxhaIEmT1gTm"
      },
      "source": [
        "#sweep_id = wandb.sweep(sweep_config,entity=\"shivaram_22\",project=\"Assignment2\")"
      ],
      "execution_count": 11,
      "outputs": []
    },
    {
      "cell_type": "code",
      "metadata": {
        "id": "OjIUnoPe1iwr"
      },
      "source": [
        "#wandb.agent(sweep_id,project=\"Assignment2\",function=train)"
      ],
      "execution_count": 12,
      "outputs": []
    },
    {
      "cell_type": "code",
      "metadata": {
        "id": "mrSkweL71jzq",
        "colab": {
          "base_uri": "https://localhost:8080/"
        },
        "outputId": "3613a49c-6eb6-4520-e6ac-e2f19eb13388"
      },
      "source": [
        "#CNN(config.filter,config.filter_organisation,config.drop_out,config.batch_normalisation,config.data_augmentation,config.kernel_size,config.batch_size,config.epochs,config.drop_batch_dense,config.last_2_avgpool,config.dense_sz,config.dp_aft_eachCNN)  \n",
        "#collecting the model of the best hyperparameter configuration\n",
        "model = CNN(32,'double',0.2,True,True,[(3,3),(3,3),(5,5),(7,7),(7,7)],64,25,'both',True,1024,False)"
      ],
      "execution_count": 14,
      "outputs": [
        {
          "output_type": "stream",
          "text": [
            "Found 8999 images belonging to 10 classes.\n",
            "Found 1000 images belonging to 10 classes.\n",
            "Model: \"sequential_1\"\n",
            "_________________________________________________________________\n",
            "Layer (type)                 Output Shape              Param #   \n",
            "=================================================================\n",
            "conv2d_5 (Conv2D)            (None, 222, 222, 32)      896       \n",
            "_________________________________________________________________\n",
            "batch_normalization (BatchNo (None, 222, 222, 32)      128       \n",
            "_________________________________________________________________\n",
            "max_pooling2d_5 (MaxPooling2 (None, 111, 111, 32)      0         \n",
            "_________________________________________________________________\n",
            "conv2d_6 (Conv2D)            (None, 109, 109, 64)      18496     \n",
            "_________________________________________________________________\n",
            "batch_normalization_1 (Batch (None, 109, 109, 64)      256       \n",
            "_________________________________________________________________\n",
            "max_pooling2d_6 (MaxPooling2 (None, 54, 54, 64)        0         \n",
            "_________________________________________________________________\n",
            "conv2d_7 (Conv2D)            (None, 50, 50, 128)       204928    \n",
            "_________________________________________________________________\n",
            "batch_normalization_2 (Batch (None, 50, 50, 128)       512       \n",
            "_________________________________________________________________\n",
            "max_pooling2d_7 (MaxPooling2 (None, 25, 25, 128)       0         \n",
            "_________________________________________________________________\n",
            "conv2d_8 (Conv2D)            (None, 19, 19, 256)       1605888   \n",
            "_________________________________________________________________\n",
            "dropout (Dropout)            (None, 19, 19, 256)       0         \n",
            "_________________________________________________________________\n",
            "batch_normalization_3 (Batch (None, 19, 19, 256)       1024      \n",
            "_________________________________________________________________\n",
            "average_pooling2d (AveragePo (None, 9, 9, 256)         0         \n",
            "_________________________________________________________________\n",
            "conv2d_9 (Conv2D)            (None, 3, 3, 512)         6423040   \n",
            "_________________________________________________________________\n",
            "dropout_1 (Dropout)          (None, 3, 3, 512)         0         \n",
            "_________________________________________________________________\n",
            "batch_normalization_4 (Batch (None, 3, 3, 512)         2048      \n",
            "_________________________________________________________________\n",
            "average_pooling2d_1 (Average (None, 1, 1, 512)         0         \n",
            "_________________________________________________________________\n",
            "flatten_1 (Flatten)          (None, 512)               0         \n",
            "_________________________________________________________________\n",
            "dropout_2 (Dropout)          (None, 512)               0         \n",
            "_________________________________________________________________\n",
            "batch_normalization_5 (Batch (None, 512)               2048      \n",
            "_________________________________________________________________\n",
            "dense_2 (Dense)              (None, 1024)              525312    \n",
            "_________________________________________________________________\n",
            "dropout_3 (Dropout)          (None, 1024)              0         \n",
            "_________________________________________________________________\n",
            "batch_normalization_6 (Batch (None, 1024)              4096      \n",
            "_________________________________________________________________\n",
            "dense_3 (Dense)              (None, 10)                10250     \n",
            "_________________________________________________________________\n",
            "softmax (Softmax)            (None, 10)                0         \n",
            "=================================================================\n",
            "Total params: 8,798,922\n",
            "Trainable params: 8,793,866\n",
            "Non-trainable params: 5,056\n",
            "_________________________________________________________________\n",
            "None\n",
            "Epoch 1/25\n",
            "141/141 [==============================] - 4293s 30s/step - loss: 2.7229 - accuracy: 0.1621 - val_loss: 2.4673 - val_accuracy: 0.1910\n",
            "Epoch 2/25\n",
            "141/141 [==============================] - 205s 1s/step - loss: 2.3284 - accuracy: 0.2142 - val_loss: 2.6859 - val_accuracy: 0.2100\n",
            "Epoch 3/25\n",
            "141/141 [==============================] - 202s 1s/step - loss: 2.2097 - accuracy: 0.2443 - val_loss: 2.2596 - val_accuracy: 0.2290\n",
            "Epoch 4/25\n",
            "141/141 [==============================] - 203s 1s/step - loss: 2.1459 - accuracy: 0.2580 - val_loss: 2.2420 - val_accuracy: 0.2490\n",
            "Epoch 5/25\n",
            "141/141 [==============================] - 203s 1s/step - loss: 2.1063 - accuracy: 0.2778 - val_loss: 2.6292 - val_accuracy: 0.2050\n",
            "Epoch 6/25\n",
            "141/141 [==============================] - 203s 1s/step - loss: 2.0674 - accuracy: 0.2910 - val_loss: 2.2207 - val_accuracy: 0.2720\n",
            "Epoch 7/25\n",
            "141/141 [==============================] - 202s 1s/step - loss: 2.0018 - accuracy: 0.3121 - val_loss: 1.9447 - val_accuracy: 0.3050\n",
            "Epoch 8/25\n",
            "141/141 [==============================] - 203s 1s/step - loss: 1.9638 - accuracy: 0.3248 - val_loss: 2.1626 - val_accuracy: 0.3010\n",
            "Epoch 9/25\n",
            "141/141 [==============================] - 206s 1s/step - loss: 1.9088 - accuracy: 0.3377 - val_loss: 2.0859 - val_accuracy: 0.3170\n",
            "Epoch 10/25\n",
            "141/141 [==============================] - 207s 1s/step - loss: 1.9167 - accuracy: 0.3436 - val_loss: 2.1103 - val_accuracy: 0.2950\n",
            "Epoch 11/25\n",
            "141/141 [==============================] - 210s 1s/step - loss: 1.8822 - accuracy: 0.3593 - val_loss: 2.0200 - val_accuracy: 0.3040\n",
            "Epoch 12/25\n",
            "141/141 [==============================] - 199s 1s/step - loss: 1.8719 - accuracy: 0.3518 - val_loss: 2.3413 - val_accuracy: 0.2750\n",
            "Epoch 13/25\n",
            "141/141 [==============================] - 200s 1s/step - loss: 1.8099 - accuracy: 0.3776 - val_loss: 2.1737 - val_accuracy: 0.3000\n",
            "Epoch 14/25\n",
            "141/141 [==============================] - 200s 1s/step - loss: 1.8267 - accuracy: 0.3641 - val_loss: 2.0225 - val_accuracy: 0.3180\n",
            "Epoch 15/25\n",
            "141/141 [==============================] - 200s 1s/step - loss: 1.7679 - accuracy: 0.3895 - val_loss: 1.8638 - val_accuracy: 0.3710\n",
            "Epoch 16/25\n",
            "141/141 [==============================] - 200s 1s/step - loss: 1.7263 - accuracy: 0.4075 - val_loss: 2.0039 - val_accuracy: 0.3350\n",
            "Epoch 17/25\n",
            "141/141 [==============================] - 200s 1s/step - loss: 1.7102 - accuracy: 0.4141 - val_loss: 1.9118 - val_accuracy: 0.3300\n",
            "Epoch 18/25\n",
            "141/141 [==============================] - 200s 1s/step - loss: 1.7130 - accuracy: 0.4046 - val_loss: 2.0875 - val_accuracy: 0.3230\n",
            "Epoch 19/25\n",
            "141/141 [==============================] - 200s 1s/step - loss: 1.6819 - accuracy: 0.4171 - val_loss: 1.9090 - val_accuracy: 0.3570\n",
            "Epoch 20/25\n",
            "141/141 [==============================] - 200s 1s/step - loss: 1.6385 - accuracy: 0.4252 - val_loss: 1.9072 - val_accuracy: 0.3570\n",
            "Epoch 21/25\n",
            "141/141 [==============================] - 200s 1s/step - loss: 1.6570 - accuracy: 0.4245 - val_loss: 2.2271 - val_accuracy: 0.3180\n",
            "Epoch 22/25\n",
            "141/141 [==============================] - 201s 1s/step - loss: 1.6182 - accuracy: 0.4393 - val_loss: 1.7858 - val_accuracy: 0.3760\n",
            "Epoch 23/25\n",
            "141/141 [==============================] - 200s 1s/step - loss: 1.5823 - accuracy: 0.4536 - val_loss: 2.2545 - val_accuracy: 0.3590\n",
            "Epoch 24/25\n",
            "141/141 [==============================] - 201s 1s/step - loss: 1.5480 - accuracy: 0.4624 - val_loss: 1.9245 - val_accuracy: 0.3900\n",
            "Epoch 25/25\n",
            "141/141 [==============================] - 202s 1s/step - loss: 1.5171 - accuracy: 0.4666 - val_loss: 2.0748 - val_accuracy: 0.3790\n"
          ],
          "name": "stdout"
        }
      ]
    },
    {
      "cell_type": "code",
      "metadata": {
        "id": "EjaI9Xk-2LRQ",
        "colab": {
          "base_uri": "https://localhost:8080/"
        },
        "outputId": "43b37d20-c64e-4d96-a998-ecbfb5b6b439"
      },
      "source": [
        "#applying the model on test data\n",
        "datagen = preprocessing.image.ImageDataGenerator()\n",
        "print(path+'val/')\n",
        "test = validation = datagen.flow_from_directory(path+'val/',target_size=(224,224),color_mode='rgb', classes=None,class_mode='categorical')"
      ],
      "execution_count": 15,
      "outputs": [
        {
          "output_type": "stream",
          "text": [
            "/content/drive/MyDrive/Assignment2/inaturalist_12K/val/\n",
            "Found 2000 images belonging to 10 classes.\n"
          ],
          "name": "stdout"
        }
      ]
    },
    {
      "cell_type": "code",
      "metadata": {
        "id": "U7ymsC7h2QfT",
        "colab": {
          "base_uri": "https://localhost:8080/"
        },
        "outputId": "9c8ca484-a650-4b65-c541-8d357c5ab14a"
      },
      "source": [
        "m = model.evaluate(test,return_dict=True)"
      ],
      "execution_count": 16,
      "outputs": [
        {
          "output_type": "stream",
          "text": [
            "63/63 [==============================] - 819s 13s/step - loss: 2.0500 - accuracy: 0.3820\n"
          ],
          "name": "stdout"
        }
      ]
    },
    {
      "cell_type": "code",
      "metadata": {
        "id": "tVH_MQj02Th6",
        "colab": {
          "base_uri": "https://localhost:8080/"
        },
        "outputId": "fcc40b81-4de9-4923-f32d-d821d2c645ac"
      },
      "source": [
        "!pip install h5py\n",
        "#Saving the best model as json and h5 files\n",
        "from keras.models import model_from_json\n",
        "from tensorflow.keras import *\n",
        "model_path = '/content/drive/MyDrive/Assignment2/'\n",
        "# reffered this for saving and loading the model 'https://machinelearningmastery.com/save-load-keras-deep-learning-models/'\n",
        "\n",
        "# model_json = model.to_json()\n",
        "# with open(model_path+\"model.json\", \"w\") as json_file:\n",
        "#     json_file.write(model_json)\n",
        "\n",
        "# model.save_weights(model_path+\"model.h5\")\n",
        "# print(\"Saved model to disk\")\n",
        "\n",
        "#Loading the model from disk\n",
        "json_file = open(model_path+'model.json', 'r')\n",
        "loaded_model_json = json_file.read()\n",
        "json_file.close()\n",
        "loaded_model = model_from_json(loaded_model_json)\n",
        "# load weights into new model\n",
        "loaded_model.load_weights(model_path+\"model.h5\")\n",
        "print(\"Loaded model from disk\")\n",
        "loaded_model.summary()\n",
        "#recompiling the loaded model\n",
        "loaded_model.compile(optimizer='adam',loss=losses.CategoricalCrossentropy(),metrics=['accuracy'])\n",
        "model = loaded_model"
      ],
      "execution_count": 17,
      "outputs": [
        {
          "output_type": "stream",
          "text": [
            "Requirement already satisfied: h5py in /usr/local/lib/python3.7/dist-packages (2.10.0)\n",
            "Requirement already satisfied: six in /usr/local/lib/python3.7/dist-packages (from h5py) (1.15.0)\n",
            "Requirement already satisfied: numpy>=1.7 in /usr/local/lib/python3.7/dist-packages (from h5py) (1.19.5)\n",
            "Loaded model from disk\n",
            "Model: \"sequential\"\n",
            "_________________________________________________________________\n",
            "Layer (type)                 Output Shape              Param #   \n",
            "=================================================================\n",
            "conv2d (Conv2D)              (None, 222, 222, 32)      896       \n",
            "_________________________________________________________________\n",
            "batch_normalization (BatchNo (None, 222, 222, 32)      128       \n",
            "_________________________________________________________________\n",
            "max_pooling2d (MaxPooling2D) (None, 111, 111, 32)      0         \n",
            "_________________________________________________________________\n",
            "conv2d_1 (Conv2D)            (None, 109, 109, 64)      18496     \n",
            "_________________________________________________________________\n",
            "batch_normalization_1 (Batch (None, 109, 109, 64)      256       \n",
            "_________________________________________________________________\n",
            "max_pooling2d_1 (MaxPooling2 (None, 54, 54, 64)        0         \n",
            "_________________________________________________________________\n",
            "conv2d_2 (Conv2D)            (None, 50, 50, 128)       204928    \n",
            "_________________________________________________________________\n",
            "batch_normalization_2 (Batch (None, 50, 50, 128)       512       \n",
            "_________________________________________________________________\n",
            "max_pooling2d_2 (MaxPooling2 (None, 25, 25, 128)       0         \n",
            "_________________________________________________________________\n",
            "conv2d_3 (Conv2D)            (None, 19, 19, 256)       1605888   \n",
            "_________________________________________________________________\n",
            "dropout (Dropout)            (None, 19, 19, 256)       0         \n",
            "_________________________________________________________________\n",
            "batch_normalization_3 (Batch (None, 19, 19, 256)       1024      \n",
            "_________________________________________________________________\n",
            "average_pooling2d (AveragePo (None, 9, 9, 256)         0         \n",
            "_________________________________________________________________\n",
            "conv2d_4 (Conv2D)            (None, 3, 3, 512)         6423040   \n",
            "_________________________________________________________________\n",
            "dropout_1 (Dropout)          (None, 3, 3, 512)         0         \n",
            "_________________________________________________________________\n",
            "batch_normalization_4 (Batch (None, 3, 3, 512)         2048      \n",
            "_________________________________________________________________\n",
            "average_pooling2d_1 (Average (None, 1, 1, 512)         0         \n",
            "_________________________________________________________________\n",
            "flatten (Flatten)            (None, 512)               0         \n",
            "_________________________________________________________________\n",
            "dropout_2 (Dropout)          (None, 512)               0         \n",
            "_________________________________________________________________\n",
            "batch_normalization_5 (Batch (None, 512)               2048      \n",
            "_________________________________________________________________\n",
            "dense (Dense)                (None, 1024)              525312    \n",
            "_________________________________________________________________\n",
            "dropout_3 (Dropout)          (None, 1024)              0         \n",
            "_________________________________________________________________\n",
            "batch_normalization_6 (Batch (None, 1024)              4096      \n",
            "_________________________________________________________________\n",
            "dense_1 (Dense)              (None, 10)                10250     \n",
            "_________________________________________________________________\n",
            "softmax (Softmax)            (None, 10)                0         \n",
            "=================================================================\n",
            "Total params: 8,798,922\n",
            "Trainable params: 8,793,866\n",
            "Non-trainable params: 5,056\n",
            "_________________________________________________________________\n"
          ],
          "name": "stdout"
        }
      ]
    },
    {
      "cell_type": "code",
      "metadata": {
        "id": "o-npAEg93jMJ"
      },
      "source": [
        "from tensorflow.keras.preprocessing import image\n",
        "from tensorflow.keras.applications.resnet import preprocess_input\n",
        "import numpy as np\n",
        "import matplotlib.pyplot as plt\n",
        "import tensorflow as tf\n",
        "import tensorflow.keras.backend as K"
      ],
      "execution_count": 18,
      "outputs": []
    },
    {
      "cell_type": "code",
      "metadata": {
        "id": "cN8VtBeh3luk",
        "colab": {
          "base_uri": "https://localhost:8080/",
          "height": 248
        },
        "outputId": "f9d668a0-cc81-4164-98fc-c8f23dcdce62"
      },
      "source": [
        "img_path = \"/content/drive/MyDrive/Assignment2/inaturalist_12K/val/Amphibia/06369a70c92e4c9ae1ece6f2ba889a6c.jpg\"\n",
        "input_img = image.load_img(img_path,target_size=(224,224))\n",
        "plt.imshow(input_img)\n",
        "plt.axis(\"off\");\n",
        "#wandb.log({'Input_Image':[wandb.Image(input_img,caption='sample_image')]})\n",
        "input_img = image.img_to_array(input_img)\n",
        "input_img = preprocess_input(np.expand_dims(input_img, axis=0))\n",
        "\n",
        "#helper function to normalise input tensor with mean 0 , variance 0.25 and converting it into rgb\n",
        "def g(x):\n",
        "   x = (x-x.mean())\n",
        "   x = x/(x.std()+K.epsilon())\n",
        "   x = x*(0.25)\n",
        "   x = np.clip(x+0.5,0,1)*255\n",
        "   x = np.clip(x,0,255).astype('uint8')\n",
        "   return x"
      ],
      "execution_count": 19,
      "outputs": [
        {
          "output_type": "display_data",
          "data": {
            "image/png": "[encoded data removed]",
            "text/plain": [
              "<Figure size 432x288 with 1 Axes>"
            ]
          },
          "metadata": {
            "tags": [],
            "needs_background": "light"
          }
        }
      ]
    },
    {
      "cell_type": "code",
      "metadata": {
        "id": "INEgTIHU3n-y",
        "colab": {
          "base_uri": "https://localhost:8080/"
        },
        "outputId": "002d5cfc-d252-4c3c-c30f-5db706aab470"
      },
      "source": [
        "##code for guided backpropoagation\n",
        "import random\n",
        "#referred to this 'https://stackoverflow.com/questions/55924331/how-to-apply-guided-backprop-in-tensorflow-2-0' to understand the details in implementing guided back_prop in tensorflow.\n",
        "@tf.custom_gradient\n",
        "def guidedRelu(x):\n",
        "  def grad(dy):\n",
        "    return tf.cast(dy>0,\"float32\") * tf.cast(x>0, \"float32\") * dy\n",
        "  return tf.nn.relu(x), grad\n",
        "\n",
        "images = []\n",
        "labels = []\n",
        "\n",
        "for ii in range(10):\n",
        "    x = random.randint(0,512*9)\n",
        "    i = x//(512*3)\n",
        "    x -= i*(512*3)\n",
        "    j = x//(512)\n",
        "    x -= j*(512)\n",
        "    k = x\n",
        "    mask = np.zeros(shape=(1,3,3,512))\n",
        "    mask[0][i][j][k] = 1\n",
        "    #print(i,j,k)\n",
        "    model = loaded_model\n",
        "    gb_model = Model(\n",
        "        inputs = [model.inputs],\n",
        "        outputs = [model.get_layer(\"conv2d_4\").output]\n",
        "    )\n",
        "\n",
        "    layer_dict = [layer for layer in gb_model.layers[1:] if hasattr(layer,'activation')]\n",
        "    for layer in layer_dict:\n",
        "        if layer.activation == tf.keras.activations.relu:\n",
        "            layer.activation = guidedRelu\n",
        "    \n",
        "    with tf.GradientTape() as tape:\n",
        "      inputs = tf.cast(input_img, tf.float32)\n",
        "      tape.watch(inputs)\n",
        "      outputs = gb_model(inputs)*mask\n",
        "\n",
        "    grads = tape.gradient(outputs,inputs)[0]\n",
        "    labels.append('neuron: ('+str(i)+','+str(j)+','+str(k)+')')\n",
        "    images.append(np.flip(g(np.array(grads)),-1))\n",
        "\n",
        "print(len(images))\n",
        "# !wandb login \n",
        "# wandb.init(project=\"Assignment2\", entity=\"shivaram_22\")\n",
        "# wandb.log({\"Guided backpropoagation on randomly choosen 10 neurons from conv5 layer\": [wandb.Image(image,caption=label) for image,label in zip(images,labels)]})"
      ],
      "execution_count": 20,
      "outputs": [
        {
          "output_type": "stream",
          "text": [
            "10\n"
          ],
          "name": "stdout"
        }
      ]
    },
    {
      "cell_type": "code",
      "metadata": {
        "id": "K_bjCdnj4MJ2"
      },
      "source": [
        "#code for filter visualisation: \n",
        "v_model = Model(inputs = [model.inputs],outputs = [model.get_layer(\"conv2d\").output])\n",
        "inputs = tf.cast(input_img, tf.float32)\n",
        "outputs = v_model(inputs)"
      ],
      "execution_count": 21,
      "outputs": []
    },
    {
      "cell_type": "code",
      "metadata": {
        "id": "Nq2Mi70K4Rgt"
      },
      "source": [
        "f_out = outputs[0].numpy()\n",
        "images = []\n",
        "labels = []\n",
        "for i in range(32):\n",
        "  f = f_out[:,:,i]\n",
        "  f = (f-f.min())/(f.max()-f.min())\n",
        "  images.append(f)\n",
        "  labels.append('filter: '+str(i))\n",
        "\n",
        "#wandb.log({\"Filter Visualisation\": [wandb.Image(image,caption=label) for image,label in zip(images,labels)]})"
      ],
      "execution_count": 22,
      "outputs": []
    },
    {
      "cell_type": "code",
      "metadata": {
        "id": "yDI1ujFj4ZNM"
      },
      "source": [
        "#output of weights of 32 filters in conv2d\n",
        "filters,biases = model.get_layer('conv2d').get_weights()\n",
        "filters = (filters-filters.min())/(filters.max()-filters.min())\n",
        "images = []\n",
        "labels = []\n",
        "for i in range(32):\n",
        "    #print('filter_num: ',i)\n",
        "    f = filters[:,:,:,i]\n",
        "    images.append(f)\n",
        "    labels.append('filter: '+str(i))\n",
        "\n",
        "#wandb.log({\"Filter weights Visualisation\": [wandb.Image(image,caption=label) for image,label in zip(images,labels)]})"
      ],
      "execution_count": 23,
      "outputs": []
    },
    {
      "cell_type": "code",
      "metadata": {
        "colab": {
          "base_uri": "https://localhost:8080/"
        },
        "id": "2hUjK0R54id1",
        "outputId": "6bd889c1-c2fb-4b75-fdb2-528d50a34c03"
      },
      "source": [
        "#code for prediction on few random imgaes on test data\n",
        "import os\n",
        "import random\n",
        "import numpy as np\n",
        "\n",
        "path = '/content/drive/MyDrive/Assignment2/inaturalist_12K/val/'\n",
        "classes = ['Amphibia','Animalia','Arachnida','Aves','Fungi','Insecta','Mammalia','Mollusca','Plantae','Reptilia']\n",
        "\n",
        "datagen = preprocessing.image.ImageDataGenerator()\n",
        "path = '/content/drive/MyDrive/Assignment2/inaturalist_12K/'\n",
        "test = datagen.flow_from_directory(path+'val/',target_size=(224,224),color_mode='rgb', classes=None,class_mode='categorical',shuffle=False)\n",
        "Y_pred = model.predict(test)\n",
        "y_pred = np.argmax(Y_pred, axis=1)"
      ],
      "execution_count": 24,
      "outputs": [
        {
          "output_type": "stream",
          "text": [
            "Found 2000 images belonging to 10 classes.\n"
          ],
          "name": "stdout"
        }
      ]
    },
    {
      "cell_type": "code",
      "metadata": {
        "colab": {
          "base_uri": "https://localhost:8080/"
        },
        "id": "q7AarmEP4qI1",
        "outputId": "334e27e9-f6a5-47ea-ab8b-50ba8796a4c7"
      },
      "source": [
        "\n",
        "path = '/content/drive/MyDrive/Assignment2/inaturalist_12K/val/'\n",
        "images = []\n",
        "labels = []\n",
        "random.seed(3)\n",
        "for i in range(10):\n",
        "    l = os.listdir(path+'/'+classes[i]+'/')\n",
        "    g = []\n",
        "    for ii in range(3):\n",
        "      g.append(random.randint(0,199))\n",
        "    gg = []\n",
        "    for x in g:\n",
        "      img = image.load_img(path+'/'+classes[i]+'/'+l[x], target_size=(224, 224))\n",
        "      images.append(img)\n",
        "      pred = y_pred[i*200+x]\n",
        "      label = 'True:'+classes[i]+\",Predicted:\"+classes[pred]\n",
        "      labels.append(label)\n",
        "      gg.append(pred)\n",
        "    print('true: ',i,'predicted: ',gg)\n",
        "    "
      ],
      "execution_count": 25,
      "outputs": [
        {
          "output_type": "stream",
          "text": [
            "true:  0 predicted:  [8, 6, 9]\n",
            "true:  1 predicted:  [8, 9, 6]\n",
            "true:  2 predicted:  [3, 2, 6]\n",
            "true:  3 predicted:  [6, 5, 3]\n",
            "true:  4 predicted:  [8, 8, 4]\n",
            "true:  5 predicted:  [5, 6, 5]\n",
            "true:  6 predicted:  [3, 6, 6]\n",
            "true:  7 predicted:  [6, 6, 7]\n",
            "true:  8 predicted:  [8, 8, 8]\n",
            "true:  9 predicted:  [6, 6, 9]\n"
          ],
          "name": "stdout"
        }
      ]
    },
    {
      "cell_type": "code",
      "metadata": {
        "id": "AOyyDVE84tTW"
      },
      "source": [
        "#applying the model on test data\n",
        "# !wandb login \n",
        "# wandb.init(project=\"Assignment2\", entity=\"shivaram_22\")\n",
        "#wandb.log({\"Sample Predictions on test set \": [wandb.Image(image,caption=label) for image,label in zip(images,labels)]})"
      ],
      "execution_count": 26,
      "outputs": []
    }
  ]
}