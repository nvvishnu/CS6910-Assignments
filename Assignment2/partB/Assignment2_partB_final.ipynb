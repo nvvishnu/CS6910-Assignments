{
  "nbformat": 4,
  "nbformat_minor": 0,
  "metadata": {
    "colab": {
      "name": "Assignment2_partB_final.ipynb",
      "provenance": [],
      "include_colab_link": true
    },
    "kernelspec": {
      "name": "python3",
      "display_name": "Python 3"
    },
    "language_info": {
      "name": "python"
    }
  },
  "cells": [
    {
      "cell_type": "markdown",
      "metadata": {
        "id": "view-in-github",
        "colab_type": "text"
      },
      "source": [
        "<a href=\"https://colab.research.google.com/github/nvvishnu/CS6910-Assignments/blob/main/Assignment2/partB/Assignment2_partB_final.ipynb\" target=\"_parent\"><img src=\"https://colab.research.google.com/assets/colab-badge.svg\" alt=\"Open In Colab\"/></a>"
      ]
    },
    {
      "cell_type": "code",
      "metadata": {
        "id": "MUimlHjP5_Br",
        "outputId": "360b6c37-ff7f-4189-a3bc-2c7dc65db06d",
        "colab": {
          "base_uri": "https://localhost:8080/"
        }
      },
      "source": [
        "from tensorflow.keras import *\n",
        "!pip install wandb\n",
        "import wandb\n",
        "from wandb.keras import WandbCallback \n",
        "import math"
      ],
      "execution_count": 1,
      "outputs": [
        {
          "output_type": "stream",
          "text": [
            "Collecting wandb\n",
            "\u001b[?25l  Downloading https://files.pythonhosted.org/packages/d5/5d/20ab24504de2669c9a76a50c9bdaeb44a440b0e5e4b92be881ed323857b1/wandb-0.10.26-py2.py3-none-any.whl (2.1MB)\n",
            "\u001b[K     |████████████████████████████████| 2.1MB 4.4MB/s \n",
            "\u001b[?25hRequirement already satisfied: python-dateutil>=2.6.1 in /usr/local/lib/python3.7/dist-packages (from wandb) (2.8.1)\n",
            "Collecting GitPython>=1.0.0\n",
            "\u001b[?25l  Downloading https://files.pythonhosted.org/packages/a6/99/98019716955ba243657daedd1de8f3a88ca1f5b75057c38e959db22fb87b/GitPython-3.1.14-py3-none-any.whl (159kB)\n",
            "\u001b[K     |████████████████████████████████| 163kB 18.3MB/s \n",
            "\u001b[?25hRequirement already satisfied: requests<3,>=2.0.0 in /usr/local/lib/python3.7/dist-packages (from wandb) (2.23.0)\n",
            "Collecting subprocess32>=3.5.3\n",
            "\u001b[?25l  Downloading https://files.pythonhosted.org/packages/32/c8/564be4d12629b912ea431f1a50eb8b3b9d00f1a0b1ceff17f266be190007/subprocess32-3.5.4.tar.gz (97kB)\n",
            "\u001b[K     |████████████████████████████████| 102kB 5.7MB/s \n",
            "\u001b[?25hRequirement already satisfied: protobuf>=3.12.0 in /usr/local/lib/python3.7/dist-packages (from wandb) (3.12.4)\n",
            "Collecting pathtools\n",
            "  Downloading https://files.pythonhosted.org/packages/e7/7f/470d6fcdf23f9f3518f6b0b76be9df16dcc8630ad409947f8be2eb0ed13a/pathtools-0.1.2.tar.gz\n",
            "Collecting docker-pycreds>=0.4.0\n",
            "  Downloading https://files.pythonhosted.org/packages/f5/e8/f6bd1eee09314e7e6dee49cbe2c5e22314ccdb38db16c9fc72d2fa80d054/docker_pycreds-0.4.0-py2.py3-none-any.whl\n",
            "Requirement already satisfied: promise<3,>=2.0 in /usr/local/lib/python3.7/dist-packages (from wandb) (2.3)\n",
            "Collecting sentry-sdk>=0.4.0\n",
            "\u001b[?25l  Downloading https://files.pythonhosted.org/packages/f3/92/5a33be64990ba815364a8f2dd9e6f51de60d23dfddafb4f1fc5577d4dc64/sentry_sdk-1.0.0-py2.py3-none-any.whl (131kB)\n",
            "\u001b[K     |████████████████████████████████| 133kB 18.3MB/s \n",
            "\u001b[?25hCollecting configparser>=3.8.1\n",
            "  Downloading https://files.pythonhosted.org/packages/fd/01/ff260a18caaf4457eb028c96eeb405c4a230ca06c8ec9c1379f813caa52e/configparser-5.0.2-py3-none-any.whl\n",
            "Requirement already satisfied: PyYAML in /usr/local/lib/python3.7/dist-packages (from wandb) (3.13)\n",
            "Requirement already satisfied: Click>=7.0 in /usr/local/lib/python3.7/dist-packages (from wandb) (7.1.2)\n",
            "Requirement already satisfied: six>=1.13.0 in /usr/local/lib/python3.7/dist-packages (from wandb) (1.15.0)\n",
            "Collecting shortuuid>=0.5.0\n",
            "  Downloading https://files.pythonhosted.org/packages/25/a6/2ecc1daa6a304e7f1b216f0896b26156b78e7c38e1211e9b798b4716c53d/shortuuid-1.0.1-py3-none-any.whl\n",
            "Requirement already satisfied: psutil>=5.0.0 in /usr/local/lib/python3.7/dist-packages (from wandb) (5.4.8)\n",
            "Collecting gitdb<5,>=4.0.1\n",
            "\u001b[?25l  Downloading https://files.pythonhosted.org/packages/ea/e8/f414d1a4f0bbc668ed441f74f44c116d9816833a48bf81d22b697090dba8/gitdb-4.0.7-py3-none-any.whl (63kB)\n",
            "\u001b[K     |████████████████████████████████| 71kB 6.3MB/s \n",
            "\u001b[?25hRequirement already satisfied: chardet<4,>=3.0.2 in /usr/local/lib/python3.7/dist-packages (from requests<3,>=2.0.0->wandb) (3.0.4)\n",
            "Requirement already satisfied: urllib3!=1.25.0,!=1.25.1,<1.26,>=1.21.1 in /usr/local/lib/python3.7/dist-packages (from requests<3,>=2.0.0->wandb) (1.24.3)\n",
            "Requirement already satisfied: certifi>=2017.4.17 in /usr/local/lib/python3.7/dist-packages (from requests<3,>=2.0.0->wandb) (2020.12.5)\n",
            "Requirement already satisfied: idna<3,>=2.5 in /usr/local/lib/python3.7/dist-packages (from requests<3,>=2.0.0->wandb) (2.10)\n",
            "Requirement already satisfied: setuptools in /usr/local/lib/python3.7/dist-packages (from protobuf>=3.12.0->wandb) (54.2.0)\n",
            "Collecting smmap<5,>=3.0.1\n",
            "  Downloading https://files.pythonhosted.org/packages/68/ee/d540eb5e5996eb81c26ceffac6ee49041d473bc5125f2aa995cf51ec1cf1/smmap-4.0.0-py2.py3-none-any.whl\n",
            "Building wheels for collected packages: subprocess32, pathtools\n",
            "  Building wheel for subprocess32 (setup.py) ... \u001b[?25l\u001b[?25hdone\n",
            "  Created wheel for subprocess32: filename=subprocess32-3.5.4-cp37-none-any.whl size=6489 sha256=ffb9aec39c7e9be6be25b56fdba7cdf6c04b9e368a099dcd8a2b76ff7ab44f86\n",
            "  Stored in directory: /root/.cache/pip/wheels/68/39/1a/5e402bdfdf004af1786c8b853fd92f8c4a04f22aad179654d1\n",
            "  Building wheel for pathtools (setup.py) ... \u001b[?25l\u001b[?25hdone\n",
            "  Created wheel for pathtools: filename=pathtools-0.1.2-cp37-none-any.whl size=8786 sha256=9968f0f87392c96a24b17261fda44941c52829bb6ce2e3e1e7abb3d8001ea3a5\n",
            "  Stored in directory: /root/.cache/pip/wheels/0b/04/79/c3b0c3a0266a3cb4376da31e5bfe8bba0c489246968a68e843\n",
            "Successfully built subprocess32 pathtools\n",
            "Installing collected packages: smmap, gitdb, GitPython, subprocess32, pathtools, docker-pycreds, sentry-sdk, configparser, shortuuid, wandb\n",
            "Successfully installed GitPython-3.1.14 configparser-5.0.2 docker-pycreds-0.4.0 gitdb-4.0.7 pathtools-0.1.2 sentry-sdk-1.0.0 shortuuid-1.0.1 smmap-4.0.0 subprocess32-3.5.4 wandb-0.10.26\n"
          ],
          "name": "stdout"
        }
      ]
    },
    {
      "cell_type": "code",
      "metadata": {
        "id": "2iKNHU_q6IBb"
      },
      "source": [
        "def train_model(x,retrain_top_layers_percentage,augmentation,epochs,target_size,optimizer):\n",
        "    \n",
        "    g = len(x.layers)\n",
        "    print('layers_size: ',g)\n",
        "    num_retrain = math.ceil(g*(1-retrain_top_layers_percentage))\n",
        "    for gg in x.layers[:num_retrain]:\n",
        "      gg.trainable = False\n",
        "    print(num_retrain)\n",
        "    model = Sequential()\n",
        "    model.add(x)\n",
        "    model.add(layers.GlobalAveragePooling2D())\n",
        "    model.add(layers.Flatten())\n",
        "    model.add(layers.Dense(1024,activation='relu'))\n",
        "    model.add(layers.Dropout(0.2))\n",
        "    model.add(layers.Dense(10))\n",
        "    model.add(layers.Softmax())\n",
        "    model.summary()\n",
        "    datagen = preprocessing.image.ImageDataGenerator()\n",
        "    path = '/content/drive/MyDrive/Assignment2/inaturalist_12K/'\n",
        "    augmented = preprocessing.image.ImageDataGenerator(\n",
        "                              #featurewise_center=True,\n",
        "                              #featurewise_std_normalization=True,\n",
        "                              rotation_range=20,\n",
        "                              width_shift_range=0.2,\n",
        "                              height_shift_range=0.2,\n",
        "                              horizontal_flip=True)\n",
        "    \n",
        "    if(augmentation):\n",
        "      train = augmented.flow_from_directory(path+'split/train/',target_size=target_size,color_mode='rgb', classes=None,class_mode='categorical', batch_size=32)\n",
        "    else:\n",
        "       train = datagen.flow_from_directory(path+'split/train/',target_size=target_size,color_mode='rgb', classes=None,class_mode='categorical', batch_size=32)\n",
        "    validation = datagen.flow_from_directory(path+'split/val/',target_size=target_size,color_mode='rgb', classes=None,class_mode='categorical', batch_size=32)\n",
        "     #x is input model\n",
        "    model.compile(optimizer=optimizer,loss=losses.CategoricalCrossentropy(),metrics=['accuracy'])\n",
        "    model.fit(train,epochs=epochs,validation_data=validation) #,callbacks=[WandbCallback()])\n",
        "\n",
        "    return model\n",
        "\n",
        "def fun(model_name,retrain_top_layers_percentage,augmentation,epochs,optimizer):\n",
        "    \n",
        "    if(model_name == 'NASNetLarge'):\n",
        "       x = applications.NASNetLarge(include_top=False, weights='imagenet',input_shape=(331,331,3))\n",
        "       target_size = (331,331)\n",
        "    elif(model_name == 'InceptionV3'):\n",
        "       x = applications.InceptionV3(include_top=False, weights='imagenet',input_shape=(224,224,3))\n",
        "       target_size = (224,224)\n",
        "    elif(model_name == 'ResNet50'):\n",
        "       x = applications.ResNet50(include_top=False, weights='imagenet',input_shape=(224,224,3))\n",
        "       target_size = (224,224)\n",
        "    elif(model_name == 'Xception'):\n",
        "       x = applications.Xception(include_top=False, weights='imagenet',input_shape=(224,224,3))\n",
        "       target_size = (224,224)\n",
        "    elif(model_name == 'InceptionResNetV2'):\n",
        "       x = applications.InceptionResNetV2(include_top=False, weights='imagenet',input_shape=(224,224,3))\n",
        "       target_size = (224,224)\n",
        "    elif(model_name == 'ResNet101'):\n",
        "      x = applications.ResNet101(include_top=False,weights='imagenet',input_shape=(224,224,3))\n",
        "      target_size = (224,224)\n",
        "    elif(model_name == 'ResNet50V2'):\n",
        "      x = applications.ResNet50V2(include_top=False,weights='imagenet',input_shape=(224,224,3))\n",
        "      target_size = (224,224)\n",
        "    elif(model_name == 'VGG16'):\n",
        "      x = applications.VGG16(include_top=False,weights='imagenet',input_shape=(224,224,3))\n",
        "      target_size = (224,224)\n",
        "    else:\n",
        "      raise Exception(\"Invalid Model name\")\n",
        "    \n",
        "    return train_model(x,retrain_top_layers_percentage,augmentation,epochs,target_size,optimizer)\n",
        "    "
      ],
      "execution_count": 2,
      "outputs": []
    },
    {
      "cell_type": "code",
      "metadata": {
        "id": "UOUgi-tY7BKD"
      },
      "source": [
        "sweep_config = {\n",
        "    'name': 'tuning_model',\n",
        "    'method' : 'bayes',\n",
        "    'metric': {        \n",
        "         'goal': 'maximize',\n",
        "         'name' : 'val_accuracy'\n",
        "    },\n",
        "    'parameters': {\n",
        "        'model_name' : {\n",
        "            'values' : ['NASNetLarge','ResNet101','ResNet50','ResNet50V2','VGG16','InceptionV3','InceptionResNetV2']\n",
        "        },\n",
        "        'epochs': {\n",
        "            'values':[5,6]\n",
        "        },\n",
        "        'retrain_top_layers_percentage':{\n",
        "            'values':[0.1,0.2,0.3]\n",
        "        },\n",
        "        'optimizer':{\n",
        "            'values':['adam','sgd']\n",
        "        }\n",
        "    }\n",
        " }"
      ],
      "execution_count": 3,
      "outputs": []
    },
    {
      "cell_type": "code",
      "metadata": {
        "id": "RDU2Tx9o7CAe"
      },
      "source": [
        "def train():\n",
        "  config_default = { \n",
        "      'model_name' : 'ResNet50',\n",
        "      'epochs': 10,\n",
        "      'retrain_top_layers_percentage': 0.2,\n",
        "      'augmentation':True,\n",
        "      'optimizer':'adam'\n",
        "  }\n",
        "  print(\"wand about to be initialised\")\n",
        "  wandb.init(config=config_default,project='Assignment2')\n",
        "  config = wandb.config\n",
        "\n",
        "  fun(config.model_name,config.retrain_top_layers_percentage,True,config.epochs,config.optimizer)"
      ],
      "execution_count": 4,
      "outputs": []
    },
    {
      "cell_type": "code",
      "metadata": {
        "id": "tMcESBE37EMw"
      },
      "source": [
        "#sweep_id = wandb.sweep(sweep_config,entity=\"shivaram_22\",project=\"Assignment2\")\n",
        "#wandb.agent(sweep_id,project=\"Assignment2\",function=train)"
      ],
      "execution_count": 5,
      "outputs": []
    },
    {
      "cell_type": "code",
      "metadata": {
        "id": "TRjodR187JjI",
        "outputId": "ec9acfb5-9672-4ed8-8410-9be3f7c142fb",
        "colab": {
          "base_uri": "https://localhost:8080/"
        }
      },
      "source": [
        "#this our best model\n",
        "best_model = fun('ResNet50',0.2,True,5,'sgd')"
      ],
      "execution_count": 8,
      "outputs": [
        {
          "output_type": "stream",
          "text": [
            "layers_size:  175\n",
            "140\n",
            "Model: \"sequential_1\"\n",
            "_________________________________________________________________\n",
            "Layer (type)                 Output Shape              Param #   \n",
            "=================================================================\n",
            "resnet50 (Functional)        (None, 7, 7, 2048)        23587712  \n",
            "_________________________________________________________________\n",
            "global_average_pooling2d_1 ( (None, 2048)              0         \n",
            "_________________________________________________________________\n",
            "flatten_1 (Flatten)          (None, 2048)              0         \n",
            "_________________________________________________________________\n",
            "dense_2 (Dense)              (None, 1024)              2098176   \n",
            "_________________________________________________________________\n",
            "dropout_1 (Dropout)          (None, 1024)              0         \n",
            "_________________________________________________________________\n",
            "dense_3 (Dense)              (None, 10)                10250     \n",
            "_________________________________________________________________\n",
            "softmax_1 (Softmax)          (None, 10)                0         \n",
            "=================================================================\n",
            "Total params: 25,696,138\n",
            "Trainable params: 17,086,474\n",
            "Non-trainable params: 8,609,664\n",
            "_________________________________________________________________\n",
            "Found 8999 images belonging to 10 classes.\n",
            "Found 1000 images belonging to 10 classes.\n",
            "Epoch 1/5\n",
            "282/282 [==============================] - 3740s 13s/step - loss: 1.7244 - accuracy: 0.4096 - val_loss: 1.0320 - val_accuracy: 0.6740\n",
            "Epoch 2/5\n",
            "282/282 [==============================] - 2702s 10s/step - loss: 0.9236 - accuracy: 0.6885 - val_loss: 0.9296 - val_accuracy: 0.7030\n",
            "Epoch 3/5\n",
            "282/282 [==============================] - 2698s 10s/step - loss: 0.7223 - accuracy: 0.7598 - val_loss: 1.0169 - val_accuracy: 0.7090\n",
            "Epoch 4/5\n",
            "282/282 [==============================] - 2704s 10s/step - loss: 0.6037 - accuracy: 0.7944 - val_loss: 1.0298 - val_accuracy: 0.6980\n",
            "Epoch 5/5\n",
            "282/282 [==============================] - 2680s 10s/step - loss: 0.4885 - accuracy: 0.8404 - val_loss: 1.0808 - val_accuracy: 0.7080\n"
          ],
          "name": "stdout"
        }
      ]
    },
    {
      "cell_type": "code",
      "metadata": {
        "id": "gX7T1Rv99dT-",
        "outputId": "8c9d6435-21a9-448e-8dd2-866102311097",
        "colab": {
          "base_uri": "https://localhost:8080/"
        }
      },
      "source": [
        "from google.colab import drive\n",
        "drive.mount('/content/drive')"
      ],
      "execution_count": 7,
      "outputs": [
        {
          "output_type": "stream",
          "text": [
            "Mounted at /content/drive\n"
          ],
          "name": "stdout"
        }
      ]
    }
  ]
}