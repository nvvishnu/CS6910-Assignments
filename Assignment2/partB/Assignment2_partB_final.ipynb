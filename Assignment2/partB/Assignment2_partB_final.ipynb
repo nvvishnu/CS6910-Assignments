{
  "nbformat": 4,
  "nbformat_minor": 0,
  "metadata": {
    "colab": {
      "name": "Assignment2_partB_final.ipynb",
      "provenance": [],
      "authorship_tag": "ABX9TyMcbTymS8LNMKRXOU58UIMk",
      "include_colab_link": true
    },
    "kernelspec": {
      "name": "python3",
      "display_name": "Python 3"
    },
    "language_info": {
      "name": "python"
    }
  },
  "cells": [
    {
      "cell_type": "markdown",
      "metadata": {
        "id": "view-in-github",
        "colab_type": "text"
      },
      "source": [
        "<a href=\"https://colab.research.google.com/github/nvvishnu/CS6910-Assignments/blob/main/Assignment2/partB/Assignment2_partB_final.ipynb\" target=\"_parent\"><img src=\"https://colab.research.google.com/assets/colab-badge.svg\" alt=\"Open In Colab\"/></a>"
      ]
    },
    {
      "cell_type": "code",
      "metadata": {
        "id": "MUimlHjP5_Br"
      },
      "source": [
        "from tensorflow.keras import *\n",
        "!pip install wandb\n",
        "import wandb\n",
        "from wandb.keras import WandbCallback \n",
        "import math"
      ],
      "execution_count": null,
      "outputs": []
    },
    {
      "cell_type": "code",
      "metadata": {
        "id": "2iKNHU_q6IBb"
      },
      "source": [
        "def train_model(x,retrain_top_layers_percentage,augmentation,epochs,target_size,optimizer):\n",
        "    \n",
        "    g = len(x.layers)\n",
        "    print('layers_size: ',g)\n",
        "    num_retrain = math.ceil(g*(1-retrain_top_layers_percentage))\n",
        "    for gg in x.layers[:num_retrain]:\n",
        "      gg.trainable = False\n",
        "    print(num_retrain)\n",
        "    model = Sequential()\n",
        "    model.add(x)\n",
        "    model.add(layers.GlobalAveragePooling2D())\n",
        "    model.add(layers.Flatten())\n",
        "    model.add(layers.Dense(1024,activation='relu'))\n",
        "    model.add(layers.Dropout(0.2))\n",
        "    model.add(layers.Dense(10))\n",
        "    model.add(layers.Softmax())\n",
        "    model.summary()\n",
        "    datagen = preprocessing.image.ImageDataGenerator()\n",
        "    path = '/content/drive/MyDrive/Assignment2/inaturalist_12K/'\n",
        "    augmented = preprocessing.image.ImageDataGenerator(\n",
        "                              #featurewise_center=True,\n",
        "                              #featurewise_std_normalization=True,\n",
        "                              rotation_range=20,\n",
        "                              width_shift_range=0.2,\n",
        "                              height_shift_range=0.2,\n",
        "                              horizontal_flip=True)\n",
        "    \n",
        "    if(augmentation):\n",
        "      train = augmented.flow_from_directory(path+'split/train/',target_size=target_size,color_mode='rgb', classes=None,class_mode='categorical', batch_size=32)\n",
        "    else:\n",
        "       train = datagen.flow_from_directory(path+'split/train/',target_size=target_size,color_mode='rgb', classes=None,class_mode='categorical', batch_size=32)\n",
        "    validation = datagen.flow_from_directory(path+'split/val/',target_size=target_size,color_mode='rgb', classes=None,class_mode='categorical', batch_size=32)\n",
        "     #x is input model\n",
        "    model.compile(optimizer=optimizer,loss=losses.CategoricalCrossentropy(),metrics=['accuracy'])\n",
        "    model.fit(train,epochs=epochs,validation_data=validation,callbacks=[WandbCallback()])\n",
        "\n",
        "    return model\n",
        "\n",
        "def fun(model_name,retrain_top_layers_percentage,augmentation,epochs,optimizer):\n",
        "    \n",
        "    if(model_name == 'NASNetLarge'):\n",
        "       x = applications.NASNetLarge(include_top=False, weights='imagenet',input_shape=(331,331,3))\n",
        "       target_size = (331,331)\n",
        "    elif(model_name == 'InceptionV3'):\n",
        "       x = applications.InceptionV3(include_top=False, weights='imagenet',input_shape=(224,224,3))\n",
        "       target_size = (224,224)\n",
        "    elif(model_name == 'ResNet50'):\n",
        "       x = applications.ResNet50(include_top=False, weights='imagenet',input_shape=(224,224,3))\n",
        "       target_size = (224,224)\n",
        "    elif(model_name == 'Xception'):\n",
        "       x = applications.Xception(include_top=False, weights='imagenet',input_shape=(224,224,3))\n",
        "       target_size = (224,224)\n",
        "    elif(model_name == 'InceptionResNetV2'):\n",
        "       x = applications.InceptionResNetV2(include_top=False, weights='imagenet',input_shape=(224,224,3))\n",
        "       target_size = (224,224)\n",
        "    elif(model_name == 'ResNet101'):\n",
        "      x = applications.ResNet101(include_top=False,weights='imagenet',input_shape=(224,224,3))\n",
        "      target_size = (224,224)\n",
        "    elif(model_name == 'ResNet50V2'):\n",
        "      x = applications.ResNet50V2(include_top=False,weights='imagenet',input_shape=(224,224,3))\n",
        "      target_size = (224,224)\n",
        "    elif(model_name == 'VGG16'):\n",
        "      x = applications.VGG16(include_top=False,weights='imagenet',input_shape=(224,224,3))\n",
        "      target_size = (224,224)\n",
        "    else:\n",
        "      raise Exception(\"Invalid Model name\")\n",
        "    \n",
        "    return train_model(x,retrain_top_layers_percentage,augmentation,epochs,target_size,optimizer)\n",
        "    "
      ],
      "execution_count": null,
      "outputs": []
    }
  ]
}